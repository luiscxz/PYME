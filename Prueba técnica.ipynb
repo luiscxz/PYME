{
 "cells": [
  {
   "cell_type": "markdown",
   "id": "c046138f",
   "metadata": {},
   "source": [
    "**Tabla de contenido**\n",
    "\n",
    "- [Introducción](#Introduccion)\n",
    "- [Requisitos](#Requisitos)\n",
    "- [Lectura de datos](#Lectura-de-datos)\n",
    "- [EDA](#EDA)\n",
    "    - [Box Plot](#Box-Plot)\n",
    "    - [Histogramas](#Histogramas)\n",
    "    - [distribución de clases](#distribucion-de-clases)\n",
    "    - [Resumen](#Resumen)\n",
    "- [Preprocesamiento](#Preprocesamiento)\n",
    "    - [Medcouple](#Medcouple)\n",
    "    - [Matriz oro](#Matriz-oro)\n",
    "    - [Matriz platino](#Matriz-platino)\n",
    "- [Respuestasa preguntas EDA](#Respuestasa-preguntas-EDA)\n",
    "- [feature engineering](#feature-engineering)\n",
    "- [Escalado de datos](#Escalado-de-datos)\n",
    "- [Balanceo de clases](#Balanceo-de-clases)"
   ]
  },
  {
   "cell_type": "markdown",
   "id": "6af00e47",
   "metadata": {},
   "source": [
    "# Introduccion"
   ]
  },
  {
   "cell_type": "markdown",
   "id": "598ec808",
   "metadata": {},
   "source": [
    "En este cuaderno trabajaremos con la base de datos *covalto_sme_credit_data.csv* con el objetivo de desarrollar un modelo predictivo que estime la probabilidad de que un solicitante de crédito PYME incurra en incumplimiento dentro de los siguientes 12 meses.\n",
    "\n",
    "El análisis buscará responder tres preguntas clave:\n",
    "\n",
    "- Identificar los principales factores que explican el incumplimiento crediticio.\n",
    "\n",
    "- Estimar un score de riesgo (probabilidad de incumplimiento) para cada solicitante.\n",
    "\n",
    "- Explorar cómo equilibrar el crecimiento del negocio con la gestión del riesgo a través de distintos umbrales de decisión.\n",
    "\n",
    "- Finalmente, se entrenarán y evaluarán distintos modelos para comparar su desempeño y seleccionar la mejor alternativa para apoyar la toma de decisiones en la aprobación de créditos.\n",
    "\n",
    "No siendo más, ¡comencemos!"
   ]
  },
  {
   "cell_type": "markdown",
   "id": "39a30db7",
   "metadata": {},
   "source": [
    "# Requisitos"
   ]
  },
  {
   "cell_type": "markdown",
   "id": "d6ef4d45",
   "metadata": {},
   "source": [
    "- Python 3.12.11\n",
    "- Plotly\n",
    "- Pandas\n",
    "- Skalearn"
   ]
  },
  {
   "cell_type": "markdown",
   "id": "d644f0f9",
   "metadata": {},
   "source": [
    "# Lectura de datos"
   ]
  },
  {
   "cell_type": "code",
   "execution_count": 1,
   "id": "5859b2cb",
   "metadata": {},
   "outputs": [
    {
     "data": {
      "text/html": [
       "<div>\n",
       "<style scoped>\n",
       "    .dataframe tbody tr th:only-of-type {\n",
       "        vertical-align: middle;\n",
       "    }\n",
       "\n",
       "    .dataframe tbody tr th {\n",
       "        vertical-align: top;\n",
       "    }\n",
       "\n",
       "    .dataframe thead th {\n",
       "        text-align: right;\n",
       "    }\n",
       "</style>\n",
       "<table border=\"1\" class=\"dataframe\">\n",
       "  <thead>\n",
       "    <tr style=\"text-align: right;\">\n",
       "      <th></th>\n",
       "      <th>id_cliente</th>\n",
       "      <th>antiguedad_empresa_anos</th>\n",
       "      <th>sector_industrial</th>\n",
       "      <th>ingresos_anuales_mxn</th>\n",
       "      <th>deuda_total_mxn</th>\n",
       "      <th>historial_pagos_atrasados</th>\n",
       "      <th>calificacion_buro</th>\n",
       "      <th>default_12m</th>\n",
       "      <th>monto_solicitado_mxn</th>\n",
       "    </tr>\n",
       "  </thead>\n",
       "  <tbody>\n",
       "    <tr>\n",
       "      <th>0</th>\n",
       "      <td>COV-1000</td>\n",
       "      <td>9.5</td>\n",
       "      <td>Manufactura</td>\n",
       "      <td>5388966.19</td>\n",
       "      <td>4093290.34</td>\n",
       "      <td>1</td>\n",
       "      <td>D</td>\n",
       "      <td>0</td>\n",
       "      <td>1042088.49</td>\n",
       "    </tr>\n",
       "    <tr>\n",
       "      <th>1</th>\n",
       "      <td>COV-1001</td>\n",
       "      <td>6.9</td>\n",
       "      <td>Construcción</td>\n",
       "      <td>806689.27</td>\n",
       "      <td>184032.16</td>\n",
       "      <td>3</td>\n",
       "      <td>C</td>\n",
       "      <td>0</td>\n",
       "      <td>658716.30</td>\n",
       "    </tr>\n",
       "    <tr>\n",
       "      <th>2</th>\n",
       "      <td>COV-1002</td>\n",
       "      <td>10.2</td>\n",
       "      <td>Servicios Profesionales</td>\n",
       "      <td>4721557.55</td>\n",
       "      <td>2875892.65</td>\n",
       "      <td>1</td>\n",
       "      <td>B</td>\n",
       "      <td>0</td>\n",
       "      <td>656435.67</td>\n",
       "    </tr>\n",
       "    <tr>\n",
       "      <th>3</th>\n",
       "      <td>COV-1003</td>\n",
       "      <td>15.8</td>\n",
       "      <td>Retail</td>\n",
       "      <td>400301.58</td>\n",
       "      <td>284881.54</td>\n",
       "      <td>1</td>\n",
       "      <td>B</td>\n",
       "      <td>0</td>\n",
       "      <td>289018.04</td>\n",
       "    </tr>\n",
       "    <tr>\n",
       "      <th>4</th>\n",
       "      <td>COV-1004</td>\n",
       "      <td>6.6</td>\n",
       "      <td>Retail</td>\n",
       "      <td>6110431.90</td>\n",
       "      <td>5935242.68</td>\n",
       "      <td>2</td>\n",
       "      <td>NaN</td>\n",
       "      <td>0</td>\n",
       "      <td>694186.35</td>\n",
       "    </tr>\n",
       "  </tbody>\n",
       "</table>\n",
       "</div>"
      ],
      "text/plain": [
       "  id_cliente  antiguedad_empresa_anos        sector_industrial  \\\n",
       "0   COV-1000                      9.5              Manufactura   \n",
       "1   COV-1001                      6.9             Construcción   \n",
       "2   COV-1002                     10.2  Servicios Profesionales   \n",
       "3   COV-1003                     15.8                   Retail   \n",
       "4   COV-1004                      6.6                   Retail   \n",
       "\n",
       "   ingresos_anuales_mxn  deuda_total_mxn  historial_pagos_atrasados  \\\n",
       "0            5388966.19       4093290.34                          1   \n",
       "1             806689.27        184032.16                          3   \n",
       "2            4721557.55       2875892.65                          1   \n",
       "3             400301.58        284881.54                          1   \n",
       "4            6110431.90       5935242.68                          2   \n",
       "\n",
       "  calificacion_buro  default_12m  monto_solicitado_mxn  \n",
       "0                 D            0            1042088.49  \n",
       "1                 C            0             658716.30  \n",
       "2                 B            0             656435.67  \n",
       "3                 B            0             289018.04  \n",
       "4               NaN            0             694186.35  "
      ]
     },
     "execution_count": 1,
     "metadata": {},
     "output_type": "execute_result"
    }
   ],
   "source": [
    "import pandas as pd\n",
    "import numpy as np\n",
    "import os\n",
    "\n",
    "file_path = lambda file : os.path.join(os.getcwd(),'data',file)\n",
    "credit_data = pd.read_csv(file_path('covalto_sme_credit_data.csv'))\n",
    "credit_data.head()"
   ]
  },
  {
   "cell_type": "markdown",
   "id": "732da50e",
   "metadata": {},
   "source": [
    "# EDA"
   ]
  },
  {
   "cell_type": "markdown",
   "id": "348346d9",
   "metadata": {},
   "source": [
    "El propósito principal del análisis exploratorio de datos es comprender el estado y las características de la información antes de decidir qué técnicas de ciencia de datos o machine learning aplicar. Eso implica organizar los datos, conocer su contenido, identificar las variables más relevantes y analizar como se relacionan entre sí, detectar patrones, evaluar la presencia de datos faltantes y valores atípicos y finalmente extraer conclusiones apartir de este proceso.\n",
    "\n",
    "En general el EDA busca obtener una visión de cómo estan los datos, y para esto realizaremos las siguientes etapas:\n",
    "\n",
    "- Consultar la cantidad de registros y columnas en la base de datos.\n",
    "- Consultar los estadisticos básicos del dataframe\n",
    "- Consultar los valores faltantes\n",
    "- Evaluar la presencia de atípicos\n",
    "- Analizar la distribución de los datos.\n",
    "\n",
    "Estos puntos analizados nos dan paso al preprocesamiento de los datos, con lo cual buscamos obtener una matriz limpia que la llamaremos Matriz Oro, con esta buscaremos responder las preguntas de investigación para el análisis exploratorio.\n",
    "\n",
    "1. Cuáles son los sectores industriales en donde los clientes presentan mayores ingresos anuales?\n",
    "2. Cuáles son los sectores industrial en donde los clientes tienen más deuda?\n",
    "3. Cuáles son las calificaciones buro con más historial de pagos atrazados.?\n",
    "4. ¿Cuáles son los principales impulsores del incumplimiento crediticio entre nuestros clientes PYME?\n",
    "5. ¿Cómo podemos cuantificar el riesgo asociado con cada nueva solicitud de préstamo?\n",
    "6. ¿Cómo deberíamos equilibrar los objetivos de crecimiento del negocio (aprobar más préstamos) con la mitigación de riesgos (minimizar los incumplimientos)?\n",
    "\n",
    "`Hipotesis inicial`: La deuda total es el prinicial inpulsor de incumplimiento\n",
    "\n",
    "Dicho esto, procedamos con la exploración de los datos."
   ]
  },
  {
   "cell_type": "code",
   "execution_count": 2,
   "id": "0a420185",
   "metadata": {},
   "outputs": [
    {
     "name": "stdout",
     "output_type": "stream",
     "text": [
      "la cantidad de resgistros que tiene el dataframe son: 1500\n",
      "La cantidad de características son: 9\n"
     ]
    }
   ],
   "source": [
    "print(f\"la cantidad de resgistros que tiene el dataframe son: {credit_data.shape[0]}\")\n",
    "print(f\"La cantidad de características son: {credit_data.shape[1]}\")"
   ]
  },
  {
   "cell_type": "markdown",
   "id": "20af90a9",
   "metadata": {},
   "source": [
    "Podemos observar que la base de datos es pequeña con solo 1500 registros y 9 columnas o características. Veamos los estadísticos básicos."
   ]
  },
  {
   "cell_type": "code",
   "execution_count": 3,
   "id": "d96e81cf",
   "metadata": {},
   "outputs": [
    {
     "data": {
      "text/html": [
       "<div>\n",
       "<style scoped>\n",
       "    .dataframe tbody tr th:only-of-type {\n",
       "        vertical-align: middle;\n",
       "    }\n",
       "\n",
       "    .dataframe tbody tr th {\n",
       "        vertical-align: top;\n",
       "    }\n",
       "\n",
       "    .dataframe thead th {\n",
       "        text-align: right;\n",
       "    }\n",
       "</style>\n",
       "<table border=\"1\" class=\"dataframe\">\n",
       "  <thead>\n",
       "    <tr style=\"text-align: right;\">\n",
       "      <th></th>\n",
       "      <th>antiguedad_empresa_anos</th>\n",
       "      <th>ingresos_anuales_mxn</th>\n",
       "      <th>deuda_total_mxn</th>\n",
       "      <th>historial_pagos_atrasados</th>\n",
       "      <th>default_12m</th>\n",
       "      <th>monto_solicitado_mxn</th>\n",
       "    </tr>\n",
       "  </thead>\n",
       "  <tbody>\n",
       "    <tr>\n",
       "      <th>count</th>\n",
       "      <td>1425.00</td>\n",
       "      <td>1455.00</td>\n",
       "      <td>1500.00</td>\n",
       "      <td>1500.00</td>\n",
       "      <td>1500.00</td>\n",
       "      <td>1500.00</td>\n",
       "    </tr>\n",
       "    <tr>\n",
       "      <th>mean</th>\n",
       "      <td>8.57</td>\n",
       "      <td>5415924.13</td>\n",
       "      <td>3145138.29</td>\n",
       "      <td>1.50</td>\n",
       "      <td>0.12</td>\n",
       "      <td>731527.56</td>\n",
       "    </tr>\n",
       "    <tr>\n",
       "      <th>std</th>\n",
       "      <td>4.54</td>\n",
       "      <td>9924932.50</td>\n",
       "      <td>4365469.32</td>\n",
       "      <td>1.22</td>\n",
       "      <td>0.32</td>\n",
       "      <td>994645.96</td>\n",
       "    </tr>\n",
       "    <tr>\n",
       "      <th>min</th>\n",
       "      <td>1.50</td>\n",
       "      <td>161517.32</td>\n",
       "      <td>0.00</td>\n",
       "      <td>0.00</td>\n",
       "      <td>0.00</td>\n",
       "      <td>17658.70</td>\n",
       "    </tr>\n",
       "    <tr>\n",
       "      <th>25%</th>\n",
       "      <td>5.40</td>\n",
       "      <td>1595236.54</td>\n",
       "      <td>869855.46</td>\n",
       "      <td>1.00</td>\n",
       "      <td>0.00</td>\n",
       "      <td>207512.72</td>\n",
       "    </tr>\n",
       "    <tr>\n",
       "      <th>50%</th>\n",
       "      <td>7.60</td>\n",
       "      <td>3097466.73</td>\n",
       "      <td>1745122.12</td>\n",
       "      <td>1.00</td>\n",
       "      <td>0.00</td>\n",
       "      <td>423847.26</td>\n",
       "    </tr>\n",
       "    <tr>\n",
       "      <th>75%</th>\n",
       "      <td>10.40</td>\n",
       "      <td>5975456.75</td>\n",
       "      <td>3638661.85</td>\n",
       "      <td>2.00</td>\n",
       "      <td>0.00</td>\n",
       "      <td>878026.50</td>\n",
       "    </tr>\n",
       "    <tr>\n",
       "      <th>max</th>\n",
       "      <td>50.70</td>\n",
       "      <td>289841674.60</td>\n",
       "      <td>55109672.87</td>\n",
       "      <td>7.00</td>\n",
       "      <td>1.00</td>\n",
       "      <td>15082643.26</td>\n",
       "    </tr>\n",
       "  </tbody>\n",
       "</table>\n",
       "</div>"
      ],
      "text/plain": [
       "       antiguedad_empresa_anos  ingresos_anuales_mxn  deuda_total_mxn  \\\n",
       "count                  1425.00               1455.00          1500.00   \n",
       "mean                      8.57            5415924.13       3145138.29   \n",
       "std                       4.54            9924932.50       4365469.32   \n",
       "min                       1.50             161517.32             0.00   \n",
       "25%                       5.40            1595236.54        869855.46   \n",
       "50%                       7.60            3097466.73       1745122.12   \n",
       "75%                      10.40            5975456.75       3638661.85   \n",
       "max                      50.70          289841674.60      55109672.87   \n",
       "\n",
       "       historial_pagos_atrasados  default_12m  monto_solicitado_mxn  \n",
       "count                    1500.00      1500.00               1500.00  \n",
       "mean                        1.50         0.12             731527.56  \n",
       "std                         1.22         0.32             994645.96  \n",
       "min                         0.00         0.00              17658.70  \n",
       "25%                         1.00         0.00             207512.72  \n",
       "50%                         1.00         0.00             423847.26  \n",
       "75%                         2.00         0.00             878026.50  \n",
       "max                         7.00         1.00           15082643.26  "
      ]
     },
     "execution_count": 3,
     "metadata": {},
     "output_type": "execute_result"
    }
   ],
   "source": [
    "pd.set_option('display.float_format', '{:.2f}'.format)\n",
    "credit_data.describe()"
   ]
  },
  {
   "cell_type": "markdown",
   "id": "e01d4528",
   "metadata": {},
   "source": [
    "Perfecto, no encontramos valores anómalos como -99999, lo que indica que, por el momento, no debemos preocuparnos por estos datos inusuales. Sin embargo, se pueden observar máximos muy elevados, lo que sugiere la posible presencia de valores atípicos.\n",
    "\n",
    "Veamos ahora si hay valores faltantes."
   ]
  },
  {
   "cell_type": "code",
   "execution_count": 4,
   "id": "07f93159",
   "metadata": {},
   "outputs": [
    {
     "data": {
      "text/plain": [
       "id_cliente                     0\n",
       "antiguedad_empresa_anos       75\n",
       "sector_industrial              0\n",
       "ingresos_anuales_mxn          45\n",
       "deuda_total_mxn                0\n",
       "historial_pagos_atrasados      0\n",
       "calificacion_buro            120\n",
       "default_12m                    0\n",
       "monto_solicitado_mxn           0\n",
       "dtype: int64"
      ]
     },
     "execution_count": 4,
     "metadata": {},
     "output_type": "execute_result"
    }
   ],
   "source": [
    "credit_data.isnull().sum()"
   ]
  },
  {
   "cell_type": "markdown",
   "id": "15e941e1",
   "metadata": {},
   "source": [
    "Observamos que únicamente tres columnas presentan valores faltantes, las cuales son:\n",
    "\n",
    "- antiguedad_empresa_anos\n",
    "- ingresos_anuales_mxn\n",
    "- calificación_buro\n",
    "\n",
    "A continuación, revisemos si hay valores duplicados."
   ]
  },
  {
   "cell_type": "code",
   "execution_count": 5,
   "id": "caaa3206",
   "metadata": {},
   "outputs": [
    {
     "name": "stdout",
     "output_type": "stream",
     "text": [
      "Duplicados (sin contar la primera aparición): 0\n"
     ]
    }
   ],
   "source": [
    "print(f\"Duplicados (sin contar la primera aparición): {credit_data.duplicated().sum()}\")"
   ]
  },
  {
   "cell_type": "markdown",
   "id": "17644e5e",
   "metadata": {},
   "source": [
    "Esto es positivo; no hay registros duplicados. Ahora, examinemos qué tipos de datos contiene el dataframe."
   ]
  },
  {
   "cell_type": "code",
   "execution_count": 6,
   "id": "57d74661",
   "metadata": {},
   "outputs": [
    {
     "name": "stdout",
     "output_type": "stream",
     "text": [
      "<class 'pandas.core.frame.DataFrame'>\n",
      "RangeIndex: 1500 entries, 0 to 1499\n",
      "Data columns (total 9 columns):\n",
      " #   Column                     Non-Null Count  Dtype  \n",
      "---  ------                     --------------  -----  \n",
      " 0   id_cliente                 1500 non-null   object \n",
      " 1   antiguedad_empresa_anos    1425 non-null   float64\n",
      " 2   sector_industrial          1500 non-null   object \n",
      " 3   ingresos_anuales_mxn       1455 non-null   float64\n",
      " 4   deuda_total_mxn            1500 non-null   float64\n",
      " 5   historial_pagos_atrasados  1500 non-null   int64  \n",
      " 6   calificacion_buro          1380 non-null   object \n",
      " 7   default_12m                1500 non-null   int64  \n",
      " 8   monto_solicitado_mxn       1500 non-null   float64\n",
      "dtypes: float64(4), int64(2), object(3)\n",
      "memory usage: 105.6+ KB\n"
     ]
    }
   ],
   "source": [
    "credit_data.info()"
   ]
  },
  {
   "cell_type": "markdown",
   "id": "ae6c1f2b",
   "metadata": {},
   "source": [
    "`Variables numéricas (6):`\n",
    "\n",
    "- antiguedad_empresa_anos\n",
    "- ingresos_anuales_mxn\n",
    "- deuda_total_mxn\n",
    "- historial_pagos_atrasados\n",
    "- default_12m\n",
    "- monto_solicitado_mxn\n",
    "\n",
    "\n",
    "`Variables categóricas (3):`\n",
    "\n",
    "- id_cliente\n",
    "- sector_industrial\n",
    "- calificacion_buro\n",
    "\n",
    "Perfecto, ya tenemos una idea clara del estado de los datos. La columna calificación_buro es categórica y presenta 120 valores faltantes. Además, solo dos columnas numéricas (antigüedad_empresa_anos e ingresos_anuales_mxn) contienen 75 y 45 valores faltantes, respectivamente. Por el momento, procederemos a visualizar los boxplots y las distribuciones de los datos. En la etapa de preprocesamiento, abordaremos los valores faltantes y los valores atípicos identificados."
   ]
  },
  {
   "cell_type": "markdown",
   "id": "bdced88d",
   "metadata": {},
   "source": [
    "## Box Plot"
   ]
  },
  {
   "cell_type": "code",
   "execution_count": 7,
   "id": "73fbd8f0",
   "metadata": {},
   "outputs": [
    {
     "data": {
      "application/vnd.plotly.v1+json": {
       "config": {
        "plotlyServerURL": "https://plot.ly"
       },
       "data": [
        {
         "boxpoints": "outliers",
         "fillcolor": "#636EFA",
         "line": {
          "color": "#636EFA"
         },
         "marker": {
          "color": "#636EFA",
          "size": 4
         },
         "name": "antiguedad_empresa_anos",
         "type": "box",
         "y": {
          "bdata": "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",
          "dtype": "f8"
         }
        },
        {
         "boxpoints": "outliers",
         "fillcolor": "#EF553B",
         "line": {
          "color": "#EF553B"
         },
         "marker": {
          "color": "#EF553B",
          "size": 4
         },
         "name": "ingresos_anuales_mxn",
         "type": "box",
         "y": {
          "bdata": "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",
          "dtype": "f8"
         }
        },
        {
         "boxpoints": "outliers",
         "fillcolor": "#00CC96",
         "line": {
          "color": "#00CC96"
         },
         "marker": {
          "color": "#00CC96",
          "size": 4
         },
         "name": "deuda_total_mxn",
         "type": "box",
         "y": {
          "bdata": "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",
          "dtype": "f8"
         }
        },
        {
         "boxpoints": "outliers",
         "fillcolor": "#AB63FA",
         "line": {
          "color": "#AB63FA"
         },
         "marker": {
          "color": "#AB63FA",
          "size": 4
         },
         "name": "historial_pagos_atrasados",
         "type": "box",
         "y": {
          "bdata": "AQMBAQIBAAMDAwECAAEBAQEABAMDBQMDAgEBAgACBAIDAAACAwIAAQECAQECAgEAAQICAQADBAACBgEDAQABAgECAQMCAgMAAgICBQIAAgQAAQMBAAEBAgABAQIEAgACAQEAAQEBAgEBAwIBBAEBAQABAAEBAwIAAQICBgECBAAAAQMAAAEAAQICAgIAAQACAgIBAwICAwIAAQEBAAAAAgUCAQIBAwAAAAECAAEAAAIBAgIBAQEBAAMAAgEFAQIBAQEBAQABAQIAAgIBAQMDAQIAAwECAAEBAgEBAwIBAwIAAAEBAQEBAQMBAgAAAAMCAQAAAgIAAgIBAQIDAwICAgIEAAEBAAEDAgADAwEEAQMCAwEBAAEEAQICAQMBAAUBAQEBAQACAgEDAQADAwABAgEAAAIDAAABAwAFAQEDAQABAQECAQACAQICAQEAAgEEAQMBAgIEAQADBgEAAQEAAQEEBAIAAQECAAUCAgEBAAMEAgEDAQIBAAADAgADAQEBAQIAAAEBAQEDAgIAAAIAAgMDAQIBAwIBAgABAAACAwICAAEAAQMBAAEAAAEAAgAEAQMAAwECAwIAAQICAQACAwUBAQEBBAEDAAEBAQEDAAMCAQMBAgEAAQEAAQEDAQEBAQEDAwECAgUCAgICBAEBAAYAAwEBAAEBAQIDAAICAgEBAAMBAQQCBgEBAgIBAgMCAAEBAQABAgEBAQIAAAACAQIAAQIDAwIAAQMCAAIEAwEDAAMBAQQCBQMCAAICAQMBAAMEAQEDAAEFAAIAAQQEAAcCAgEDAAEAAQAAAAMBAgEBAQEBBQABAQIBAQMBAAEBAwECAgACAAABAgMCAQECAAIDAgIAAAIABQAAAgIAAQICAgEEBAABAAECAwABBAICBAECAgMAAQECAAICAQICAQIBAgAAAAABAwECAAECAAICAAECAwIBAAACAQEBAQEAAwICAQACAgIDAwEAAAQCAgIBAAQDBAICAQIBBAIEAQEAAAADAgICAAABAQIBAQADAgMCAQEDAwACAgACAwECAwIBAQIDAQICAgMCAgEAAAEFAwQBAQIAAQEBAQIDAAECAQIBAwMCAAEDAQEBAgIDAQIBAgICAAEAAQMCAQICAgABAQEBAAABAQADAgIBAAIAAQECAQACAAICAAIBAQAEAgMCAwIAAgEBAwADAgECAgIAAQABAwEDAAEBBAQBAQMBAQIBAgABAQABAQADAgICAQICAwEDAQIBAAICAAMAAAIEAQMDAgEDBAICAwABAQECBAICAAQCAQACBAAAAgABAgEBAAAAAAIFAgEEAAEAAgAABAMCAwEBAAABAQABAgACAQIBAgABAQQBAgEBAQMBAQABAQICAQMAAAEDAQQAAQIAAAAAAAECAwMDAgECAQEBAgEAAAIAAQECAwEBAAQAAgAABAQEAQMDAAADAQQCAAABAQEBAAEBAgADAwACBQIAAwABAgABAgEAAQMDAAUEAgABAAEBAwEAAQIAAgABAQMBAQIEAgEBAAICAgECAgIBAwMBAwIEAgMBAwEDAAABAgEAAgADAgIBAAABAgQDAwIBAAIABAIAAAEBAgAAAQIBAwEBAwICAQMCAgIBAgEAAgEEAgEAAAIBAQIABAEAAgAAAAAEAgQBAgEAAQICAgEBAgAAAQIDAgECAQMBAAEAAwECAQQAAAIBAgEBAAIBAAICAQECAQECAAMCAQMFAQECAgAABAEAAAICAwECAgIAAQIAAAMCAgEBAAMBAAMBAgEAAgABAQEBAQAFAAADAQMCAgECAAEAAQABAQMAAAIBBAABAgQDAQECAAEAAQAEAQUBAAIBAgMCAAECAAAEAQICAAIDAgIAAAMBAQECAwIBAAABAgICAAMCAwECAQIBAgAAAgAAAgEGAQEAAQEEAAEAAQEAAAACAQECBAIAAQEEAAEBAgEFAgABAgEBAQAAAAMAAQIBAQEBAQICAQECAQIBAwIBAgQAAwEDAAAB",
          "dtype": "i1"
         }
        },
        {
         "boxpoints": "outliers",
         "fillcolor": "#FFA15A",
         "line": {
          "color": "#FFA15A"
         },
         "marker": {
          "color": "#FFA15A",
          "size": 4
         },
         "name": "default_12m",
         "type": "box",
         "y": {
          "bdata": "AAAAAAAAAAAAAAEAAAAAAQEAAAEBAQAAAAAAAAAAAAAAAAABAQAAAAAAAAAAAQABAAAAAAAAAAAAAAAAAAAAAQAAAAAAAAABAAAAAAAAAAEAAAABAAAAAAAAAAEAAAABAAEAAAAAAAAAAAABAAAAAAEBAAAAAAABAAAAAAAAAQAAAAAAAAABAAAAAAAAAAAAAAAAAAAAAAAAAAEAAAAAAAEAAAAAAAAAAAAAAAAAAAEAAAAAAQAAAAAAAAABAAABAAAAAAAAAAAAAAAAAAAAAAAAAAAAAAABAAAAAAEAAAAAAAAAAAABAAAAAAAAAAAAAAAAAAAAAAEAAAAAAAAAAAABAAAAAAAAAAAAAAAAAQAAAAAAAAAAAAAAAAAAAAAAAAAAAAAAAAAAAAAAAQAAAAAAAAAAAAAAAAAAAAABAAAAAAAAAAEAAAAAAAAAAQABAAAAAAAAAAAAAAAAAAAAAAAAAAEAAAAAAAEAAAAAAAAAAAAAAAAAAAAAAAABAAAAAAAAAAAAAAABAAAAAAAAAAEBAAAAAAAAAQAAAAAAAAEAAAABAAAAAAAAAAAAAAEAAAAAAAAAAAEAAAAAAAAAAAEAAAABAAAAAAAAAAAAAQABAAAAAAAAAAAAAAABAAAAAAAAAAAAAAAAAAAAAAAAAAAAAQAAAAAAAAEAAAAAAAAAAAAAAAAAAQAAAAAAAAEAAAAAAQAAAQAAAAAAAAAAAAAAAAAAAAAAAAEBAAAAAAAAAAAAAQAAAAAAAQABAAAAAAAAAAAAAAAAAAAAAAAAAAAAAAABAAAAAAABAAAAAQABAAAAAAAAAAABAAEAAAAAAAAAAAAAAAAAAAAAAAAAAAAAAAAAAAAAAAAAAAEAAAAAAAABAQAAAAEAAAAAAAAAAQAAAAAAAAAAAAAAAAAAAAAAAQAAAAAAAAABAAAAAAABAAAAAAAAAAAAAAAAAAAAAAAAAAAAAAAAAAAAAAAAAAAAAAABAQAAAAAAAQABAAAAAAAAAAAAAAAAAAAAAAAAAAEAAAAAAAAAAQAAAAEAAAAAAAAAAAEAAAABAAAAAAAAAAAAAAAAAAAAAAAAAQEAAAAAAAEAAAABAAAAAAEAAAAAAAAAAAEBAAAAAAEAAAABAAAAAAAAAAAAAAAAAAAAAAAAAAAAAAAAAAAAAAAAAAAAAAAAAAABAAAAAAAAAAAAAAAAAAAAAAAAAQEBAAEAAAAAAAAAAAAAAAAAAAAAAAAAAAAAAAEAAAAAAAAAAAAAAAAAAQABAAAAAAAAAAAAAAAAAAEAAAAAAQAAAAAAAQAAAAAAAAAAAQAAAAAAAAEAAAAAAAAAAAAAAAABAAAAAAAAAAABAAEAAAEAAAAAAAABAAAAAAAAAAAAAAAAAAABAAAAAAEAAAABAAAAAAAAAAEAAAAAAAEAAAAAAAAAAAAAAAAAAAABAAAAAAAAAAAAAAAAAAAAAAEBAAAAAAAAAAAAAAAAAAEAAAAAAAAAAAAAAAAAAQAAAQAAAAAAAAAAAAAAAAAAAAAAAAAAAAAAAAAAAAAAAAABAAABAAAAAQAAAAEBAAAAAAAAAAAAAAAAAAAAAAAAAAAAAQAAAAAAAAABAAABAAAAAQABAAAAAAEAAAAAAAAAAAAAAAAAAQAAAAAAAAAAAAAAAAAAAAAAAAAAAAAAAAAAAAAAAAAAAQAAAAEAAAAAAAAAAAAAAAAAAAAAAQEBAAAAAAAAAAAAAAAAAAEAAAAAAQAAAAABAAAAAAEBAAAAAAAAAQABAAAAAAAAAQAAAAABAAAAAAAAAAAAAAEAAAABAAEAAAABAAAAAAAAAAAAAAAAAAABAAEAAAEAAAAAAAAAAAAAAAEAAAAAAAAAAAEAAAAAAAAAAAAAAAAAAAAAAAAAAAEAAAAAAAAAAAAAAAABAAABAAAAAAAAAAAAAAABAQAAAAAAAQAAAAAAAAAAAAAAAAEAAAAAAQABAAAAAAABAAABAAEAAQAAAAEAAAAAAAAA",
          "dtype": "i1"
         }
        },
        {
         "boxpoints": "outliers",
         "fillcolor": "#19D3F3",
         "line": {
          "color": "#19D3F3"
         },
         "marker": {
          "color": "#19D3F3",
          "size": 4
         },
         "name": "monto_solicitado_mxn",
         "type": "box",
         "y": {
          "bdata": "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",
          "dtype": "f8"
         }
        }
       ],
       "layout": {
        "autosize": true,
        "font": {
         "family": "Arial",
         "size": 14
        },
        "height": 300,
        "margin": {
         "b": 80,
         "l": 40,
         "r": 40,
         "t": 60
        },
        "showlegend": false,
        "template": {
         "data": {
          "bar": [
           {
            "error_x": {
             "color": "#2a3f5f"
            },
            "error_y": {
             "color": "#2a3f5f"
            },
            "marker": {
             "line": {
              "color": "white",
              "width": 0.5
             },
             "pattern": {
              "fillmode": "overlay",
              "size": 10,
              "solidity": 0.2
             }
            },
            "type": "bar"
           }
          ],
          "barpolar": [
           {
            "marker": {
             "line": {
              "color": "white",
              "width": 0.5
             },
             "pattern": {
              "fillmode": "overlay",
              "size": 10,
              "solidity": 0.2
             }
            },
            "type": "barpolar"
           }
          ],
          "carpet": [
           {
            "aaxis": {
             "endlinecolor": "#2a3f5f",
             "gridcolor": "#C8D4E3",
             "linecolor": "#C8D4E3",
             "minorgridcolor": "#C8D4E3",
             "startlinecolor": "#2a3f5f"
            },
            "baxis": {
             "endlinecolor": "#2a3f5f",
             "gridcolor": "#C8D4E3",
             "linecolor": "#C8D4E3",
             "minorgridcolor": "#C8D4E3",
             "startlinecolor": "#2a3f5f"
            },
            "type": "carpet"
           }
          ],
          "choropleth": [
           {
            "colorbar": {
             "outlinewidth": 0,
             "ticks": ""
            },
            "type": "choropleth"
           }
          ],
          "contour": [
           {
            "colorbar": {
             "outlinewidth": 0,
             "ticks": ""
            },
            "colorscale": [
             [
              0,
              "#0d0887"
             ],
             [
              0.1111111111111111,
              "#46039f"
             ],
             [
              0.2222222222222222,
              "#7201a8"
             ],
             [
              0.3333333333333333,
              "#9c179e"
             ],
             [
              0.4444444444444444,
              "#bd3786"
             ],
             [
              0.5555555555555556,
              "#d8576b"
             ],
             [
              0.6666666666666666,
              "#ed7953"
             ],
             [
              0.7777777777777778,
              "#fb9f3a"
             ],
             [
              0.8888888888888888,
              "#fdca26"
             ],
             [
              1,
              "#f0f921"
             ]
            ],
            "type": "contour"
           }
          ],
          "contourcarpet": [
           {
            "colorbar": {
             "outlinewidth": 0,
             "ticks": ""
            },
            "type": "contourcarpet"
           }
          ],
          "heatmap": [
           {
            "colorbar": {
             "outlinewidth": 0,
             "ticks": ""
            },
            "colorscale": [
             [
              0,
              "#0d0887"
             ],
             [
              0.1111111111111111,
              "#46039f"
             ],
             [
              0.2222222222222222,
              "#7201a8"
             ],
             [
              0.3333333333333333,
              "#9c179e"
             ],
             [
              0.4444444444444444,
              "#bd3786"
             ],
             [
              0.5555555555555556,
              "#d8576b"
             ],
             [
              0.6666666666666666,
              "#ed7953"
             ],
             [
              0.7777777777777778,
              "#fb9f3a"
             ],
             [
              0.8888888888888888,
              "#fdca26"
             ],
             [
              1,
              "#f0f921"
             ]
            ],
            "type": "heatmap"
           }
          ],
          "histogram": [
           {
            "marker": {
             "pattern": {
              "fillmode": "overlay",
              "size": 10,
              "solidity": 0.2
             }
            },
            "type": "histogram"
           }
          ],
          "histogram2d": [
           {
            "colorbar": {
             "outlinewidth": 0,
             "ticks": ""
            },
            "colorscale": [
             [
              0,
              "#0d0887"
             ],
             [
              0.1111111111111111,
              "#46039f"
             ],
             [
              0.2222222222222222,
              "#7201a8"
             ],
             [
              0.3333333333333333,
              "#9c179e"
             ],
             [
              0.4444444444444444,
              "#bd3786"
             ],
             [
              0.5555555555555556,
              "#d8576b"
             ],
             [
              0.6666666666666666,
              "#ed7953"
             ],
             [
              0.7777777777777778,
              "#fb9f3a"
             ],
             [
              0.8888888888888888,
              "#fdca26"
             ],
             [
              1,
              "#f0f921"
             ]
            ],
            "type": "histogram2d"
           }
          ],
          "histogram2dcontour": [
           {
            "colorbar": {
             "outlinewidth": 0,
             "ticks": ""
            },
            "colorscale": [
             [
              0,
              "#0d0887"
             ],
             [
              0.1111111111111111,
              "#46039f"
             ],
             [
              0.2222222222222222,
              "#7201a8"
             ],
             [
              0.3333333333333333,
              "#9c179e"
             ],
             [
              0.4444444444444444,
              "#bd3786"
             ],
             [
              0.5555555555555556,
              "#d8576b"
             ],
             [
              0.6666666666666666,
              "#ed7953"
             ],
             [
              0.7777777777777778,
              "#fb9f3a"
             ],
             [
              0.8888888888888888,
              "#fdca26"
             ],
             [
              1,
              "#f0f921"
             ]
            ],
            "type": "histogram2dcontour"
           }
          ],
          "mesh3d": [
           {
            "colorbar": {
             "outlinewidth": 0,
             "ticks": ""
            },
            "type": "mesh3d"
           }
          ],
          "parcoords": [
           {
            "line": {
             "colorbar": {
              "outlinewidth": 0,
              "ticks": ""
             }
            },
            "type": "parcoords"
           }
          ],
          "pie": [
           {
            "automargin": true,
            "type": "pie"
           }
          ],
          "scatter": [
           {
            "fillpattern": {
             "fillmode": "overlay",
             "size": 10,
             "solidity": 0.2
            },
            "type": "scatter"
           }
          ],
          "scatter3d": [
           {
            "line": {
             "colorbar": {
              "outlinewidth": 0,
              "ticks": ""
             }
            },
            "marker": {
             "colorbar": {
              "outlinewidth": 0,
              "ticks": ""
             }
            },
            "type": "scatter3d"
           }
          ],
          "scattercarpet": [
           {
            "marker": {
             "colorbar": {
              "outlinewidth": 0,
              "ticks": ""
             }
            },
            "type": "scattercarpet"
           }
          ],
          "scattergeo": [
           {
            "marker": {
             "colorbar": {
              "outlinewidth": 0,
              "ticks": ""
             }
            },
            "type": "scattergeo"
           }
          ],
          "scattergl": [
           {
            "marker": {
             "colorbar": {
              "outlinewidth": 0,
              "ticks": ""
             }
            },
            "type": "scattergl"
           }
          ],
          "scattermap": [
           {
            "marker": {
             "colorbar": {
              "outlinewidth": 0,
              "ticks": ""
             }
            },
            "type": "scattermap"
           }
          ],
          "scattermapbox": [
           {
            "marker": {
             "colorbar": {
              "outlinewidth": 0,
              "ticks": ""
             }
            },
            "type": "scattermapbox"
           }
          ],
          "scatterpolar": [
           {
            "marker": {
             "colorbar": {
              "outlinewidth": 0,
              "ticks": ""
             }
            },
            "type": "scatterpolar"
           }
          ],
          "scatterpolargl": [
           {
            "marker": {
             "colorbar": {
              "outlinewidth": 0,
              "ticks": ""
             }
            },
            "type": "scatterpolargl"
           }
          ],
          "scatterternary": [
           {
            "marker": {
             "colorbar": {
              "outlinewidth": 0,
              "ticks": ""
             }
            },
            "type": "scatterternary"
           }
          ],
          "surface": [
           {
            "colorbar": {
             "outlinewidth": 0,
             "ticks": ""
            },
            "colorscale": [
             [
              0,
              "#0d0887"
             ],
             [
              0.1111111111111111,
              "#46039f"
             ],
             [
              0.2222222222222222,
              "#7201a8"
             ],
             [
              0.3333333333333333,
              "#9c179e"
             ],
             [
              0.4444444444444444,
              "#bd3786"
             ],
             [
              0.5555555555555556,
              "#d8576b"
             ],
             [
              0.6666666666666666,
              "#ed7953"
             ],
             [
              0.7777777777777778,
              "#fb9f3a"
             ],
             [
              0.8888888888888888,
              "#fdca26"
             ],
             [
              1,
              "#f0f921"
             ]
            ],
            "type": "surface"
           }
          ],
          "table": [
           {
            "cells": {
             "fill": {
              "color": "#EBF0F8"
             },
             "line": {
              "color": "white"
             }
            },
            "header": {
             "fill": {
              "color": "#C8D4E3"
             },
             "line": {
              "color": "white"
             }
            },
            "type": "table"
           }
          ]
         },
         "layout": {
          "annotationdefaults": {
           "arrowcolor": "#2a3f5f",
           "arrowhead": 0,
           "arrowwidth": 1
          },
          "autotypenumbers": "strict",
          "coloraxis": {
           "colorbar": {
            "outlinewidth": 0,
            "ticks": ""
           }
          },
          "colorscale": {
           "diverging": [
            [
             0,
             "#8e0152"
            ],
            [
             0.1,
             "#c51b7d"
            ],
            [
             0.2,
             "#de77ae"
            ],
            [
             0.3,
             "#f1b6da"
            ],
            [
             0.4,
             "#fde0ef"
            ],
            [
             0.5,
             "#f7f7f7"
            ],
            [
             0.6,
             "#e6f5d0"
            ],
            [
             0.7,
             "#b8e186"
            ],
            [
             0.8,
             "#7fbc41"
            ],
            [
             0.9,
             "#4d9221"
            ],
            [
             1,
             "#276419"
            ]
           ],
           "sequential": [
            [
             0,
             "#0d0887"
            ],
            [
             0.1111111111111111,
             "#46039f"
            ],
            [
             0.2222222222222222,
             "#7201a8"
            ],
            [
             0.3333333333333333,
             "#9c179e"
            ],
            [
             0.4444444444444444,
             "#bd3786"
            ],
            [
             0.5555555555555556,
             "#d8576b"
            ],
            [
             0.6666666666666666,
             "#ed7953"
            ],
            [
             0.7777777777777778,
             "#fb9f3a"
            ],
            [
             0.8888888888888888,
             "#fdca26"
            ],
            [
             1,
             "#f0f921"
            ]
           ],
           "sequentialminus": [
            [
             0,
             "#0d0887"
            ],
            [
             0.1111111111111111,
             "#46039f"
            ],
            [
             0.2222222222222222,
             "#7201a8"
            ],
            [
             0.3333333333333333,
             "#9c179e"
            ],
            [
             0.4444444444444444,
             "#bd3786"
            ],
            [
             0.5555555555555556,
             "#d8576b"
            ],
            [
             0.6666666666666666,
             "#ed7953"
            ],
            [
             0.7777777777777778,
             "#fb9f3a"
            ],
            [
             0.8888888888888888,
             "#fdca26"
            ],
            [
             1,
             "#f0f921"
            ]
           ]
          },
          "colorway": [
           "#636efa",
           "#EF553B",
           "#00cc96",
           "#ab63fa",
           "#FFA15A",
           "#19d3f3",
           "#FF6692",
           "#B6E880",
           "#FF97FF",
           "#FECB52"
          ],
          "font": {
           "color": "#2a3f5f"
          },
          "geo": {
           "bgcolor": "white",
           "lakecolor": "white",
           "landcolor": "white",
           "showlakes": true,
           "showland": true,
           "subunitcolor": "#C8D4E3"
          },
          "hoverlabel": {
           "align": "left"
          },
          "hovermode": "closest",
          "mapbox": {
           "style": "light"
          },
          "paper_bgcolor": "white",
          "plot_bgcolor": "white",
          "polar": {
           "angularaxis": {
            "gridcolor": "#EBF0F8",
            "linecolor": "#EBF0F8",
            "ticks": ""
           },
           "bgcolor": "white",
           "radialaxis": {
            "gridcolor": "#EBF0F8",
            "linecolor": "#EBF0F8",
            "ticks": ""
           }
          },
          "scene": {
           "xaxis": {
            "backgroundcolor": "white",
            "gridcolor": "#DFE8F3",
            "gridwidth": 2,
            "linecolor": "#EBF0F8",
            "showbackground": true,
            "ticks": "",
            "zerolinecolor": "#EBF0F8"
           },
           "yaxis": {
            "backgroundcolor": "white",
            "gridcolor": "#DFE8F3",
            "gridwidth": 2,
            "linecolor": "#EBF0F8",
            "showbackground": true,
            "ticks": "",
            "zerolinecolor": "#EBF0F8"
           },
           "zaxis": {
            "backgroundcolor": "white",
            "gridcolor": "#DFE8F3",
            "gridwidth": 2,
            "linecolor": "#EBF0F8",
            "showbackground": true,
            "ticks": "",
            "zerolinecolor": "#EBF0F8"
           }
          },
          "shapedefaults": {
           "line": {
            "color": "#2a3f5f"
           }
          },
          "ternary": {
           "aaxis": {
            "gridcolor": "#DFE8F3",
            "linecolor": "#A2B1C6",
            "ticks": ""
           },
           "baxis": {
            "gridcolor": "#DFE8F3",
            "linecolor": "#A2B1C6",
            "ticks": ""
           },
           "bgcolor": "white",
           "caxis": {
            "gridcolor": "#DFE8F3",
            "linecolor": "#A2B1C6",
            "ticks": ""
           }
          },
          "title": {
           "x": 0.05
          },
          "xaxis": {
           "automargin": true,
           "gridcolor": "#EBF0F8",
           "linecolor": "#EBF0F8",
           "ticks": "",
           "title": {
            "standoff": 15
           },
           "zerolinecolor": "#EBF0F8",
           "zerolinewidth": 2
          },
          "yaxis": {
           "automargin": true,
           "gridcolor": "#EBF0F8",
           "linecolor": "#EBF0F8",
           "ticks": "",
           "title": {
            "standoff": 15
           },
           "zerolinecolor": "#EBF0F8",
           "zerolinewidth": 2
          }
         }
        },
        "title": {
         "text": "Distribución de variables numéricas"
        },
        "yaxis": {
         "title": {
          "text": "Valor"
         }
        }
       }
      }
     },
     "metadata": {},
     "output_type": "display_data"
    }
   ],
   "source": [
    "import plotly.graph_objects as go\n",
    "import plotly.colors as pc\n",
    "import plotly.express as px\n",
    "\n",
    "def plot_boxplots(df, title='Boxplots por variable', height=300):\n",
    "    \"\"\"\n",
    "    Genera un boxplot interactivo con colores variados para cada columna numérica del DataFrame.\n",
    "\n",
    "    Parámetros:\n",
    "    - df: pandas.DataFrame con los datos\n",
    "    - title: título del gráfico\n",
    "    - height: altura del gráfico en píxeles\n",
    "    \"\"\"\n",
    "    fig = go.Figure()\n",
    "\n",
    "    numeric_cols = df.select_dtypes(include='number').columns\n",
    "    colors = pc.qualitative.Plotly  # paleta de colores categóricos\n",
    "\n",
    "    for i, column in enumerate(numeric_cols):\n",
    "        fig.add_trace(go.Box(\n",
    "            y=df[column],\n",
    "            name=column,\n",
    "            boxpoints='outliers',\n",
    "            marker=dict(size=4, color=colors[i % len(colors)]),\n",
    "            line=dict(color=colors[i % len(colors)]),\n",
    "            fillcolor=colors[i % len(colors)],\n",
    "        ))\n",
    "\n",
    "    fig.update_layout(\n",
    "        title=title,\n",
    "        yaxis_title='Valor',\n",
    "        #boxmode='group',\n",
    "        template='plotly_white',\n",
    "        font=dict(family='Arial', size=14),\n",
    "        margin=dict(l=40, r=40, t=60, b=80),\n",
    "        height=height,\n",
    "        showlegend=False,\n",
    "        autosize=True,\n",
    "    )\n",
    "\n",
    "    fig.show()\n",
    "credit_data.columns = credit_data.columns.str.strip()\n",
    "plot_boxplots(credit_data, title='Distribución de variables numéricas', height=300)"
   ]
  },
  {
   "cell_type": "markdown",
   "id": "5aa50576",
   "metadata": {},
   "source": [
    "## Histogramas"
   ]
  },
  {
   "cell_type": "code",
   "execution_count": 8,
   "id": "3f7ffa72",
   "metadata": {},
   "outputs": [
    {
     "data": {
      "application/vnd.plotly.v1+json": {
       "config": {
        "plotlyServerURL": "https://plot.ly"
       },
       "data": [
        {
         "hovertemplate": "antiguedad_empresa_anos: %{x}<br>Frecuencia: %{y}<extra></extra>",
         "marker": {
          "color": "rgba(100, 149, 237, 0.7)",
          "line": {
           "color": "rgba(0, 0, 0, 0.5)",
           "width": 1
          }
         },
         "name": "antiguedad_empresa_anos",
         "nbinsx": 22,
         "opacity": 0.9,
         "type": "histogram",
         "x": {
          "bdata": "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",
          "dtype": "f8"
         },
         "xaxis": "x",
         "yaxis": "y"
        },
        {
         "hovertemplate": "default_12m: %{x}<br>Frecuencia: %{y}<extra></extra>",
         "marker": {
          "color": "rgba(100, 149, 237, 0.7)",
          "line": {
           "color": "rgba(0, 0, 0, 0.5)",
           "width": 1
          }
         },
         "name": "default_12m",
         "nbinsx": 22,
         "opacity": 0.9,
         "type": "histogram",
         "x": {
          "bdata": "AAAAAAAAAAAAAAEAAAAAAQEAAAEBAQAAAAAAAAAAAAAAAAABAQAAAAAAAAAAAQABAAAAAAAAAAAAAAAAAAAAAQAAAAAAAAABAAAAAAAAAAEAAAABAAAAAAAAAAEAAAABAAEAAAAAAAAAAAABAAAAAAEBAAAAAAABAAAAAAAAAQAAAAAAAAABAAAAAAAAAAAAAAAAAAAAAAAAAAEAAAAAAAEAAAAAAAAAAAAAAAAAAAEAAAAAAQAAAAAAAAABAAABAAAAAAAAAAAAAAAAAAAAAAAAAAAAAAABAAAAAAEAAAAAAAAAAAABAAAAAAAAAAAAAAAAAAAAAAEAAAAAAAAAAAABAAAAAAAAAAAAAAAAAQAAAAAAAAAAAAAAAAAAAAAAAAAAAAAAAAAAAAAAAQAAAAAAAAAAAAAAAAAAAAABAAAAAAAAAAEAAAAAAAAAAQABAAAAAAAAAAAAAAAAAAAAAAAAAAEAAAAAAAEAAAAAAAAAAAAAAAAAAAAAAAABAAAAAAAAAAAAAAABAAAAAAAAAAEBAAAAAAAAAQAAAAAAAAEAAAABAAAAAAAAAAAAAAEAAAAAAAAAAAEAAAAAAAAAAAEAAAABAAAAAAAAAAAAAQABAAAAAAAAAAAAAAABAAAAAAAAAAAAAAAAAAAAAAAAAAAAAQAAAAAAAAEAAAAAAAAAAAAAAAAAAQAAAAAAAAEAAAAAAQAAAQAAAAAAAAAAAAAAAAAAAAAAAAEBAAAAAAAAAAAAAQAAAAAAAQABAAAAAAAAAAAAAAAAAAAAAAAAAAAAAAABAAAAAAABAAAAAQABAAAAAAAAAAABAAEAAAAAAAAAAAAAAAAAAAAAAAAAAAAAAAAAAAAAAAAAAAEAAAAAAAABAQAAAAEAAAAAAAAAAQAAAAAAAAAAAAAAAAAAAAAAAQAAAAAAAAABAAAAAAABAAAAAAAAAAAAAAAAAAAAAAAAAAAAAAAAAAAAAAAAAAAAAAABAQAAAAAAAQABAAAAAAAAAAAAAAAAAAAAAAAAAAEAAAAAAAAAAQAAAAEAAAAAAAAAAAEAAAABAAAAAAAAAAAAAAAAAAAAAAAAAQEAAAAAAAEAAAABAAAAAAEAAAAAAAAAAAEBAAAAAAEAAAABAAAAAAAAAAAAAAAAAAAAAAAAAAAAAAAAAAAAAAAAAAAAAAAAAAABAAAAAAAAAAAAAAAAAAAAAAAAAQEBAAEAAAAAAAAAAAAAAAAAAAAAAAAAAAAAAAEAAAAAAAAAAAAAAAAAAQABAAAAAAAAAAAAAAAAAAEAAAAAAQAAAAAAAQAAAAAAAAAAAQAAAAAAAAEAAAAAAAAAAAAAAAABAAAAAAAAAAABAAEAAAEAAAAAAAABAAAAAAAAAAAAAAAAAAABAAAAAAEAAAABAAAAAAAAAAEAAAAAAAEAAAAAAAAAAAAAAAAAAAABAAAAAAAAAAAAAAAAAAAAAAEBAAAAAAAAAAAAAAAAAAEAAAAAAAAAAAAAAAAAAQAAAQAAAAAAAAAAAAAAAAAAAAAAAAAAAAAAAAAAAAAAAAABAAABAAAAAQAAAAEBAAAAAAAAAAAAAAAAAAAAAAAAAAAAAQAAAAAAAAABAAABAAAAAQABAAAAAAEAAAAAAAAAAAAAAAAAAQAAAAAAAAAAAAAAAAAAAAAAAAAAAAAAAAAAAAAAAAAAAQAAAAEAAAAAAAAAAAAAAAAAAAAAAQEBAAAAAAAAAAAAAAAAAAEAAAAAAQAAAAABAAAAAAEBAAAAAAAAAQABAAAAAAAAAQAAAAABAAAAAAAAAAAAAAEAAAABAAEAAAABAAAAAAAAAAAAAAAAAAABAAEAAAEAAAAAAAAAAAAAAAEAAAAAAAAAAAEAAAAAAAAAAAAAAAAAAAAAAAAAAAEAAAAAAAAAAAAAAAABAAABAAAAAAAAAAAAAAABAQAAAAAAAQAAAAAAAAAAAAAAAAEAAAAAAQABAAAAAAABAAABAAEAAQAAAAEAAAAAAAAA",
          "dtype": "i1"
         },
         "xaxis": "x2",
         "yaxis": "y2"
        },
        {
         "hovertemplate": "deuda_total_mxn: %{x}<br>Frecuencia: %{y}<extra></extra>",
         "marker": {
          "color": "rgba(100, 149, 237, 0.7)",
          "line": {
           "color": "rgba(0, 0, 0, 0.5)",
           "width": 1
          }
         },
         "name": "deuda_total_mxn",
         "nbinsx": 22,
         "opacity": 0.9,
         "type": "histogram",
         "x": {
          "bdata": "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",
          "dtype": "f8"
         },
         "xaxis": "x3",
         "yaxis": "y3"
        },
        {
         "hovertemplate": "historial_pagos_atrasados: %{x}<br>Frecuencia: %{y}<extra></extra>",
         "marker": {
          "color": "rgba(100, 149, 237, 0.7)",
          "line": {
           "color": "rgba(0, 0, 0, 0.5)",
           "width": 1
          }
         },
         "name": "historial_pagos_atrasados",
         "nbinsx": 22,
         "opacity": 0.9,
         "type": "histogram",
         "x": {
          "bdata": "AQMBAQIBAAMDAwECAAEBAQEABAMDBQMDAgEBAgACBAIDAAACAwIAAQECAQECAgEAAQICAQADBAACBgEDAQABAgECAQMCAgMAAgICBQIAAgQAAQMBAAEBAgABAQIEAgACAQEAAQEBAgEBAwIBBAEBAQABAAEBAwIAAQICBgECBAAAAQMAAAEAAQICAgIAAQACAgIBAwICAwIAAQEBAAAAAgUCAQIBAwAAAAECAAEAAAIBAgIBAQEBAAMAAgEFAQIBAQEBAQABAQIAAgIBAQMDAQIAAwECAAEBAgEBAwIBAwIAAAEBAQEBAQMBAgAAAAMCAQAAAgIAAgIBAQIDAwICAgIEAAEBAAEDAgADAwEEAQMCAwEBAAEEAQICAQMBAAUBAQEBAQACAgEDAQADAwABAgEAAAIDAAABAwAFAQEDAQABAQECAQACAQICAQEAAgEEAQMBAgIEAQADBgEAAQEAAQEEBAIAAQECAAUCAgEBAAMEAgEDAQIBAAADAgADAQEBAQIAAAEBAQEDAgIAAAIAAgMDAQIBAwIBAgABAAACAwICAAEAAQMBAAEAAAEAAgAEAQMAAwECAwIAAQICAQACAwUBAQEBBAEDAAEBAQEDAAMCAQMBAgEAAQEAAQEDAQEBAQEDAwECAgUCAgICBAEBAAYAAwEBAAEBAQIDAAICAgEBAAMBAQQCBgEBAgIBAgMCAAEBAQABAgEBAQIAAAACAQIAAQIDAwIAAQMCAAIEAwEDAAMBAQQCBQMCAAICAQMBAAMEAQEDAAEFAAIAAQQEAAcCAgEDAAEAAQAAAAMBAgEBAQEBBQABAQIBAQMBAAEBAwECAgACAAABAgMCAQECAAIDAgIAAAIABQAAAgIAAQICAgEEBAABAAECAwABBAICBAECAgMAAQECAAICAQICAQIBAgAAAAABAwECAAECAAICAAECAwIBAAACAQEBAQEAAwICAQACAgIDAwEAAAQCAgIBAAQDBAICAQIBBAIEAQEAAAADAgICAAABAQIBAQADAgMCAQEDAwACAgACAwECAwIBAQIDAQICAgMCAgEAAAEFAwQBAQIAAQEBAQIDAAECAQIBAwMCAAEDAQEBAgIDAQIBAgICAAEAAQMCAQICAgABAQEBAAABAQADAgIBAAIAAQECAQACAAICAAIBAQAEAgMCAwIAAgEBAwADAgECAgIAAQABAwEDAAEBBAQBAQMBAQIBAgABAQABAQADAgICAQICAwEDAQIBAAICAAMAAAIEAQMDAgEDBAICAwABAQECBAICAAQCAQACBAAAAgABAgEBAAAAAAIFAgEEAAEAAgAABAMCAwEBAAABAQABAgACAQIBAgABAQQBAgEBAQMBAQABAQICAQMAAAEDAQQAAQIAAAAAAAECAwMDAgECAQEBAgEAAAIAAQECAwEBAAQAAgAABAQEAQMDAAADAQQCAAABAQEBAAEBAgADAwACBQIAAwABAgABAgEAAQMDAAUEAgABAAEBAwEAAQIAAgABAQMBAQIEAgEBAAICAgECAgIBAwMBAwIEAgMBAwEDAAABAgEAAgADAgIBAAABAgQDAwIBAAIABAIAAAEBAgAAAQIBAwEBAwICAQMCAgIBAgEAAgEEAgEAAAIBAQIABAEAAgAAAAAEAgQBAgEAAQICAgEBAgAAAQIDAgECAQMBAAEAAwECAQQAAAIBAgEBAAIBAAICAQECAQECAAMCAQMFAQECAgAABAEAAAICAwECAgIAAQIAAAMCAgEBAAMBAAMBAgEAAgABAQEBAQAFAAADAQMCAgECAAEAAQABAQMAAAIBBAABAgQDAQECAAEAAQAEAQUBAAIBAgMCAAECAAAEAQICAAIDAgIAAAMBAQECAwIBAAABAgICAAMCAwECAQIBAgAAAgAAAgEGAQEAAQEEAAEAAQEAAAACAQECBAIAAQEEAAEBAgEFAgABAgEBAQAAAAMAAQIBAQEBAQICAQECAQIBAwIBAgQAAwEDAAAB",
          "dtype": "i1"
         },
         "xaxis": "x4",
         "yaxis": "y4"
        },
        {
         "hovertemplate": "ingresos_anuales_mxn: %{x}<br>Frecuencia: %{y}<extra></extra>",
         "marker": {
          "color": "rgba(100, 149, 237, 0.7)",
          "line": {
           "color": "rgba(0, 0, 0, 0.5)",
           "width": 1
          }
         },
         "name": "ingresos_anuales_mxn",
         "nbinsx": 22,
         "opacity": 0.9,
         "type": "histogram",
         "x": {
          "bdata": "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",
          "dtype": "f8"
         },
         "xaxis": "x5",
         "yaxis": "y5"
        },
        {
         "hovertemplate": "monto_solicitado_mxn: %{x}<br>Frecuencia: %{y}<extra></extra>",
         "marker": {
          "color": "rgba(100, 149, 237, 0.7)",
          "line": {
           "color": "rgba(0, 0, 0, 0.5)",
           "width": 1
          }
         },
         "name": "monto_solicitado_mxn",
         "nbinsx": 22,
         "opacity": 0.9,
         "type": "histogram",
         "x": {
          "bdata": "rkfh+lDNL0GamZmZOBokQXE9CldnCCRBj8L1KOijEUEzMzOzVC8lQexRuB6xyBRBzczMzG+KJ0E9CtejTBPwQB+F61FlfxFBrkfhOvDjQkHXo3A9JhQJQeF6FK57hg1B4XoUrrtAEUEK16Nw7wYAQZqZmZkRvedAXI/C9ShxFUGkcD0Kp+4eQbgehesenxlB4XoUrl9cF0G4HoXruzAcQY/C9ag1xjJBw/UoXPpRFkHD9ShcxWoOQbgeheuiYhRBPQrXoyYZKEG4HoUr5rQ7QdejcD380AxBUrgehZXPHUFSuB4FB/AiQQAAAAD6AwRB16NwPUyPG0FI4XoUMvH4QDMzMzNTavJAzczMTKF7I0E9CtejDWUSQTMzMzM9hyBBH4XrURuGGkFxPQrXi1cEQTMzMzPazhlB4XoUrht5/0BmZmZmHyE7QfYoXI+K1ftAexSuR40zFkGPwvUokgsDQY/C9ShV4idBMzMzM5piE0FI4XoUOxMQQZqZmZmUsC9Brkfhei3PG0FmZmZmNaImQexRuB71PQRBPQrXo9iB+kDhehSu/Q4eQfYoXI9zoRNBFK5HYZdCKUHhehSu0e0YQRSuR+EUkyBBSOF6FJZN9UAUrkfByU5GQbgeheuv6RZBuB6F63cfK0GamZmZ82cHQZqZmZkcXyJBMzMzM1Na/UCamZkZ3TclQQAAAABK6hJBAAAAAHjNG0H2KFwPKCIrQexRuB6hff9AMzMzM808C0HXo3C9fVQlQR+F65HBg0tBAAAAACiFF0F7FK7HT2IoQVK4HoVsQxhBPQrX436KR0Fcj8L1XNLyQLgeheu9rh1B4XoUrs9B9UCuR+F6tJ3hQClcj8LDLSJB7FG4HoQLH0GF61G4TU8UQY/C9ShBSBhB16NwDRqzYkGuR+F6ytsUQQAAAICNfCZBH4XrURY2DEGamZmZZiMiQc3MzMxXRxVBexSuRz7pEUFcj8J1Kc9EQWZmZmZT6DVBZmZmZq71HkEK16NwLZHlQAAAAAD40RJB4XoUTjIwWUEzMzMzv3AVQXE9Cpd2WDRBj8L16EqMPEEfhetRbM4gQXsUrke3RQdBuB6F68nq4kApXI9C4sIqQc3MzMwq6QdBFK5H4RsaIEF7FK5HhfP+QHsUrkc2thRBpHA9CsbtG0GamZmZVqkhQXsUrkdftgFBpHA9yg1YNkG4HoXrJbsNQbgehev5PfRAAAAAALE2GEGamZmZd/IbQY/C9SjstB9BMzMzs69bOkEAAAAAE1EVQaRwPQpb9RdBw/UoXHPrAUHD9Shc/6suQfYoXI/gOyBBAAAAANm9EUHNzMzMaBTwQI/C9WhdnjxBj8L1KOik/0CF61G4BOYNQbgehWvmUSNBrkfhen5SAEE9Ctej6EH4QI/C9SjM0+lAhetRuO7DK0EAAAAAEE8PQYXrUcgbhV9BpHA9CuH6A0GPwvUotH0FQc3MzMy6rg5BzczMzK43IUGamZmZlN8QQcP1KFwJ6ChB4XoUrilMBEEzMzMzSyH7QLgehevR4vFASOF6FNZg50Bcj8L1sBUQQaRwPQoL/BNB7FG4Hru4DEHsUbheSWg3Qa5H4TrbDDdBAAAAAOZRE0GamZmZhfbxQEjhehRupA5BuB6F6+ekDUGPwvUoMP4LQeF6FK4t4QpB7FG4Ho0YDEFcj8L1glgSQXE9CtedmgxBzczMzOGgIEFcj8L161sjQY/C9Sh6uQVBpHA9ClgQOEGuR+F6gkQEQVyPwvUcbPVA4XoUrhvCI0FmZmZm9NgHQYXrUTj+nSJBcT0K13uG40BxPQoXbys7QdejcL0LcipBcT0K18sW+ECkcD0KE574QNejcL2Y+EFBXI/C9ZrVCUF7FK5HY3MHQeF6FK7vZ+ZAhetRuIMDE0EzMzMz64AVQdejcD3rnCtB16NwPeao+kDsUbge1Z33QJqZmRndMSVBCtejMGV5MkFSuB6F/3H2QI/C9aij6DNBCtejcCgJHEFmZmZmXB00Qa5H4XryKxlB7FG4Hm1X4UDXo3A9ITIXQZqZmdngfDNBZmZmZkIYBkEUrkfh1FESQTMzMzNZpBZBZmZmZrbI10DNzMysX/RBQYXrUbhE7QVBH4Xr0VdjJkHNzMzMncIYQc3MzIwQvjdBH4Xr0ZhDJEGuR+F6ZlkVQc3MzMyQGQZBH4XrUb77LUFI4XoUApfwQDMzM7OiwSlBXI/C9Xr+AUHsUbjeuJ03QdejcD2wuh9BexSuR/+1KUHXo3A9W08dQdejcD2WufJAFK5H4SDWBkFSuB4FsnIqQQAAAABQ5h9B4XoUrrT9NUGuR+H6LzUkQeF6FK5LigRBzczMzKhcCEGF61G4C+4dQT0K16MoW+VAH4XrkQL+QUFxPQrXFgAlQdejcP37BjdBuB6F6/E79kA9CtfjPG83QSlcj4L2b09BUrgehQfU/EApXI/CYzMtQRSuR+FiCBtBUrgehZcN90AAAACAKBomQexRuJ4iEy9BuB6F6wGbDUEAAADAe6k1QY/C9SgQZvRArkfheiw6+ECamZmZf/QeQSlcj8JvshtBXI/C9aZgCkHhehSualYuQc3MzMxd9SZBH4XrUbzYL0EUrkfh0t8XQVyPwvUoqihBhetRuPNKEUHD9Sj81VFKQY/C9Si29gdBH4XrMca1S0EpXI/CIvYbQXE9CtenS/tAw/UoHO+DOkH2KFyPMKAeQZqZmZm+ny9Bw/UonEb0NkFxPQpXFO4iQaRwPQqn3g1Bj8L16PToMUGkcD0K7wUbQR+F69GAzipBH4XrUcgR6UBSuB6FThwlQRSuR+FahAxBhetRODWiQUEfhetR+ywpQc3MzExDKSFBZmZmZhX1JUEAAAAABuYDQa5H4ZqPHEFB7FG4PvC5SEHNzMxM3f8jQUjhevT7jkBBuB6F60mRDkGPwvUoHlYIQfYoXI96IRxBmpmZGaDbJEFcj8L1rDUSQWZmZubnHSdBMzMzM39XIkEUrkfhtOYDQXE9CterriZBXI/CNWUCMEHsUbie2wYgQdejcL1jYDVB7FG4HpX4/0D2KFwP044lQZqZmZm/wQBBUrgehbu5AUGPwvUodLwMQa5H4Xp6DQVBMzMzM5M4D0EzMzMzIMwVQYXrUbhvLy9B4XoUrteVE0EUrkfhbh/2QPYoXA/6GzVBhetRuPhhB0EUrkfhenYZQTMzM7PmGSVBuB6F6/R7IEEUrkfhmSk0QeF6FC4pzCVBrkfherzSBkEzMzOTAtFNQTMzMzO/ZSBBmpmZmatNF0GkcD0KOrMxQQrXo3CcUyFB9ihcD0wgJEEpXI8yZmZUQR+F61EQghRBzczMzOimE0HhehSub1ceQbgehavvtTNBKVyPwo3x90CPwvUojELuQB+F61HyBQ5B4XoUrmcU9UCPwvUoFagRQQrXo/DTUCZBzczMzDwpBkFxPQrXH+75QB+F61EG8RxBpHA9Crn8L0GF61G4ztTzQFK4HgV6qS5BUrgehYqSLkHNzMxM24YxQdejcH3F1DZB4XoUDiKGTkEpXI/Ct+kSQR+F61EzIR5BcT0K1y3OEUHD9ShcYw4bQT0K12P+Qz9BCtejcAkk/EB7FK5HQdQGQa5H4Tr/wTpBpHA9Sr+4MkFcj8L1wMcSQdejcD1Tui9BPQrXo+f9IkEfhevRR0M+QR+F61FyFx1BexSuB6TTMkFmZmamhLJXQXsUrsftjShBMzMzM0BeHEGPwvUoP84rQZqZmZluvRJBcT0KV4phUkHXo3A9TSogQcP1KFyQjRRBw/UoXF1qB0H2KFzPUTk0QWZmZmZrETBBmpmZmeBrEEFSuB6FUAcoQY/C9Sgs5fdASOF6lKA+IEHD9SjcmjslQWZmZubFnEJBj8L1KBz8CEHhehSuoxT+QKRwPQrBDgZB4XoUriNh/EBcj8K19bE5QY/C9Sgvwz9BXI/Cdd+YIkEAAAAAP+U2QVyPwvWc3x5BZmZmZoeNGEEzMzMzo1oTQT0K16MfzBNBj8L1KMD59kBcj8J1w5UhQc3MzMxw7xlBKVyPQjxzLEGkcD0KaKYdQT0K16O38hZB16NwPUaZBkHsUbge6wUdQT0K16OJPyxBrkfheuQ2AUEAAAAAoHgdQbgehetsCyFBFK5H4ZZWCkHNzMzMQAAOQa5H4XrTACFBexSuR9FiAUEzMzMzbSgjQcP1KFwrDwZBXI/CdWqKM0G4HoULbHtRQVK4HoX31QZBj8L1qN8IJ0FI4XoUVhwKQT0K12MOHjNBFK5H4SJ6/kAzMzMzAdUlQc3MzMzkjgZBexSuR0H0FUGuR+F6tkIDQYXrUbgeui5BXI/C9aBiB0GamZkZhHInQT0K16MjJBNBzczMzAEVGEEfhetRa00fQeF6FK7lNQlBMzMzM5ipIEEzMzPzsi8/QeF6FK69zQhBzczMTEPKNUGPwvXobjI+QY/C9Sic4AdBXI/C9Vw1+UCamZmZv0IiQXsUrkdHPQ9BUrgeRaPeRUEK16Nwj/UbQXsUrkeDNghB9ihcjxYmAUEUrkehlRM0QXE9CtdfgQ5BMzMzM2w2HEEK16PwkY4xQexRuB5LoxBBhetRuGXKGUHNzMzMHo8aQQrXo/AjvSpBcT0K191fKEEpXI/C8qoVQdejcD0AxxxBzczMzFueEkEzMzMza6X4QOxRuJ7odyFBrkfhekVkRkFmZmZmQlEGQUjhehT87QhBCtejcPebBkHXo3C9h90rQQAAAIBwJCVBSOF6FD4LF0GPwvUonpAFQexRuB61nR1BzczMzKSX9kCPwvUozSofQfYoXE9MIzBB9ihcj5ro/kAK16NwVVT3QK5H4TrBYEBBPQrXo9hKDUGamZkZwgU1QaRwPQoWJhdBH4XrUR73FkFmZmbmMe4kQcP1KFypTwZB9ihcjxLUHkE9CtejTHASQRSuR+He1vxASOF6FMnrIkGPwvUodMAUQVK4HoUsFBdBuB6F6wkaAEEzMzMzNpNAQexRuF7LODBBZmZmZkW0MUGkcD0KQeUTQSlcj8IRKvNA4XoUTifLR0EUrkfhAGcZQUjhehSCiglBAAAAAKR7JEGPwvVoKrA1QZqZmZkwYxpBAAAAAMg+OEEAAADAN/AzQR+F61ESaAJB9ihcj9KHC0H2KFxPX5YxQUjhehT+q9xA16NwPRBBF0GPwvUomNP5QArXo3A8xBBBw/UoXBsHFEEUrkfhTt8SQR+F61GOFg9BXI/C9T4HAkFxPQqnkrJQQfYoXI9A2EVBj8L1KCLlAEHNzMxsAGxAQa5H4Xo0HBJBFK5H4f65HkFSuB6F3VgZQVK4HoV76wtB16Nw/WwOMkGF61G4EqAeQaRwPQo/xBBBSOF6FDpN/UDsUbgeHRkGQY/C9ShQ7PRAKVyPwrlVG0F7FK5HC1IAQVyPwvV/tBRBCtejMK2ROkGF61G4u2U2QZqZmZkmJRpBCtejcC/AGEHhehROGR5GQRSuR+EUuiZBhetRuJ90E0HXo3A9fvP5QHsUrsfHBCRB7FG4HirxLkHD9ShcJ7cMQVyPwvW5ECJBUrgehaHFEkGuR+F6vnYWQWZmZmYO8+FAmpmZmbShFUEUrkch9ssxQQAAAAD8uAxBmpmZmYN1HEEzMzMz61sJQaRwPYpIXCNBUrgehea+FUEUrkfhsBwFQa5H4boBlzlBj8L16GcXMUHD9ShcaX4NQR+F69H5NSZBFK5HYcwbJ0HsUbgeA6opQVK4HoVz2PNAPQrXo894MkEUrkfh+owOQaRwPQpS4RJB9ihcn4OZV0EUrkfhVkIiQa5H4XqKWRJBZmZmZj7P50B7FK6HvBg7QQrXo3ChIvxAZmZmZqDMA0E9Ctej/mITQTMzM7MR1DtB16NwvSRBLUFxPQrXXw8XQRSuR2FwYCJBuB6F65+gDUEfhetRwQwfQfYoXI+3Dh1BrkfhOjvJMUGkcD1K/cExQY/C9ShZICZBZmZmZobLEkGuR+F6glksQaRwPQpRoRhBj8L1KBJOAkH2KFyPhAoSQbgehetsYh1BAAAAwEbGMEFcj8L1pHkWQSlcj8IBHgBBj8L1KEqUHEEK16NwOD8eQaRwPQo8QiBBzczMDPHvMEE9CtcjarMyQWZmZmaazw1BCtejcAsqDUFI4XoUsBUDQR+F61EBKCtBuB6F67q+PEHhehSuZ7QTQc3MzMz0NRVBMzMz8xpEPUHNzMxMU2ImQa5H4fqK4iRBSOF6FCJqAEEfhevRv50qQcP1KFyVUwVBzczMzCZgAUEfhetRDhcTQR+F61EeEA5BMzMzM7aiFUGF61G40pD5QMP1KJwinDFBzczMzHrZNEFmZmZm7tDuQJqZmZmO9TFBMzMzMxkDCEEfhetRQc8vQcP1KFxjNxlBSOF6FITKG0GkcD0Kn3AWQUjhetTErzZBw/UoXANF/0DD9SjcdcsoQcP1KFykTjRB7FG4nuiiK0HD9SiMDEFRQexRuB5J0g9BzczMjFOVMUHNzMzM5UgYQa5H4fqpLDdBFK5H4cLLGkFcj8L1P1ISQSlcj0LR6zhBCtejcEyEEEFxPQrXY0z6QKRwPQq6GhBBXI/CdecSKUFmZmZmiCg7QYXrUbg5LR5BexSuh6Q5OUEK16Nw2cX7QFyPwvWHVRFBCtejcOc7FEFmZmZmeBQYQaRwPQosXx1BPQrXo0TxKkGkcD0KsE4RQbgehevJBx9BrkfherjPGUFI4XoUVmUFQXE9Ctf5GRhBj8L1KKtjF0HXo3A9xeQWQc3MzMzG3xtBhetRuB4gHUGamZmZeIYRQRSuR2GDGjhB9ihcjy7FAEF7FK5HB0MKQVK4HtXgM1tBAAAAAHwgA0E9CtejWOX7QFK4HgVlJCxBpHA9CscQ60DD9ShcfVcVQa5H4Ros20xBexSuR6EK90CamZmZecTtQEjhehTKHvhAKVyPwqmTMEEzMzPz+Mk0QeF6FK5RLBBBAAAAgF+8KkEpXI8CJRw7QVK4HuWzKURBmpmZmWMbFUFxPQrXU6DlQArXo3DNwwdB9ihcjyyfEUFcj8L1ttcUQY/C9SjHYBZBUrgehcKqNEHXo3C9GCU4Qc3MzMxBvhZBSOF6FN8/NEEpXI/ChU4jQaRwPQpRzRxB9ihcz4m2MEFI4XoUpwYdQVyPwlXKbEpBpHA9Cquh+UDD9ShcpCEQQVK4HoUvyxdBMzMzM8XzJEFmZmYmP/03QaRwPQoXWhpBmpmZmbUM+kBcj8J1VlovQaRwPQp6uSxB4XoUrk/87kDD9ShcduYaQUjhehTqBfZA7FG4HofIC0H2KFyPOuUFQYXrUTjbUy5Bj8L1KGRZHkEpXI/CGd39QOF6FK68RjBBzczMzPS/+UC4HoXrOcgiQTMzMzO77QdBSOF6FIi7EkHD9Shc9FomQR+F69EdviZBMzMzswK0OUE9Ctej3t4YQa5H4frIVyJBSOF6FB9uEUGkcD0KQDIgQQAAAADz8yRBZmZmZnV5GEEUrkfhisnxQFK4HoXBziJB9ihcj75wI0FI4XoU+loLQVK4HoVP5v1A7FG4npGIPUFmZmZmBhImQbgehetteRVBw/UoXMVSAUGuR+F6HL4HQc3MzIyk1ThBw/UoXPD8HkGPwvUo5CMPQWZmZmYMeiZBmpmZmVvrB0HXo3B9r0c+QdejcL0CHTpBMzMzM0nvEEHXo3A9Gs0MQZqZmZlJg99A16NwPW6M+EBSuB6FF0z8QI/C9Shb6R5BPQrXo3Z8E0EK16NwuSH8QArXo3BvYhRB9ihcjw9hJkHNzMxMcOMmQeF6FK4PKfBArkfhepHAF0GPwvUoKBX7QEjhehT8oTBBhetROEWTLUGuR+F6GAAGQTMzMzO3GglBKVyPwloGEUFmZmZmfrTmQNejcD115CJBXI/C9QeOFEH2KFxPos8xQT0K16NoAQJBMzMzM9UTDUFSuB6Fm/H3QHE9CtdPyANBZmZmZtiPAEEzMzPzy0YyQVK4HoVx3QpBuB6F66uSHkF7FK5HunMSQUjhehRiWf5ASOF6FO7RFkEAAACAPpQoQTMzMzPzIwBBzczMTK1SLkFcj8L11hYHQZqZmZm5qBBBSOF6FCD0JkE9CtejLNELQexRuB5lCRxBcT0K12C2E0EK16NwarseQVK4HoVr+uNAMzMzM/tU8UCamZkZQf8oQa5H4XqgCzNB4XoUrlu6BUHD9Shc3icVQUjhepQEISJBMzMzMzIBK0GF61G49m/sQFK4HoUDRAZB9ihcj+hcE0FmZmZmIkYrQY/C9Xgfh1RBSOF6FFh/FUFSuB6FM3P6QIXrUbj7LyRB16Nwvb1LOUFmZmZmMhUeQVK4HoW/zwVBuB6F622YMUHNzMzMFDcqQaRwPQonWwNBCtejcGLFI0FxPQpX2EwyQc3MzIzGAjZBhetRuEtEGUEUrkfhGuASQc3MzAxlCDdBZmZmZgoaAEEK16NwFu8kQXsUrkcVcvtAAAAAAA2XM0HhehSue9wUQSlcj4ISAThBUrgeBdcRJkGamZmZHcn/QHE9ClfXDjxBexSux2bYP0GPwvXo/08wQVyPwvVsNwlBpHA9ClviE0GF61G4xzofQYXrUbgSuApBrkfh2ulVQkHsUbge/DEfQcP1KFxP8NxAMzMzs970IkGF61G4SRATQY/C9SixDRlBexSuR3GtEkGPwvUop0IuQSlcj0L1rjRB7FG4njDrIUHNzMzMpjsTQcP1KFzI6BlB16NwPYiJG0HD9ShcFTUIQVyPwnWSFihBuB6Fa1pjJUGuR+H6y4A/QZqZmZlJsDdBZmZmZo40C0GamZmZ/qkuQRSuR+HC3QRBexSux/wTK0E9CtejrxsQQaRwPQovaQNBexSux2ndIUEAAAAAoMjdQDMzMzNPwPJAuB6F63qcFkFSuB6FwVIdQa5H4XoZqhJBH4XrUZhC9kA9CtejANYHQfYoXI8l9yNBCtej8DAoKEEUrkfhd5EaQRSuR+FXdzVBrkfh+t4WJEFSuB6FTZMJQUjhehTkZRRBXI/C9RiP+kDsUbgeLTwYQVyPwrXvhjRBhetRuJvKKkF7FK5HM247QVK4HoVO8hNB4XoUrl3wOUE9Ctejq0EWQdejcD0saD1BH4XrUUJrGkH2KFwPwmIrQR+F6xHGgj1B4XoUrvdAFkEpXI9C88sgQSlcj8L3fjhBpHA9CtGjF0F7FK5H7dP8QPYoXK9ixkxBpHA9CnrhEEEAAAAADqYfQVK4HsXMcjVBj8L1KGBjDUHXo3A9OrYDQexRuB6qZiFBH4XrUWj68UC4HoXrXj8UQSlcj0IVQCFB16NwPUadFEF7FK5HZRP3QFyPwpUDn0BBhetRuM3yHUFmZmam2z08QYXrUbjc0RRB9ihcj3pmBkE9Ctej/qshQbgehev/whVB7FG4HsehAEHNzMzMoFo9QexRuB5x/AxBcT0K10Mm8UAAAABAV3o5QSlcj8LJThBBpHA9CmtoDUHhehSun3vyQOxRuJ6lP0NBAAAAAGy//UBSuB6Fy6AcQUjhelSd0DBBrkfhenqVJEEzMzMzZXAZQSlcj8LxsvNAPQrXowoICEEK16NwaUogQXE9CtdZlAhBPQrXo86LIEGuR+F6U7IqQUjhehTJrDFB9ihcjxKx/0BxPQrXTFxOQUjhehQgFi1BhetRuN70GkF7FK4HsRE0QbgehXuS+FFBj8L1KKSf+UAAAAAAdo4VQY/C9Sg8BuRAexSuR7FeIEGuR+H643QjQeF6FK459xlBhetRuNoQDEFmZmZmttLrQAAAAACZnSNBw/UonJDvPEHD9ShcAegNQXsUrkcH9yRBFK5H4U6D9kB7FK5H4lMlQQrXo3B+OBJBKVyPwhEyCUHD9ShcVT8JQeF6FK5sNxJBzczMzHzKI0Fcj8L1oBT9QEjhehQdJxJBFK5H4ePnGUEK16Nwgf4BQSlcj0IHWkRBj8L1KJIAB0G4HoXrkaYLQc3MzMyeTQRBcT0KF35jREGF61G4KngnQeF6FK4HKwVBZmZmZi9oNEHXo3A9jYAgQQrXo/BadiFBSOF6FEgiE0Fcj8L1eoYJQR+F61Ep7SJB7FG4HttPD0EfhesxwsNEQa5H4Xq8Wv5AAAAAQFFeP0E9CtejeigYQdejcL1TNSJB4XoUrpcPL0FI4XoUeMEMQc3MzAxZBTBB16NwPUrR3EApXI/Cn0kKQWZmZmZabwVBpHA9Cl/W/kBmZmZmo8cVQTMzM7NR2yNBexSuR8hCK0EK16PwvS0hQY/C9SgewQtBpHA9CveGI0EfhetRiJMeQQrXozCwNjFBexSuR+FcLUFSuB6FoNYbQTMzMzN1BAZBCtejcD0cDEGF61G4QCoPQfYoXI95sxNBmpmZGeKmIUFI4XqUqporQQrXo3A4qBlBj8L1KBRxG0FSuB6F1ykfQdejcD2cHhBBSOF6FBBoBUFxPQrX76ryQLgehevh8gpBzczMzJGrJUEfhetRir0KQRSuR+GqSRVBCtejcHKGJUE9CtejsbkmQa5H4Xo+WQJBzczMDOFLMkHXo3B9r9c0QZqZmZm9cgFBw/UoXNWxB0HXo3C92zY2QUjhehSTUBdBmpmZmZl350DNzMzMyKT6QD0K16MECxVB7FG4HungAEG4HoXr8NsRQWZmZmZS5BtB9ihcD0IiPUHD9ShcLjIUQVK4HoUduzNBzczMzJUsPEFSuB4FuVQ8QXE9ClcA8yFBPQrXoyBU7kCF61G4o2clQXsUrsehQjNBcT0K123mGEGPwvXIoFFDQRSuR+GP5i9BFK5H4TbVJ0EfhevRgAE0QXE9Clfo1yJBXI/C9TDc4UApXI/CYWQQQaRwPUqGWTZBH4XrUS4VCEHXo3A9WZgVQexRuB4V/wJBpHA9ag8YREEAAACgPSNCQcP1KFxnUAZBMzMzM8BJH0FSuB6Fu1gLQZqZmRm3+ChBcT0KVwN6JkGuR+F61GYuQXsUrkfp0CJBrkfhCgfHX0EK16NwB1IDQRSuR+EShvNAexSuR9s5EkF7FK5HNYT2QBSuR+FqSPhAKVyPwmfXA0F7FK5HpXkFQT0K16M4ygRB16NwvVarJkE9Ctej5kYQQZqZmZnIkBZBAAAAwC+CMEFcj8L17hgJQWZmZmbhuRRBuB6Fa7Z2I0FmZmZmnv7uQAAAAAAo5eNA16NwPcsVI0HNzMxMPRUmQbgehetImEpBSOF6FLOgH0GF61E4nKUuQTMzMzNUNRZBpHA9CqwsIkHhehQOnOFBQeF6FK5/0+lAuB6F6/ZqJEE9CtdD7Y9MQY/C9aiE5iFBH4Xr8d6VQUHhehSuG8kMQYXrUbivJhpBw/UoXGLsG0EfhetRwITnQMP1KFzHygBBH4XrUXwIAkGamZkZ4rcuQVyPwnXlJTBBXI/C9RerIkGF61G46scuQVyPwvU66hZBpHA9Sth0NkGamZmZuj0bQa5H4XqBnBxBw/UoXFS0FEE9Ctcj2sQqQY/C9SiIuBFBXI/C9T/sMUEK16Nwe2gBQa5H4XoS/wFBzczMTEfZKkHNzMzM8bYYQa5H4XqeJhFBuB6FK5RwMEHD9Shcp2wNQdejcD2CGhZBCtejMLJaO0GkcD0KVHY/QRSuR8FXQ0BB16NwPWtdFEHNzMwMphw3QcP1KFx16ARBAAAAAFTOBUFxPQrXq5fkQPYoXE9e+0FBcT0K1yfDBkGPwvUoGssXQRSuR+FCuwVBXI/CdawOK0GuR+F6BYwSQXsUrkeFS/1AAAAAAKP/JEHNzMzMdMD5QDMzMzMVYAdBCtejcI1F6kB7FK5HMQH6QKRwPQrtIyBBcT0K13NK7kDXo3A9Ko/4QMP1KFxa8BpB7FG4HrtbD0EK16MwKL5IQTMzMzOpH0VBAAAAADqsBkHNzMxMppEnQWZmZubajyxB16NwPbS2DUG4HoXrTTX4QHE9Ctc2rBpBuB6F62+3FkEUrkfh7nYRQYXrUbgnAyVBXI/C9eZ9CUFmZmZm5hABQSlcj8JuHR5B4XoULnDcI0HNzMzMiKYAQZqZmdm5EzFBmpmZmZVj8kAfhetRcksOQdejcD2u3BRBPQrXo56VDEEK16NwV7EOQYXrUZh97EVBuB6F6/cPB0GkcD3662JTQT0K1yNP5yRBFK5H4USbHUG4HoXrw7wlQexRuH5HL1VBexSuR8f+A0G4HoXrEZ0BQfYoXI/2YglBFK5H4YPiG0FI4XoU1jrzQI/C9SjfnBtB16NwXY1bQkHNzMzMu2ofQUjhehSoJhRB16NwPQAbDUHNzMwMT5QwQexRuB69pQdBH4Xrca1jRUH2KFyvLlVHQRSuR+EbdCFBhetRuJCxGkFcj8L17usyQSlcjwLMLDRBXI/C9QwfCEE9CtejyuUPQUjhehQyyfxA7FG4njpTJEFmZmZmzEsqQdejcD2+APxAzczMzOEgEUEAAAAA7BP8QFyPwvW++wVBexSuR9VsJ0HsUbgeb+8JQdejcD3V/BNBw/UoXDM49UDD9SjcCEcgQTMzMzNW1RlBAAAAAIgNCkFmZmZmKloWQbgehWs6KyBB7FG4HnvoB0HsUbge8a34QArXozCniERBXI/C9T6rDEGkcD0KLYMYQZqZmRnfjDJBhetRaJLEbEGamZmZ5R3/QBSuR+G0KyVB16NwPdidCkGamZmZfYIPQa5H4XogSApBrkfheoSFAUEzMzMzFukZQbgehesRufhAj8L1aFJmMUHD9ShclIccQVyPwnVDmSRBSOF6FPXwEEGkcD0KN7QSQT0K16Pt/yFBhetRuI7cAEEAAAAAieASQVK4HoWn3AZBH4XrUUIqBkHD9ShcvzHqQEjhepSKwzlBXI/C9YouC0F7FK7HaZs1QVyPwjU2qDNBSOF6FPrZ/UBSuB6FuS8CQeF6FH6o11VBAAAA4BdxQ0H2KFyPOioaQbgehevjdiFBMzMzMxO9DEFI4XqU0s0kQVK4HoWLXApB4XoUrv9N7ECPwvUoCM/8QBSuR+EQlBtBZmZmZk5tAUFmZmZm8D4ZQexRuB4vcAJBpHA9CsGyCEFxPQpXSbAvQdejcD3hSiFBexSuRzm+GkGamZnZJUIwQQrXo3Ag1SVB16NwPSSuPEGamZmZfgwRQaRwPQpskhFBPQrXo2Bn/UCF61G4XZURQXsUrgcOtzFB16NwfR3FOEGPwvUo2qIxQRSuR+FG9fFAcT0Kl/XwM0G4HoXr8S3xQBSuR6GikjBBmpmZmW+xEkFcj8L15UErQfYoXI8if/xAH4XrEa7GNUF7FK5HqfX4QB+F61GGrQtBmpmZmcnnA0HD9Shcc7DyQEjhehQIrh1Brkfh+luLREEUrkfhbUtYQbgehesGwh1BpHA9ChCfNEHsUbgeSgchQbgehWs0PCZBZmZmZrMtE0EK16Nw3mggQWZmZmYxHCdBFK5H4cJIDkH2KFyPPv0YQWZmZmZfeBlBmpmZmRDaLkGkcD0KF5kCQa5H4XpwpRlBuB6FS/vWRkEfhevRMp81QVK4HkXYBDpBXI/C9a2rG0HhehSul5wiQVK4HoUwZDJBZmZmJhgRQEGuR+F6ZK/uQOF6FK5D/PxAZmZmpl0BOUF7FK5HyngUQQAAAABslgtB4XoUrjPR/kBI4XoUqAAPQbgehet5kvpArkfhertRS0GamZmZV2caQUjhehSAexlB4XoULj5PKEFmZmZmEqwxQa5H4Xo6YjFBAAAAAJPAM0HNzMzMFL0MQTMzMzP/CxRBZmZmZrEhLUGPwvUo/N4PQT0K16N/3RpB7FG4nucdJEFcj8J1I5stQXE9CtfPQfJAPQrXI6OXK0EpXI/C9l8VQR+F61FYZCtBPQrXo9dcLUH2KFxv3tlAQR+F69FgITpBKVyPAoDzOUEAAACA7pg8QexRuJ6KESJBUrgehdDiG0HD9ShcpCgwQeF6FK4nEyxB9ihcj9fSE0EpXI/CND0kQdejcD1OEhpBFK5H4f79BkFxPQoX/og4QQrXo3ADiRxB4XoUjn0vSkFxPQrXF0L1QOxRuB6v8g5BXI/C9Q3mG0FmZmYmeg01QTMzMzOKISRBUrgehbVqIkH2KFyPTn4BQT0K16Na+wBBcT0KV8ejIkFI4XoUzpv7QJqZmZlxug9BSOF6lMtHJkEK16NwyTgEQY/C9ejXzkBBmpmZmb/0NkG4HoXrdXD2QMP1KFzzQQVBw/UoXOf35UDNzMzMQLEIQXsUrscBDi1BmpmZmcnZEUGuR+H6fGclQcP1KFx3kfdAmpmZGbP8LUGPwvUo7P8OQXsUrkdZVRtBMzMzM5ubGEEUrkfhNkn+QJqZmZknDAFBzczMzMrEMUEpXI/CFB8kQRSuRyHFSjNBuB6F6xCuIkG4HoXrUicfQR+F61GoOfNAXI/C9RWbFEEfhetR+kUaQR+F61FPzEdBexSuRwzWKkHXo3C9jF0/QaRwPYpmiihBmpmZmVWECkFI4XoUrVseQaRwPYpTGSFBcT0K1ycdBUFxPQrXo2ISQdejcD0a+xVBrkfhmvrPQEGPwvUovPfqQB+F65E7izZBKVyPwu0pBUHsUbgerWP7QI/C9WjP9zVB16NwPdcRLEG4HoXrP6s3QQAAAACpES5BCtejEJB6SkFxPQpXOpsnQSlcj8JoFxdBXI/CdToGI0FSuB6Fqmg3QVK4HoWdxQhBj8L1KOIjDEH2KFyPYdMTQc3MzMwUVepAH4XrUT4AH0GkcD0Kd2HwQBSuR+FleRxBAAAAAJ8JMEFcj8L12cIQQc3MzKz2DkJBcT0K108S+UAAAABA0zc2QeF6FC5ThSpB16NwPQJr80AUrkcReWJZQSlcj8LOVRlBH4XrUf50BkEK16NwdXL6QD0K16N6qxVBrkfhesfFF0H2KFyP9usdQQAAAABcDBRB4XoULqduKUEfhetRZ1MSQT0K16MwM+9AzczMzJ9BF0HXo3A9sj7kQLgehWtUOyNB7FG4HndIBEG4HoXrccsfQZqZmRkUHzlB7FG4Ho3pBEE9CtdjboIzQcP1KFyQgRFB7FG4/mV8Q0HsUbgeDL4SQaRwPQqjTQdBAAAAAPzXKkEAAAAA0nYRQVyPwvXuRwdB16NwPbi+EEGPwvUoItMZQc3MzIxj1jlBmpmZmTE670DD9ShcHaIbQTMzM7OyOClBMzMzswhiIEEfhevRDwQ5QSlcj8JrERlBUrgehcJzFkH2KFwPxGkoQUjhehR80h1BrkfhemJGEkEfhetRT58mQc3MzMxGHwxBMzMzMzdPDUFcj8L1DNoPQVK4HoXOHjpBzczMzKw+0UA9CtejoQ0kQUjhehS68RtBmpmZmekc9EAAAACAMWciQRSuR2EMuiVBAAAAgPlYKEEK16Nw/XfeQFyPwvV4eDpBXI/C9T7TCUFcj8J1YNMqQR+F61EUVCxBXI/C9YR5BkHhehSuZyIqQexRuB5wXRJBZmZmZq4460DNzMyMnbM1QRSuR+Ei4QhBrkfherL6BkEAAAAAiwsSQZqZmRnXuSFBH4XrUfB/GUEK16PwKlsnQTMzMzPzS/xAKVyPwpO0CUF7FK5HnQsYQc3MzEwDhUZBUrgehRMZGEGamZnZkvszQdejcD1vEBxB16NwPdmlEEFmZmZmSRkVQeF6FK470RZB7FG4HuSwKEGamZnZarA6QfYoXI+DWCNBuB6FKxUgNkFI4XoUXJQEQWZmZmZt1hFBw/UoXKksCkG4HoXreH0iQUjhehTc2xJBpHA9CpYCLEE9CtejaEkFQT0K16OpMBxBj8L1qF7VKkGPwvUoJGPrQB+F6zGYKkxBrkfhehJYFEEfhetRMIPsQKRwPQqxoB9B4XoUrs3rG0FmZmZmKOEYQTMzMzN5MDJBZmZmZm6CLEEpXI9CsS8iQexRuJ58LSVBAAAAAK1TGEEAAACA3uxDQcP1KFxvm/hAMzMzM70MH0F7FK5HJNEcQY/C9agYcy5BFK5H4Z45B0H2KFyPfuPyQFK4HoVolh9B4XoULtbiIUFSuB5FBPE9QTMzMzNrUv5AKVyPgphrNUHNzMwc0AFSQYXrUbjpgRJB",
          "dtype": "f8"
         },
         "xaxis": "x6",
         "yaxis": "y6"
        }
       ],
       "layout": {
        "annotations": [
         {
          "font": {
           "size": 16
          },
          "showarrow": false,
          "text": "antiguedad_empresa_anos",
          "x": 0.13333333333333333,
          "xanchor": "center",
          "xref": "paper",
          "y": 1,
          "yanchor": "bottom",
          "yref": "paper"
         },
         {
          "font": {
           "size": 16
          },
          "showarrow": false,
          "text": "default_12m",
          "x": 0.5,
          "xanchor": "center",
          "xref": "paper",
          "y": 1,
          "yanchor": "bottom",
          "yref": "paper"
         },
         {
          "font": {
           "size": 16
          },
          "showarrow": false,
          "text": "deuda_total_mxn",
          "x": 0.8666666666666667,
          "xanchor": "center",
          "xref": "paper",
          "y": 1,
          "yanchor": "bottom",
          "yref": "paper"
         },
         {
          "font": {
           "size": 16
          },
          "showarrow": false,
          "text": "historial_pagos_atrasados",
          "x": 0.13333333333333333,
          "xanchor": "center",
          "xref": "paper",
          "y": 0.425,
          "yanchor": "bottom",
          "yref": "paper"
         },
         {
          "font": {
           "size": 16
          },
          "showarrow": false,
          "text": "ingresos_anuales_mxn",
          "x": 0.5,
          "xanchor": "center",
          "xref": "paper",
          "y": 0.425,
          "yanchor": "bottom",
          "yref": "paper"
         },
         {
          "font": {
           "size": 16
          },
          "showarrow": false,
          "text": "monto_solicitado_mxn",
          "x": 0.8666666666666667,
          "xanchor": "center",
          "xref": "paper",
          "y": 0.425,
          "yanchor": "bottom",
          "yref": "paper"
         }
        ],
        "height": 600,
        "showlegend": false,
        "template": {
         "data": {
          "bar": [
           {
            "error_x": {
             "color": "#2a3f5f"
            },
            "error_y": {
             "color": "#2a3f5f"
            },
            "marker": {
             "line": {
              "color": "#E5ECF6",
              "width": 0.5
             },
             "pattern": {
              "fillmode": "overlay",
              "size": 10,
              "solidity": 0.2
             }
            },
            "type": "bar"
           }
          ],
          "barpolar": [
           {
            "marker": {
             "line": {
              "color": "#E5ECF6",
              "width": 0.5
             },
             "pattern": {
              "fillmode": "overlay",
              "size": 10,
              "solidity": 0.2
             }
            },
            "type": "barpolar"
           }
          ],
          "carpet": [
           {
            "aaxis": {
             "endlinecolor": "#2a3f5f",
             "gridcolor": "white",
             "linecolor": "white",
             "minorgridcolor": "white",
             "startlinecolor": "#2a3f5f"
            },
            "baxis": {
             "endlinecolor": "#2a3f5f",
             "gridcolor": "white",
             "linecolor": "white",
             "minorgridcolor": "white",
             "startlinecolor": "#2a3f5f"
            },
            "type": "carpet"
           }
          ],
          "choropleth": [
           {
            "colorbar": {
             "outlinewidth": 0,
             "ticks": ""
            },
            "type": "choropleth"
           }
          ],
          "contour": [
           {
            "colorbar": {
             "outlinewidth": 0,
             "ticks": ""
            },
            "colorscale": [
             [
              0,
              "#0d0887"
             ],
             [
              0.1111111111111111,
              "#46039f"
             ],
             [
              0.2222222222222222,
              "#7201a8"
             ],
             [
              0.3333333333333333,
              "#9c179e"
             ],
             [
              0.4444444444444444,
              "#bd3786"
             ],
             [
              0.5555555555555556,
              "#d8576b"
             ],
             [
              0.6666666666666666,
              "#ed7953"
             ],
             [
              0.7777777777777778,
              "#fb9f3a"
             ],
             [
              0.8888888888888888,
              "#fdca26"
             ],
             [
              1,
              "#f0f921"
             ]
            ],
            "type": "contour"
           }
          ],
          "contourcarpet": [
           {
            "colorbar": {
             "outlinewidth": 0,
             "ticks": ""
            },
            "type": "contourcarpet"
           }
          ],
          "heatmap": [
           {
            "colorbar": {
             "outlinewidth": 0,
             "ticks": ""
            },
            "colorscale": [
             [
              0,
              "#0d0887"
             ],
             [
              0.1111111111111111,
              "#46039f"
             ],
             [
              0.2222222222222222,
              "#7201a8"
             ],
             [
              0.3333333333333333,
              "#9c179e"
             ],
             [
              0.4444444444444444,
              "#bd3786"
             ],
             [
              0.5555555555555556,
              "#d8576b"
             ],
             [
              0.6666666666666666,
              "#ed7953"
             ],
             [
              0.7777777777777778,
              "#fb9f3a"
             ],
             [
              0.8888888888888888,
              "#fdca26"
             ],
             [
              1,
              "#f0f921"
             ]
            ],
            "type": "heatmap"
           }
          ],
          "histogram": [
           {
            "marker": {
             "pattern": {
              "fillmode": "overlay",
              "size": 10,
              "solidity": 0.2
             }
            },
            "type": "histogram"
           }
          ],
          "histogram2d": [
           {
            "colorbar": {
             "outlinewidth": 0,
             "ticks": ""
            },
            "colorscale": [
             [
              0,
              "#0d0887"
             ],
             [
              0.1111111111111111,
              "#46039f"
             ],
             [
              0.2222222222222222,
              "#7201a8"
             ],
             [
              0.3333333333333333,
              "#9c179e"
             ],
             [
              0.4444444444444444,
              "#bd3786"
             ],
             [
              0.5555555555555556,
              "#d8576b"
             ],
             [
              0.6666666666666666,
              "#ed7953"
             ],
             [
              0.7777777777777778,
              "#fb9f3a"
             ],
             [
              0.8888888888888888,
              "#fdca26"
             ],
             [
              1,
              "#f0f921"
             ]
            ],
            "type": "histogram2d"
           }
          ],
          "histogram2dcontour": [
           {
            "colorbar": {
             "outlinewidth": 0,
             "ticks": ""
            },
            "colorscale": [
             [
              0,
              "#0d0887"
             ],
             [
              0.1111111111111111,
              "#46039f"
             ],
             [
              0.2222222222222222,
              "#7201a8"
             ],
             [
              0.3333333333333333,
              "#9c179e"
             ],
             [
              0.4444444444444444,
              "#bd3786"
             ],
             [
              0.5555555555555556,
              "#d8576b"
             ],
             [
              0.6666666666666666,
              "#ed7953"
             ],
             [
              0.7777777777777778,
              "#fb9f3a"
             ],
             [
              0.8888888888888888,
              "#fdca26"
             ],
             [
              1,
              "#f0f921"
             ]
            ],
            "type": "histogram2dcontour"
           }
          ],
          "mesh3d": [
           {
            "colorbar": {
             "outlinewidth": 0,
             "ticks": ""
            },
            "type": "mesh3d"
           }
          ],
          "parcoords": [
           {
            "line": {
             "colorbar": {
              "outlinewidth": 0,
              "ticks": ""
             }
            },
            "type": "parcoords"
           }
          ],
          "pie": [
           {
            "automargin": true,
            "type": "pie"
           }
          ],
          "scatter": [
           {
            "fillpattern": {
             "fillmode": "overlay",
             "size": 10,
             "solidity": 0.2
            },
            "type": "scatter"
           }
          ],
          "scatter3d": [
           {
            "line": {
             "colorbar": {
              "outlinewidth": 0,
              "ticks": ""
             }
            },
            "marker": {
             "colorbar": {
              "outlinewidth": 0,
              "ticks": ""
             }
            },
            "type": "scatter3d"
           }
          ],
          "scattercarpet": [
           {
            "marker": {
             "colorbar": {
              "outlinewidth": 0,
              "ticks": ""
             }
            },
            "type": "scattercarpet"
           }
          ],
          "scattergeo": [
           {
            "marker": {
             "colorbar": {
              "outlinewidth": 0,
              "ticks": ""
             }
            },
            "type": "scattergeo"
           }
          ],
          "scattergl": [
           {
            "marker": {
             "colorbar": {
              "outlinewidth": 0,
              "ticks": ""
             }
            },
            "type": "scattergl"
           }
          ],
          "scattermap": [
           {
            "marker": {
             "colorbar": {
              "outlinewidth": 0,
              "ticks": ""
             }
            },
            "type": "scattermap"
           }
          ],
          "scattermapbox": [
           {
            "marker": {
             "colorbar": {
              "outlinewidth": 0,
              "ticks": ""
             }
            },
            "type": "scattermapbox"
           }
          ],
          "scatterpolar": [
           {
            "marker": {
             "colorbar": {
              "outlinewidth": 0,
              "ticks": ""
             }
            },
            "type": "scatterpolar"
           }
          ],
          "scatterpolargl": [
           {
            "marker": {
             "colorbar": {
              "outlinewidth": 0,
              "ticks": ""
             }
            },
            "type": "scatterpolargl"
           }
          ],
          "scatterternary": [
           {
            "marker": {
             "colorbar": {
              "outlinewidth": 0,
              "ticks": ""
             }
            },
            "type": "scatterternary"
           }
          ],
          "surface": [
           {
            "colorbar": {
             "outlinewidth": 0,
             "ticks": ""
            },
            "colorscale": [
             [
              0,
              "#0d0887"
             ],
             [
              0.1111111111111111,
              "#46039f"
             ],
             [
              0.2222222222222222,
              "#7201a8"
             ],
             [
              0.3333333333333333,
              "#9c179e"
             ],
             [
              0.4444444444444444,
              "#bd3786"
             ],
             [
              0.5555555555555556,
              "#d8576b"
             ],
             [
              0.6666666666666666,
              "#ed7953"
             ],
             [
              0.7777777777777778,
              "#fb9f3a"
             ],
             [
              0.8888888888888888,
              "#fdca26"
             ],
             [
              1,
              "#f0f921"
             ]
            ],
            "type": "surface"
           }
          ],
          "table": [
           {
            "cells": {
             "fill": {
              "color": "#EBF0F8"
             },
             "line": {
              "color": "white"
             }
            },
            "header": {
             "fill": {
              "color": "#C8D4E3"
             },
             "line": {
              "color": "white"
             }
            },
            "type": "table"
           }
          ]
         },
         "layout": {
          "font": {
           "color": "#333",
           "family": "Arial",
           "size": 12
          },
          "hoverlabel": {
           "bgcolor": "white",
           "font": {
            "family": "Arial",
            "size": 12
           }
          },
          "margin": {
           "b": 40,
           "l": 40,
           "r": 40,
           "t": 60
          },
          "paper_bgcolor": "white",
          "plot_bgcolor": "white",
          "title": {
           "font": {
            "color": "#333",
            "size": 16
           },
           "x": 0.5,
           "xanchor": "center"
          }
         }
        },
        "title": {
         "text": "Distribuciones de variables numéricas",
         "x": 0.5
        },
        "width": 1200,
        "xaxis": {
         "anchor": "y",
         "domain": [
          0,
          0.26666666666666666
         ],
         "gridcolor": "rgba(0, 0, 0, 0.05)",
         "linecolor": "black",
         "linewidth": 1,
         "showgrid": true
        },
        "xaxis2": {
         "anchor": "y2",
         "domain": [
          0.3666666666666667,
          0.6333333333333333
         ],
         "gridcolor": "rgba(0, 0, 0, 0.05)",
         "linecolor": "black",
         "linewidth": 1,
         "showgrid": true
        },
        "xaxis3": {
         "anchor": "y3",
         "domain": [
          0.7333333333333334,
          1
         ],
         "gridcolor": "rgba(0, 0, 0, 0.05)",
         "linecolor": "black",
         "linewidth": 1,
         "showgrid": true
        },
        "xaxis4": {
         "anchor": "y4",
         "domain": [
          0,
          0.26666666666666666
         ],
         "gridcolor": "rgba(0, 0, 0, 0.05)",
         "linecolor": "black",
         "linewidth": 1,
         "showgrid": true
        },
        "xaxis5": {
         "anchor": "y5",
         "domain": [
          0.3666666666666667,
          0.6333333333333333
         ],
         "gridcolor": "rgba(0, 0, 0, 0.05)",
         "linecolor": "black",
         "linewidth": 1,
         "showgrid": true
        },
        "xaxis6": {
         "anchor": "y6",
         "domain": [
          0.7333333333333334,
          1
         ],
         "gridcolor": "rgba(0, 0, 0, 0.05)",
         "linecolor": "black",
         "linewidth": 1,
         "showgrid": true
        },
        "yaxis": {
         "anchor": "x",
         "domain": [
          0.575,
          1
         ],
         "gridcolor": "rgba(0, 0, 0, 0.05)",
         "linecolor": "black",
         "linewidth": 1,
         "showgrid": true,
         "title": {
          "text": "Frecuencia"
         }
        },
        "yaxis2": {
         "anchor": "x2",
         "domain": [
          0.575,
          1
         ],
         "gridcolor": "rgba(0, 0, 0, 0.05)",
         "linecolor": "black",
         "linewidth": 1,
         "showgrid": true,
         "title": {
          "text": "Frecuencia"
         }
        },
        "yaxis3": {
         "anchor": "x3",
         "domain": [
          0.575,
          1
         ],
         "gridcolor": "rgba(0, 0, 0, 0.05)",
         "linecolor": "black",
         "linewidth": 1,
         "showgrid": true,
         "title": {
          "text": "Frecuencia"
         }
        },
        "yaxis4": {
         "anchor": "x4",
         "domain": [
          0,
          0.425
         ],
         "gridcolor": "rgba(0, 0, 0, 0.05)",
         "linecolor": "black",
         "linewidth": 1,
         "showgrid": true,
         "title": {
          "text": "Frecuencia"
         }
        },
        "yaxis5": {
         "anchor": "x5",
         "domain": [
          0,
          0.425
         ],
         "gridcolor": "rgba(0, 0, 0, 0.05)",
         "linecolor": "black",
         "linewidth": 1,
         "showgrid": true,
         "title": {
          "text": "Frecuencia"
         }
        },
        "yaxis6": {
         "anchor": "x6",
         "domain": [
          0,
          0.425
         ],
         "gridcolor": "rgba(0, 0, 0, 0.05)",
         "linecolor": "black",
         "linewidth": 1,
         "showgrid": true,
         "title": {
          "text": "Frecuencia"
         }
        }
       }
      }
     },
     "metadata": {},
     "output_type": "display_data"
    }
   ],
   "source": [
    "import plotly.subplots as sp\n",
    "import plotly.graph_objects as go\n",
    "\n",
    "def plot_histograms_grid(df, exclude_cols=['Date'], bins=None, title=\"Distribuciones\"):\n",
    "    \"\"\"\n",
    "    Genera un grid de histogramas para cada columna numérica del DataFrame,\n",
    "    excluyendo las columnas especificadas en `exclude_cols`.\n",
    "\n",
    "    Parámetros:\n",
    "        df (pd.DataFrame): DataFrame de entrada.\n",
    "        exclude_cols (list): Columnas a excluir (por defecto ['Date']).\n",
    "        bins (int): Número de bins para los histogramas. Si es None, se calcula automáticamente.\n",
    "        title (str): Título general de la figura.\n",
    "    \n",
    "    Retorna:\n",
    "        fig (go.Figure): Figura con los subplots.\n",
    "    \"\"\"\n",
    "    \n",
    "    numeric_cols = df.select_dtypes(include=[np.number]).columns        # Filtrar columnas numéricas y excluir las no deseadas\n",
    "    cols_to_plot = numeric_cols.difference(exclude_cols)\n",
    "    n = len(cols_to_plot)\n",
    "    \n",
    "    if n == 0:\n",
    "        raise ValueError(\"No hay columnas numéricas para graficar.\")\n",
    "    \n",
    "    \n",
    "    if bins is None:                                                    # Calcular bins si no se especifica\n",
    "        bins = int(2 * len(df)**(1/3))                                  # Regla de Sturges modificada\n",
    "    \n",
    "    cols_grid = min(3, n)                                               # Configuración del grid (máximo 4 columnas para mejor visualización)\n",
    "    rows_grid = int(np.ceil(n / cols_grid))\n",
    "    \n",
    "    # Plantilla profesional\n",
    "    professional_template = {\n",
    "        'layout': go.Layout(\n",
    "            font=dict(family=\"Arial\", size=12, color=\"#333\"),\n",
    "            title=dict(font=dict(size=16, color=\"#333\"), x=0.5, xanchor='center'),\n",
    "            plot_bgcolor='white',\n",
    "            paper_bgcolor='white',\n",
    "            margin=dict(l=40, r=40, t=60, b=40),\n",
    "            hoverlabel=dict(bgcolor=\"white\", font_size=12, font_family=\"Arial\")\n",
    "        )\n",
    "    }\n",
    "    \n",
    "    # Crear figura con subplots\n",
    "    fig = sp.make_subplots(\n",
    "        rows=rows_grid,\n",
    "        cols=cols_grid,\n",
    "        subplot_titles=cols_to_plot,                                       # Pone los títulos a cada histograma\n",
    "        horizontal_spacing=0.1,\n",
    "        vertical_spacing=0.15\n",
    "    )\n",
    "    \n",
    "    # Añadir histogramas\n",
    "    for i, col in enumerate(cols_to_plot, 1):\n",
    "        row = ((i - 1) // cols_grid) + 1\n",
    "        col_pos = ((i - 1) % cols_grid) + 1\n",
    "        \n",
    "        fig.add_trace(\n",
    "            go.Histogram(\n",
    "                x=df[col],\n",
    "                nbinsx=bins,\n",
    "                marker=dict(\n",
    "                    color='rgba(100, 149, 237, 0.7)',\n",
    "                    line=dict(color='rgba(0, 0, 0, 0.5)', width=1)\n",
    "                ),\n",
    "                opacity=0.9,\n",
    "                hovertemplate=f\"{col}: %{{x}}<br>Frecuencia: %{{y}}<extra></extra>\",\n",
    "                name=col\n",
    "            ),\n",
    "            row=row, col=col_pos\n",
    "        )\n",
    "        \n",
    "        # Personalizar ejes\n",
    "        fig.update_xaxes(\n",
    "            #title_text=col,                                # pone títulos a eje x\n",
    "            row=row, col=col_pos,\n",
    "            showgrid=True, gridcolor='rgba(0, 0, 0, 0.05)',\n",
    "            linecolor='black', linewidth=1\n",
    "        )\n",
    "        fig.update_yaxes(\n",
    "            title_text=\"Frecuencia\",\n",
    "            row=row, col=col_pos,\n",
    "            showgrid=True, gridcolor='rgba(0, 0, 0, 0.05)',\n",
    "            linecolor='black', linewidth=1\n",
    "        )\n",
    "    \n",
    "    # Actualizar layout general\n",
    "    fig.update_layout(\n",
    "        height=300 * rows_grid,\n",
    "        width=400 * min(cols_grid, 3),  # Evitar que sea demasiado ancho\n",
    "        showlegend=False,\n",
    "        template=professional_template,\n",
    "        title_text=title,\n",
    "        title_x=0.5\n",
    "    )\n",
    "    \n",
    "    return fig\n",
    "\n",
    "fig = plot_histograms_grid(credit_data, title=\"Distribuciones de variables numéricas\")\n",
    "fig.show()"
   ]
  },
  {
   "cell_type": "code",
   "execution_count": 9,
   "id": "97c989be",
   "metadata": {},
   "outputs": [
    {
     "name": "stdout",
     "output_type": "stream",
     "text": [
      "Columna:antiguedad_empresa_anos, Skewness:1.877519\n",
      "Columna:ingresos_anuales_mxn, Skewness:17.431117\n",
      "Columna:deuda_total_mxn, Skewness:5.012009\n",
      "Columna:historial_pagos_atrasados, Skewness:0.817559\n",
      "Columna:default_12m, Skewness:2.370570\n",
      "Columna:monto_solicitado_mxn, Skewness:5.029948\n"
     ]
    }
   ],
   "source": [
    "for col in credit_data.select_dtypes(include=['number']).columns:\n",
    "    print(f\"Columna:{col}, Skewness:{credit_data[col].skew():.6f}\")"
   ]
  },
  {
   "cell_type": "markdown",
   "id": "a69e91bc",
   "metadata": {},
   "source": [
    "Podemos observar lo siguiente:\n",
    "\n",
    "- `Boxplot`: Las variables muestran diferentes escalas, destacándose especialmente la variable `ingresos_anuales_mxn`, y `deuda_total_mxn`. Esto sugiere dos posibles acciones: analizar en detalle los valores atípicos o aplicar una transformación de escala, como el uso de un RobustScaler, para mitigar su efecto.\n",
    "\n",
    "- `Histogramas`: La mayoria de los clientes tiene llevan entre 5 a 10 años en las empresas.La mayoria de las deudas están entre los 2.5 millones de MXN y el historial de pagos atrasados muestra que lo más común es registrar entre 0 y 2 atrsasps. Así mismo, los ingresos anuales predominantes están por debajo de los 10 millones de MXN. Mientras que los montos solcitados en créditos suelen concentrase en valores menores a 2 millones MXN.\n",
    "\n",
    "- `Distribuciones:` Exceptuando la variable `default_12m` (que es binaria), todas las demás variables numéricas presentan distribuciones sesgadas positivamente, con colas largas hacia la derecha. Esto coincide con los valores de asimetría (skewness), evidenciando la existencia de valores extremos que pueden afectar los análisis estadísticos y de modelado."
   ]
  },
  {
   "cell_type": "markdown",
   "id": "63109290",
   "metadata": {},
   "source": [
    "## distribucion de clases"
   ]
  },
  {
   "cell_type": "markdown",
   "id": "61030a66",
   "metadata": {},
   "source": [
    "Veamos ahora si las clases 0 y 1 estan balancedas."
   ]
  },
  {
   "cell_type": "code",
   "execution_count": 10,
   "id": "cea5cbbf",
   "metadata": {},
   "outputs": [],
   "source": [
    "def plotbar(df, y, x, colors, labels, text_fmt, title):\n",
    "    fig = px.bar(\n",
    "        df,\n",
    "        y=y,\n",
    "        x=x,\n",
    "        orientation='h',\n",
    "        labels=labels,\n",
    "        title=title,\n",
    "        color_discrete_sequence=colors,\n",
    "        color=y,\n",
    "        text_auto='.2f',\n",
    "        height=500,  # Altura ligeramente reducida para mejor proporción\n",
    "    )\n",
    "\n",
    "    fig.update_traces(\n",
    "        texttemplate=text_fmt,\n",
    "        textposition='outside',\n",
    "        textfont=dict(size=11, family='Arial', color='black'),\n",
    "        marker=dict(line=dict(width=1, color='white'))  # Borde blanco para separar barras\n",
    "    )\n",
    "\n",
    "    fig.update_layout(\n",
    "        title=dict(\n",
    "            x=0.5,\n",
    "            font=dict(size=20, family='Arial', color='#2C3E50'),\n",
    "            y=0.95\n",
    "        ),\n",
    "        plot_bgcolor='white',\n",
    "        paper_bgcolor='white',\n",
    "        showlegend=False,\n",
    "        bargap=0.4,  # Más espacio entre barras\n",
    "        bargroupgap=0.1,\n",
    "        margin=dict(t=80, b=60, l=60, r=40),\n",
    "        xaxis=dict(\n",
    "            title_font=dict(size=14, family='Arial', color='#2C3E50'),\n",
    "            tickfont=dict(size=11, family='Arial', color='#7F8C8D'),\n",
    "            showgrid=True,\n",
    "            gridcolor='#ECF0F1',\n",
    "            zerolinecolor='#BDC3C7',\n",
    "            zerolinewidth=1,\n",
    "            showline=True,\n",
    "            linecolor='#BDC3C7',\n",
    "            linewidth=1,\n",
    "            tickformat=',.0%'  # Formato porcentual para eje X\n",
    "        ),\n",
    "        yaxis=dict(\n",
    "            title='',\n",
    "            tickfont=dict(size=12, family='Arial', color='#2C3E50', weight='bold'),\n",
    "            autorange='reversed',\n",
    "            ticklen=0,\n",
    "            showline=True,\n",
    "            linecolor='#BDC3C7',\n",
    "            linewidth=1,\n",
    "            automargin=True,\n",
    "            ticksuffix=\"   \",\n",
    "            tickmode='array',\n",
    "            tickvals=[0, 1],\n",
    "            ticktext=['Clase 0', 'Clase 1']  # Etiquetas más descriptivas\n",
    "        ),\n",
    "        hoverlabel=dict(\n",
    "            bgcolor='white',\n",
    "            font_size=12,\n",
    "            font_family='Arial',\n",
    "            bordercolor='#BDC3C7'\n",
    "        ),\n",
    "        # Efectos visuales profesionales\n",
    "        font=dict(family='Arial'),\n",
    "        separators=',.',\n",
    "        hovermode='closest'\n",
    "    )\n",
    "    \n",
    "    # Mejoras adicionales para aspecto profesional\n",
    "    fig.update_coloraxes(showscale=False)\n",
    "    \n",
    "    return fig"
   ]
  },
  {
   "cell_type": "code",
   "execution_count": 11,
   "id": "bbb78eeb",
   "metadata": {},
   "outputs": [
    {
     "data": {
      "application/vnd.plotly.v1+json": {
       "config": {
        "plotlyServerURL": "https://plot.ly"
       },
       "data": [
        {
         "hovertemplate": "Proporción=%{x}<br>Clase=%{marker.color}<extra></extra>",
         "legendgroup": "",
         "marker": {
          "color": {
           "bdata": "AAE=",
           "dtype": "i1"
          },
          "coloraxis": "coloraxis",
          "line": {
           "color": "white",
           "width": 1
          },
          "pattern": {
           "shape": ""
          }
         },
         "name": "",
         "orientation": "h",
         "showlegend": false,
         "textfont": {
          "color": "black",
          "family": "Arial",
          "size": 11
         },
         "textposition": "outside",
         "texttemplate": "<b>%{x:.2%}</b>",
         "type": "bar",
         "x": {
          "bdata": "001iEFg57D9oke18PzW+Pw==",
          "dtype": "f8"
         },
         "xaxis": "x",
         "y": {
          "bdata": "AAE=",
          "dtype": "i1"
         },
         "yaxis": "y"
        }
       ],
       "layout": {
        "bargap": 0.4,
        "bargroupgap": 0.1,
        "barmode": "relative",
        "coloraxis": {
         "colorbar": {
          "title": {
           "text": "Clase"
          }
         },
         "colorscale": [
          [
           0,
           "#0d0887"
          ],
          [
           0.1111111111111111,
           "#46039f"
          ],
          [
           0.2222222222222222,
           "#7201a8"
          ],
          [
           0.3333333333333333,
           "#9c179e"
          ],
          [
           0.4444444444444444,
           "#bd3786"
          ],
          [
           0.5555555555555556,
           "#d8576b"
          ],
          [
           0.6666666666666666,
           "#ed7953"
          ],
          [
           0.7777777777777778,
           "#fb9f3a"
          ],
          [
           0.8888888888888888,
           "#fdca26"
          ],
          [
           1,
           "#f0f921"
          ]
         ],
         "showscale": false
        },
        "font": {
         "family": "Arial"
        },
        "height": 500,
        "hoverlabel": {
         "bgcolor": "white",
         "bordercolor": "#BDC3C7",
         "font": {
          "family": "Arial",
          "size": 12
         }
        },
        "hovermode": "closest",
        "legend": {
         "tracegroupgap": 0
        },
        "margin": {
         "b": 60,
         "l": 60,
         "r": 40,
         "t": 80
        },
        "paper_bgcolor": "white",
        "plot_bgcolor": "white",
        "separators": ",.",
        "showlegend": false,
        "template": {
         "data": {
          "bar": [
           {
            "error_x": {
             "color": "#2a3f5f"
            },
            "error_y": {
             "color": "#2a3f5f"
            },
            "marker": {
             "line": {
              "color": "#E5ECF6",
              "width": 0.5
             },
             "pattern": {
              "fillmode": "overlay",
              "size": 10,
              "solidity": 0.2
             }
            },
            "type": "bar"
           }
          ],
          "barpolar": [
           {
            "marker": {
             "line": {
              "color": "#E5ECF6",
              "width": 0.5
             },
             "pattern": {
              "fillmode": "overlay",
              "size": 10,
              "solidity": 0.2
             }
            },
            "type": "barpolar"
           }
          ],
          "carpet": [
           {
            "aaxis": {
             "endlinecolor": "#2a3f5f",
             "gridcolor": "white",
             "linecolor": "white",
             "minorgridcolor": "white",
             "startlinecolor": "#2a3f5f"
            },
            "baxis": {
             "endlinecolor": "#2a3f5f",
             "gridcolor": "white",
             "linecolor": "white",
             "minorgridcolor": "white",
             "startlinecolor": "#2a3f5f"
            },
            "type": "carpet"
           }
          ],
          "choropleth": [
           {
            "colorbar": {
             "outlinewidth": 0,
             "ticks": ""
            },
            "type": "choropleth"
           }
          ],
          "contour": [
           {
            "colorbar": {
             "outlinewidth": 0,
             "ticks": ""
            },
            "colorscale": [
             [
              0,
              "#0d0887"
             ],
             [
              0.1111111111111111,
              "#46039f"
             ],
             [
              0.2222222222222222,
              "#7201a8"
             ],
             [
              0.3333333333333333,
              "#9c179e"
             ],
             [
              0.4444444444444444,
              "#bd3786"
             ],
             [
              0.5555555555555556,
              "#d8576b"
             ],
             [
              0.6666666666666666,
              "#ed7953"
             ],
             [
              0.7777777777777778,
              "#fb9f3a"
             ],
             [
              0.8888888888888888,
              "#fdca26"
             ],
             [
              1,
              "#f0f921"
             ]
            ],
            "type": "contour"
           }
          ],
          "contourcarpet": [
           {
            "colorbar": {
             "outlinewidth": 0,
             "ticks": ""
            },
            "type": "contourcarpet"
           }
          ],
          "heatmap": [
           {
            "colorbar": {
             "outlinewidth": 0,
             "ticks": ""
            },
            "colorscale": [
             [
              0,
              "#0d0887"
             ],
             [
              0.1111111111111111,
              "#46039f"
             ],
             [
              0.2222222222222222,
              "#7201a8"
             ],
             [
              0.3333333333333333,
              "#9c179e"
             ],
             [
              0.4444444444444444,
              "#bd3786"
             ],
             [
              0.5555555555555556,
              "#d8576b"
             ],
             [
              0.6666666666666666,
              "#ed7953"
             ],
             [
              0.7777777777777778,
              "#fb9f3a"
             ],
             [
              0.8888888888888888,
              "#fdca26"
             ],
             [
              1,
              "#f0f921"
             ]
            ],
            "type": "heatmap"
           }
          ],
          "histogram": [
           {
            "marker": {
             "pattern": {
              "fillmode": "overlay",
              "size": 10,
              "solidity": 0.2
             }
            },
            "type": "histogram"
           }
          ],
          "histogram2d": [
           {
            "colorbar": {
             "outlinewidth": 0,
             "ticks": ""
            },
            "colorscale": [
             [
              0,
              "#0d0887"
             ],
             [
              0.1111111111111111,
              "#46039f"
             ],
             [
              0.2222222222222222,
              "#7201a8"
             ],
             [
              0.3333333333333333,
              "#9c179e"
             ],
             [
              0.4444444444444444,
              "#bd3786"
             ],
             [
              0.5555555555555556,
              "#d8576b"
             ],
             [
              0.6666666666666666,
              "#ed7953"
             ],
             [
              0.7777777777777778,
              "#fb9f3a"
             ],
             [
              0.8888888888888888,
              "#fdca26"
             ],
             [
              1,
              "#f0f921"
             ]
            ],
            "type": "histogram2d"
           }
          ],
          "histogram2dcontour": [
           {
            "colorbar": {
             "outlinewidth": 0,
             "ticks": ""
            },
            "colorscale": [
             [
              0,
              "#0d0887"
             ],
             [
              0.1111111111111111,
              "#46039f"
             ],
             [
              0.2222222222222222,
              "#7201a8"
             ],
             [
              0.3333333333333333,
              "#9c179e"
             ],
             [
              0.4444444444444444,
              "#bd3786"
             ],
             [
              0.5555555555555556,
              "#d8576b"
             ],
             [
              0.6666666666666666,
              "#ed7953"
             ],
             [
              0.7777777777777778,
              "#fb9f3a"
             ],
             [
              0.8888888888888888,
              "#fdca26"
             ],
             [
              1,
              "#f0f921"
             ]
            ],
            "type": "histogram2dcontour"
           }
          ],
          "mesh3d": [
           {
            "colorbar": {
             "outlinewidth": 0,
             "ticks": ""
            },
            "type": "mesh3d"
           }
          ],
          "parcoords": [
           {
            "line": {
             "colorbar": {
              "outlinewidth": 0,
              "ticks": ""
             }
            },
            "type": "parcoords"
           }
          ],
          "pie": [
           {
            "automargin": true,
            "type": "pie"
           }
          ],
          "scatter": [
           {
            "fillpattern": {
             "fillmode": "overlay",
             "size": 10,
             "solidity": 0.2
            },
            "type": "scatter"
           }
          ],
          "scatter3d": [
           {
            "line": {
             "colorbar": {
              "outlinewidth": 0,
              "ticks": ""
             }
            },
            "marker": {
             "colorbar": {
              "outlinewidth": 0,
              "ticks": ""
             }
            },
            "type": "scatter3d"
           }
          ],
          "scattercarpet": [
           {
            "marker": {
             "colorbar": {
              "outlinewidth": 0,
              "ticks": ""
             }
            },
            "type": "scattercarpet"
           }
          ],
          "scattergeo": [
           {
            "marker": {
             "colorbar": {
              "outlinewidth": 0,
              "ticks": ""
             }
            },
            "type": "scattergeo"
           }
          ],
          "scattergl": [
           {
            "marker": {
             "colorbar": {
              "outlinewidth": 0,
              "ticks": ""
             }
            },
            "type": "scattergl"
           }
          ],
          "scattermap": [
           {
            "marker": {
             "colorbar": {
              "outlinewidth": 0,
              "ticks": ""
             }
            },
            "type": "scattermap"
           }
          ],
          "scattermapbox": [
           {
            "marker": {
             "colorbar": {
              "outlinewidth": 0,
              "ticks": ""
             }
            },
            "type": "scattermapbox"
           }
          ],
          "scatterpolar": [
           {
            "marker": {
             "colorbar": {
              "outlinewidth": 0,
              "ticks": ""
             }
            },
            "type": "scatterpolar"
           }
          ],
          "scatterpolargl": [
           {
            "marker": {
             "colorbar": {
              "outlinewidth": 0,
              "ticks": ""
             }
            },
            "type": "scatterpolargl"
           }
          ],
          "scatterternary": [
           {
            "marker": {
             "colorbar": {
              "outlinewidth": 0,
              "ticks": ""
             }
            },
            "type": "scatterternary"
           }
          ],
          "surface": [
           {
            "colorbar": {
             "outlinewidth": 0,
             "ticks": ""
            },
            "colorscale": [
             [
              0,
              "#0d0887"
             ],
             [
              0.1111111111111111,
              "#46039f"
             ],
             [
              0.2222222222222222,
              "#7201a8"
             ],
             [
              0.3333333333333333,
              "#9c179e"
             ],
             [
              0.4444444444444444,
              "#bd3786"
             ],
             [
              0.5555555555555556,
              "#d8576b"
             ],
             [
              0.6666666666666666,
              "#ed7953"
             ],
             [
              0.7777777777777778,
              "#fb9f3a"
             ],
             [
              0.8888888888888888,
              "#fdca26"
             ],
             [
              1,
              "#f0f921"
             ]
            ],
            "type": "surface"
           }
          ],
          "table": [
           {
            "cells": {
             "fill": {
              "color": "#EBF0F8"
             },
             "line": {
              "color": "white"
             }
            },
            "header": {
             "fill": {
              "color": "#C8D4E3"
             },
             "line": {
              "color": "white"
             }
            },
            "type": "table"
           }
          ]
         },
         "layout": {
          "annotationdefaults": {
           "arrowcolor": "#2a3f5f",
           "arrowhead": 0,
           "arrowwidth": 1
          },
          "autotypenumbers": "strict",
          "coloraxis": {
           "colorbar": {
            "outlinewidth": 0,
            "ticks": ""
           }
          },
          "colorscale": {
           "diverging": [
            [
             0,
             "#8e0152"
            ],
            [
             0.1,
             "#c51b7d"
            ],
            [
             0.2,
             "#de77ae"
            ],
            [
             0.3,
             "#f1b6da"
            ],
            [
             0.4,
             "#fde0ef"
            ],
            [
             0.5,
             "#f7f7f7"
            ],
            [
             0.6,
             "#e6f5d0"
            ],
            [
             0.7,
             "#b8e186"
            ],
            [
             0.8,
             "#7fbc41"
            ],
            [
             0.9,
             "#4d9221"
            ],
            [
             1,
             "#276419"
            ]
           ],
           "sequential": [
            [
             0,
             "#0d0887"
            ],
            [
             0.1111111111111111,
             "#46039f"
            ],
            [
             0.2222222222222222,
             "#7201a8"
            ],
            [
             0.3333333333333333,
             "#9c179e"
            ],
            [
             0.4444444444444444,
             "#bd3786"
            ],
            [
             0.5555555555555556,
             "#d8576b"
            ],
            [
             0.6666666666666666,
             "#ed7953"
            ],
            [
             0.7777777777777778,
             "#fb9f3a"
            ],
            [
             0.8888888888888888,
             "#fdca26"
            ],
            [
             1,
             "#f0f921"
            ]
           ],
           "sequentialminus": [
            [
             0,
             "#0d0887"
            ],
            [
             0.1111111111111111,
             "#46039f"
            ],
            [
             0.2222222222222222,
             "#7201a8"
            ],
            [
             0.3333333333333333,
             "#9c179e"
            ],
            [
             0.4444444444444444,
             "#bd3786"
            ],
            [
             0.5555555555555556,
             "#d8576b"
            ],
            [
             0.6666666666666666,
             "#ed7953"
            ],
            [
             0.7777777777777778,
             "#fb9f3a"
            ],
            [
             0.8888888888888888,
             "#fdca26"
            ],
            [
             1,
             "#f0f921"
            ]
           ]
          },
          "colorway": [
           "#636efa",
           "#EF553B",
           "#00cc96",
           "#ab63fa",
           "#FFA15A",
           "#19d3f3",
           "#FF6692",
           "#B6E880",
           "#FF97FF",
           "#FECB52"
          ],
          "font": {
           "color": "#2a3f5f"
          },
          "geo": {
           "bgcolor": "white",
           "lakecolor": "white",
           "landcolor": "#E5ECF6",
           "showlakes": true,
           "showland": true,
           "subunitcolor": "white"
          },
          "hoverlabel": {
           "align": "left"
          },
          "hovermode": "closest",
          "mapbox": {
           "style": "light"
          },
          "paper_bgcolor": "white",
          "plot_bgcolor": "#E5ECF6",
          "polar": {
           "angularaxis": {
            "gridcolor": "white",
            "linecolor": "white",
            "ticks": ""
           },
           "bgcolor": "#E5ECF6",
           "radialaxis": {
            "gridcolor": "white",
            "linecolor": "white",
            "ticks": ""
           }
          },
          "scene": {
           "xaxis": {
            "backgroundcolor": "#E5ECF6",
            "gridcolor": "white",
            "gridwidth": 2,
            "linecolor": "white",
            "showbackground": true,
            "ticks": "",
            "zerolinecolor": "white"
           },
           "yaxis": {
            "backgroundcolor": "#E5ECF6",
            "gridcolor": "white",
            "gridwidth": 2,
            "linecolor": "white",
            "showbackground": true,
            "ticks": "",
            "zerolinecolor": "white"
           },
           "zaxis": {
            "backgroundcolor": "#E5ECF6",
            "gridcolor": "white",
            "gridwidth": 2,
            "linecolor": "white",
            "showbackground": true,
            "ticks": "",
            "zerolinecolor": "white"
           }
          },
          "shapedefaults": {
           "line": {
            "color": "#2a3f5f"
           }
          },
          "ternary": {
           "aaxis": {
            "gridcolor": "white",
            "linecolor": "white",
            "ticks": ""
           },
           "baxis": {
            "gridcolor": "white",
            "linecolor": "white",
            "ticks": ""
           },
           "bgcolor": "#E5ECF6",
           "caxis": {
            "gridcolor": "white",
            "linecolor": "white",
            "ticks": ""
           }
          },
          "title": {
           "x": 0.05
          },
          "xaxis": {
           "automargin": true,
           "gridcolor": "white",
           "linecolor": "white",
           "ticks": "",
           "title": {
            "standoff": 15
           },
           "zerolinecolor": "white",
           "zerolinewidth": 2
          },
          "yaxis": {
           "automargin": true,
           "gridcolor": "white",
           "linecolor": "white",
           "ticks": "",
           "title": {
            "standoff": 15
           },
           "zerolinecolor": "white",
           "zerolinewidth": 2
          }
         }
        },
        "title": {
         "font": {
          "color": "#2C3E50",
          "family": "Arial",
          "size": 20
         },
         "text": "Distribución de la variable objetivo (default_12m)",
         "x": 0.5,
         "y": 0.95
        },
        "xaxis": {
         "anchor": "y",
         "domain": [
          0,
          1
         ],
         "gridcolor": "#ECF0F1",
         "linecolor": "#BDC3C7",
         "linewidth": 1,
         "showgrid": true,
         "showline": true,
         "tickfont": {
          "color": "#7F8C8D",
          "family": "Arial",
          "size": 11
         },
         "tickformat": ",.0%",
         "title": {
          "font": {
           "color": "#2C3E50",
           "family": "Arial",
           "size": 14
          },
          "text": "Proporción"
         },
         "zerolinecolor": "#BDC3C7",
         "zerolinewidth": 1
        },
        "yaxis": {
         "anchor": "x",
         "automargin": true,
         "autorange": "reversed",
         "domain": [
          0,
          1
         ],
         "linecolor": "#BDC3C7",
         "linewidth": 1,
         "showline": true,
         "tickfont": {
          "color": "#2C3E50",
          "family": "Arial",
          "size": 12,
          "weight": "bold"
         },
         "ticklen": 0,
         "tickmode": "array",
         "ticksuffix": "   ",
         "ticktext": [
          "Clase 0",
          "Clase 1"
         ],
         "tickvals": [
          0,
          1
         ],
         "title": {
          "text": ""
         }
        }
       }
      }
     },
     "metadata": {},
     "output_type": "display_data"
    }
   ],
   "source": [
    "count_clases = credit_data['default_12m'].value_counts(normalize=True).reset_index()\n",
    "count_clases.columns = ['Clase', 'Proporcion']\n",
    "\n",
    "bar_fig = plotbar(\n",
    "    df=count_clases,\n",
    "    y='Clase',              \n",
    "    x='Proporcion',        \n",
    "    colors=pc.qualitative.Plotly,\n",
    "    labels={'Proporcion': 'Proporción'},\n",
    "    text_fmt='<b>%{x:.2%}</b>',   # mostrar como porcentaje con 2 decimales\n",
    "    title='Distribución de la variable objetivo (default_12m)'\n",
    ")\n",
    "\n",
    "bar_fig.show()\n"
   ]
  },
  {
   "cell_type": "markdown",
   "id": "dec30a53",
   "metadata": {},
   "source": [
    "Podemos observar que las clases están desbalancedas:\n",
    "\n",
    "- El 11.80% corresponde a clientes que incumplieron en los siguientes 12 meses posteriores.\n",
    "- El 88.20% corresponde a clientes que no han incumplido.\n"
   ]
  },
  {
   "cell_type": "markdown",
   "id": "2c50194b",
   "metadata": {},
   "source": [
    "## Resumen"
   ]
  },
  {
   "cell_type": "markdown",
   "id": "3a4102b7",
   "metadata": {},
   "source": [
    "En esta primera fase del análisis exploratorio, encontramos lo siguiente:\n",
    "\n",
    "- Las clases están desbalanceadas.\n",
    "- Hay presencia de valores faltantes en columnas tanto categóricas como numéricas.\n",
    "- No se encontraron registros duplicados.\n",
    "- Se detectaron valores atípicos, aunque aún no hemos determinado si son verdaderamente atípicos.\n",
    "\n",
    "Con base en estos hallazgos, procedamos a realizar el primer preprocesamiento de los datos para poder responder a las preguntas planteadas en el análisis exploratorio."
   ]
  },
  {
   "cell_type": "markdown",
   "id": "53af5972",
   "metadata": {},
   "source": [
    "# Preprocesamiento"
   ]
  },
  {
   "cell_type": "markdown",
   "id": "f4ff0784",
   "metadata": {},
   "source": [
    "En esta etapa, nos enfocaremos en determinar si los valores atípicos son realmente atípicos y en tratar los valores faltantes de la columna categórica **calificacion_buro**, ya que hasta el momento es la más fácil de manejar. Esta columna contiene calificaciones establecidas con letras, como B, C, D, etc. En este caso, reemplazaremos los valores NaN con la frase 'sin calificación', ya que se trata de una característica ordinal en la que cada letra representa un orden jerárquico que puede ser sustituido por un número entero."
   ]
  },
  {
   "cell_type": "markdown",
   "id": "08a78a6e",
   "metadata": {},
   "source": [
    "## Medcouple"
   ]
  },
  {
   "cell_type": "markdown",
   "id": "ea3e4d0d",
   "metadata": {},
   "source": [
    "¿Son los valores atípicos observados realmente atípicos?\n",
    "\n",
    "Para dar respuesta a esta pregunta, utilizaremos Medcouple que es muy tulizado para detectar valores atípicos.\n",
    "\n",
    "**¿Qué es el medcouple (MC)?**\n",
    "\n",
    "El **medcouple** es una medida robusta de **asimetría** basada en los valores centrales de la distribución.\n",
    "- Si **MC > 0**, la distribución tiene **asimetría positiva** (cola larga a la derecha).\n",
    "- Si **MC < 0**, la distribución tiene **asimetría negativa** (cola larga a la izquierda).\n",
    "- Si **MC ≈ 0**, la distribución es aproximadamente **simétrica**.\n",
    "\n",
    "A diferencia de la **asimetría de Pearson**, el medcouple es **más robusto**, ya que no depende de la media y la varianza, sino de la **mediana** y la **dispersión relativa de los datos**.\n",
    "\n",
    "Se calcula de la siguiente manera: si los datos son $x_1,x_2,..,x_n$ y $Me$ es la mediana, para cada par de datos $x_i,x_j$ que cumplan $x_i\\le Me\\le x_j$ y $x_i\\neq x_j$ se define $$h(x_i,x_j)=\\frac{(x_j-Me)-(Me-x_i)}{x_j-x_i}$$ y la Medcouple se calcula como $ MC= $ mediana de todos los $h(x_i,x_j)$. Se trata de un estimador robusto de la simetría.\n",
    "\n",
    "En este caso lo usaremos sobre la columna `ingresos_anuales_mxn` para detectar los verdaderos valores atípicos."
   ]
  },
  {
   "cell_type": "code",
   "execution_count": 12,
   "id": "f8d96ab4",
   "metadata": {},
   "outputs": [
    {
     "data": {
      "text/plain": [
       "count        1455.00\n",
       "mean      5415924.13\n",
       "std       9924932.50\n",
       "min        161517.32\n",
       "25%       1595236.54\n",
       "50%       3097466.73\n",
       "75%       5975456.75\n",
       "max     289841674.60\n",
       "Name: ingresos_anuales_mxn, dtype: float64"
      ]
     },
     "execution_count": 12,
     "metadata": {},
     "output_type": "execute_result"
    }
   ],
   "source": [
    "from statsmodels.stats.stattools import medcouple\n",
    "\n",
    "ingresos_anuales_mxn = credit_data[\"ingresos_anuales_mxn\"]\n",
    "ingresos_anuales_mxn = ingresos_anuales_mxn[~np.isnan(ingresos_anuales_mxn)]\n",
    "resumen = ingresos_anuales_mxn.describe()\n",
    "resumen.head(8)"
   ]
  },
  {
   "cell_type": "code",
   "execution_count": 13,
   "id": "eb3cfc1b",
   "metadata": {},
   "outputs": [],
   "source": [
    "Q1 = resumen.iloc[4]\n",
    "Q2 = resumen.iloc[5]\n",
    "Q3 = resumen.iloc[6]\n",
    "\n",
    "RI = Q3 - Q1\n",
    "Barrera_inf = Q1 - 1.5 * RI\n",
    "Barrera_sup = Q3 + 1.5 * RI\n",
    "atipicos_boxplot = ingresos_anuales_mxn[(ingresos_anuales_mxn< Barrera_inf) | (ingresos_anuales_mxn > Barrera_sup)]"
   ]
  },
  {
   "cell_type": "code",
   "execution_count": 14,
   "id": "85096a3d",
   "metadata": {},
   "outputs": [
    {
     "data": {
      "application/vnd.plotly.v1+json": {
       "config": {
        "plotlyServerURL": "https://plot.ly"
       },
       "data": [
        {
         "hovertemplate": "ingresos_anuales_mxn: %{x}<br>Cantidad: %{y}<extra></extra>",
         "marker": {
          "color": "rgba(100, 149, 237, 0.7)",
          "line": {
           "color": "rgba(0, 0, 0, 0.5)",
           "width": 1
          }
         },
         "name": "Ingresos_anuales_mxn",
         "nbinsx": 22,
         "opacity": 0.9,
         "type": "histogram",
         "x": {
          "bdata": "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",
          "dtype": "f8"
         },
         "xaxis": "x",
         "yaxis": "y"
        },
        {
         "boxpoints": "outliers",
         "fillcolor": "rgba(100, 149, 237, 0.3)",
         "hoverinfo": "y",
         "line": {
          "color": "black",
          "width": 1.5
         },
         "marker": {
          "color": "rgba(100, 149, 237, 0.6)",
          "line": {
           "color": "black",
           "width": 1
          },
          "opacity": 0.7,
          "size": 5
         },
         "name": "Ingresos_anuales_mxn",
         "type": "box",
         "whiskerwidth": 0.3,
         "xaxis": "x2",
         "y": {
          "bdata": "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",
          "dtype": "f8"
         },
         "yaxis": "y2"
        }
       ],
       "layout": {
        "annotations": [
         {
          "font": {
           "size": 16
          },
          "showarrow": false,
          "text": "Distribución de ingresos anuales mxn",
          "x": 0.2125,
          "xanchor": "center",
          "xref": "paper",
          "y": 1,
          "yanchor": "bottom",
          "yref": "paper"
         },
         {
          "font": {
           "size": 16
          },
          "showarrow": false,
          "text": "Diagrama de Caja",
          "x": 0.7875,
          "xanchor": "center",
          "xref": "paper",
          "y": 1,
          "yanchor": "bottom",
          "yref": "paper"
         }
        ],
        "height": 600,
        "showlegend": false,
        "template": {
         "data": {
          "bar": [
           {
            "error_x": {
             "color": "#2a3f5f"
            },
            "error_y": {
             "color": "#2a3f5f"
            },
            "marker": {
             "line": {
              "color": "#E5ECF6",
              "width": 0.5
             },
             "pattern": {
              "fillmode": "overlay",
              "size": 10,
              "solidity": 0.2
             }
            },
            "type": "bar"
           }
          ],
          "barpolar": [
           {
            "marker": {
             "line": {
              "color": "#E5ECF6",
              "width": 0.5
             },
             "pattern": {
              "fillmode": "overlay",
              "size": 10,
              "solidity": 0.2
             }
            },
            "type": "barpolar"
           }
          ],
          "carpet": [
           {
            "aaxis": {
             "endlinecolor": "#2a3f5f",
             "gridcolor": "white",
             "linecolor": "white",
             "minorgridcolor": "white",
             "startlinecolor": "#2a3f5f"
            },
            "baxis": {
             "endlinecolor": "#2a3f5f",
             "gridcolor": "white",
             "linecolor": "white",
             "minorgridcolor": "white",
             "startlinecolor": "#2a3f5f"
            },
            "type": "carpet"
           }
          ],
          "choropleth": [
           {
            "colorbar": {
             "outlinewidth": 0,
             "ticks": ""
            },
            "type": "choropleth"
           }
          ],
          "contour": [
           {
            "colorbar": {
             "outlinewidth": 0,
             "ticks": ""
            },
            "colorscale": [
             [
              0,
              "#0d0887"
             ],
             [
              0.1111111111111111,
              "#46039f"
             ],
             [
              0.2222222222222222,
              "#7201a8"
             ],
             [
              0.3333333333333333,
              "#9c179e"
             ],
             [
              0.4444444444444444,
              "#bd3786"
             ],
             [
              0.5555555555555556,
              "#d8576b"
             ],
             [
              0.6666666666666666,
              "#ed7953"
             ],
             [
              0.7777777777777778,
              "#fb9f3a"
             ],
             [
              0.8888888888888888,
              "#fdca26"
             ],
             [
              1,
              "#f0f921"
             ]
            ],
            "type": "contour"
           }
          ],
          "contourcarpet": [
           {
            "colorbar": {
             "outlinewidth": 0,
             "ticks": ""
            },
            "type": "contourcarpet"
           }
          ],
          "heatmap": [
           {
            "colorbar": {
             "outlinewidth": 0,
             "ticks": ""
            },
            "colorscale": [
             [
              0,
              "#0d0887"
             ],
             [
              0.1111111111111111,
              "#46039f"
             ],
             [
              0.2222222222222222,
              "#7201a8"
             ],
             [
              0.3333333333333333,
              "#9c179e"
             ],
             [
              0.4444444444444444,
              "#bd3786"
             ],
             [
              0.5555555555555556,
              "#d8576b"
             ],
             [
              0.6666666666666666,
              "#ed7953"
             ],
             [
              0.7777777777777778,
              "#fb9f3a"
             ],
             [
              0.8888888888888888,
              "#fdca26"
             ],
             [
              1,
              "#f0f921"
             ]
            ],
            "type": "heatmap"
           }
          ],
          "histogram": [
           {
            "marker": {
             "pattern": {
              "fillmode": "overlay",
              "size": 10,
              "solidity": 0.2
             }
            },
            "type": "histogram"
           }
          ],
          "histogram2d": [
           {
            "colorbar": {
             "outlinewidth": 0,
             "ticks": ""
            },
            "colorscale": [
             [
              0,
              "#0d0887"
             ],
             [
              0.1111111111111111,
              "#46039f"
             ],
             [
              0.2222222222222222,
              "#7201a8"
             ],
             [
              0.3333333333333333,
              "#9c179e"
             ],
             [
              0.4444444444444444,
              "#bd3786"
             ],
             [
              0.5555555555555556,
              "#d8576b"
             ],
             [
              0.6666666666666666,
              "#ed7953"
             ],
             [
              0.7777777777777778,
              "#fb9f3a"
             ],
             [
              0.8888888888888888,
              "#fdca26"
             ],
             [
              1,
              "#f0f921"
             ]
            ],
            "type": "histogram2d"
           }
          ],
          "histogram2dcontour": [
           {
            "colorbar": {
             "outlinewidth": 0,
             "ticks": ""
            },
            "colorscale": [
             [
              0,
              "#0d0887"
             ],
             [
              0.1111111111111111,
              "#46039f"
             ],
             [
              0.2222222222222222,
              "#7201a8"
             ],
             [
              0.3333333333333333,
              "#9c179e"
             ],
             [
              0.4444444444444444,
              "#bd3786"
             ],
             [
              0.5555555555555556,
              "#d8576b"
             ],
             [
              0.6666666666666666,
              "#ed7953"
             ],
             [
              0.7777777777777778,
              "#fb9f3a"
             ],
             [
              0.8888888888888888,
              "#fdca26"
             ],
             [
              1,
              "#f0f921"
             ]
            ],
            "type": "histogram2dcontour"
           }
          ],
          "mesh3d": [
           {
            "colorbar": {
             "outlinewidth": 0,
             "ticks": ""
            },
            "type": "mesh3d"
           }
          ],
          "parcoords": [
           {
            "line": {
             "colorbar": {
              "outlinewidth": 0,
              "ticks": ""
             }
            },
            "type": "parcoords"
           }
          ],
          "pie": [
           {
            "automargin": true,
            "type": "pie"
           }
          ],
          "scatter": [
           {
            "fillpattern": {
             "fillmode": "overlay",
             "size": 10,
             "solidity": 0.2
            },
            "type": "scatter"
           }
          ],
          "scatter3d": [
           {
            "line": {
             "colorbar": {
              "outlinewidth": 0,
              "ticks": ""
             }
            },
            "marker": {
             "colorbar": {
              "outlinewidth": 0,
              "ticks": ""
             }
            },
            "type": "scatter3d"
           }
          ],
          "scattercarpet": [
           {
            "marker": {
             "colorbar": {
              "outlinewidth": 0,
              "ticks": ""
             }
            },
            "type": "scattercarpet"
           }
          ],
          "scattergeo": [
           {
            "marker": {
             "colorbar": {
              "outlinewidth": 0,
              "ticks": ""
             }
            },
            "type": "scattergeo"
           }
          ],
          "scattergl": [
           {
            "marker": {
             "colorbar": {
              "outlinewidth": 0,
              "ticks": ""
             }
            },
            "type": "scattergl"
           }
          ],
          "scattermap": [
           {
            "marker": {
             "colorbar": {
              "outlinewidth": 0,
              "ticks": ""
             }
            },
            "type": "scattermap"
           }
          ],
          "scattermapbox": [
           {
            "marker": {
             "colorbar": {
              "outlinewidth": 0,
              "ticks": ""
             }
            },
            "type": "scattermapbox"
           }
          ],
          "scatterpolar": [
           {
            "marker": {
             "colorbar": {
              "outlinewidth": 0,
              "ticks": ""
             }
            },
            "type": "scatterpolar"
           }
          ],
          "scatterpolargl": [
           {
            "marker": {
             "colorbar": {
              "outlinewidth": 0,
              "ticks": ""
             }
            },
            "type": "scatterpolargl"
           }
          ],
          "scatterternary": [
           {
            "marker": {
             "colorbar": {
              "outlinewidth": 0,
              "ticks": ""
             }
            },
            "type": "scatterternary"
           }
          ],
          "surface": [
           {
            "colorbar": {
             "outlinewidth": 0,
             "ticks": ""
            },
            "colorscale": [
             [
              0,
              "#0d0887"
             ],
             [
              0.1111111111111111,
              "#46039f"
             ],
             [
              0.2222222222222222,
              "#7201a8"
             ],
             [
              0.3333333333333333,
              "#9c179e"
             ],
             [
              0.4444444444444444,
              "#bd3786"
             ],
             [
              0.5555555555555556,
              "#d8576b"
             ],
             [
              0.6666666666666666,
              "#ed7953"
             ],
             [
              0.7777777777777778,
              "#fb9f3a"
             ],
             [
              0.8888888888888888,
              "#fdca26"
             ],
             [
              1,
              "#f0f921"
             ]
            ],
            "type": "surface"
           }
          ],
          "table": [
           {
            "cells": {
             "fill": {
              "color": "#EBF0F8"
             },
             "line": {
              "color": "white"
             }
            },
            "header": {
             "fill": {
              "color": "#C8D4E3"
             },
             "line": {
              "color": "white"
             }
            },
            "type": "table"
           }
          ]
         },
         "layout": {
          "font": {
           "color": "#333",
           "family": "Arial",
           "size": 12
          },
          "hoverlabel": {
           "bgcolor": "white",
           "font": {
            "family": "Arial",
            "size": 12
           }
          },
          "margin": {
           "b": 40,
           "l": 40,
           "r": 40,
           "t": 60
          },
          "paper_bgcolor": "white",
          "plot_bgcolor": "white",
          "title": {
           "font": {
            "color": "#333",
            "size": 16
           },
           "x": 0.5,
           "xanchor": "center"
          }
         }
        },
        "title": {
         "text": "Análisis de Distribución de ingresos anuales mxn",
         "x": 0.5
        },
        "width": 600,
        "xaxis": {
         "anchor": "y",
         "domain": [
          0,
          0.425
         ],
         "gridcolor": "rgba(0, 0, 0, 0.05)",
         "linecolor": "black",
         "linewidth": 1,
         "showgrid": true,
         "title": {
          "text": "Ingresos_anuales_mxn"
         }
        },
        "xaxis2": {
         "anchor": "y2",
         "domain": [
          0.575,
          1
         ]
        },
        "yaxis": {
         "anchor": "x",
         "domain": [
          0,
          1
         ],
         "gridcolor": "rgba(0, 0, 0, 0.05)",
         "linecolor": "black",
         "linewidth": 1,
         "showgrid": true,
         "title": {
          "text": "Frecuencia"
         }
        },
        "yaxis2": {
         "anchor": "x2",
         "domain": [
          0,
          1
         ],
         "gridcolor": "rgba(0, 0, 0, 0.05)",
         "linecolor": "black",
         "linewidth": 1,
         "showgrid": true,
         "title": {
          "text": "Ingresos_anuales_mxn"
         }
        }
       }
      }
     },
     "metadata": {},
     "output_type": "display_data"
    }
   ],
   "source": [
    "n = len(ingresos_anuales_mxn)\n",
    "numBins = int(2 * n**(1/3)) \n",
    "#estilo profesional\n",
    "professional_template = {\n",
    "    'layout': go.Layout(\n",
    "        font=dict(family=\"Arial\", size=12, color=\"#333\"),\n",
    "        title=dict(font=dict(size=16, color=\"#333\"), x=0.5, xanchor='center'),\n",
    "        plot_bgcolor='white',\n",
    "        paper_bgcolor='white',\n",
    "        margin=dict(l=40, r=40, t=60, b=40),\n",
    "        hoverlabel=dict(\n",
    "            bgcolor=\"white\",\n",
    "            font_size=12,\n",
    "            font_family=\"Arial\"\n",
    "        )\n",
    "    )\n",
    "}\n",
    "\n",
    "# Crear figura con subplots\n",
    "fig = sp.make_subplots(\n",
    "    rows=1, \n",
    "    cols=2,\n",
    "    subplot_titles=(\"Distribución de ingresos anuales mxn\", \"Diagrama de Caja\"),\n",
    "    horizontal_spacing=0.15\n",
    ")\n",
    "\n",
    "# Histograma \n",
    "fig.add_trace(\n",
    "    go.Histogram(\n",
    "        x=ingresos_anuales_mxn,\n",
    "        nbinsx=numBins,\n",
    "        marker=dict(\n",
    "            color='rgba(100, 149, 237, 0.7)',\n",
    "            line=dict(color='rgba(0, 0, 0, 0.5)', width=1)\n",
    "        ),\n",
    "        opacity=0.9,\n",
    "        hovertemplate=\"ingresos_anuales_mxn: %{x}<br>Cantidad: %{y}<extra></extra>\",\n",
    "        name=\"Ingresos_anuales_mxn\"\n",
    "    ),\n",
    "    row=1, col=1\n",
    ")\n",
    "\n",
    "# Boxplot \n",
    "fig.add_trace(\n",
    "    go.Box(\n",
    "        y=ingresos_anuales_mxn,\n",
    "        boxpoints='outliers',\n",
    "        marker=dict(\n",
    "            color=\"rgba(100, 149, 237, 0.6)\",\n",
    "            size=5,\n",
    "            opacity=0.7,\n",
    "            line=dict(width=1, color='black')\n",
    "        ),\n",
    "        line=dict(color=\"black\", width=1.5),\n",
    "        whiskerwidth=0.3,\n",
    "        fillcolor='rgba(100, 149, 237, 0.3)',\n",
    "        hoverinfo='y',\n",
    "        name=\"Ingresos_anuales_mxn\"\n",
    "    ),\n",
    "    row=1, col=2\n",
    ")\n",
    "\n",
    "# Actualizar layout general\n",
    "fig.update_layout(\n",
    "    height=600,\n",
    "    width=600,\n",
    "    showlegend=False,\n",
    "    template=professional_template,\n",
    "    title_text='Análisis de Distribución de ingresos anuales mxn',\n",
    "    title_x=0.5\n",
    ")\n",
    "\n",
    "# Personalizar ejes y cuadrícula\n",
    "fig.update_xaxes(\n",
    "    title_text=\"Ingresos_anuales_mxn\",\n",
    "    row=1, col=1,\n",
    "    showgrid=True, gridcolor='rgba(0, 0, 0, 0.05)',\n",
    "    linecolor='black', linewidth=1\n",
    ")\n",
    "fig.update_yaxes(\n",
    "    title_text=\"Frecuencia\",\n",
    "    row=1, col=1,\n",
    "    showgrid=True, gridcolor='rgba(0, 0, 0, 0.05)',\n",
    "    linecolor='black', linewidth=1\n",
    ")\n",
    "fig.update_yaxes(\n",
    "    title_text=\"Ingresos_anuales_mxn\",\n",
    "    row=1, col=2,\n",
    "    showgrid=True, gridcolor='rgba(0, 0, 0, 0.05)',\n",
    "    linecolor='black', linewidth=1\n",
    ")\n",
    "fig.show()"
   ]
  },
  {
   "cell_type": "markdown",
   "id": "f2be577e",
   "metadata": {},
   "source": [
    "¿Se pueden clasificar esos valores como verdaderamente atípicos?\n",
    "\n",
    "Pues calculmenos medcouple."
   ]
  },
  {
   "cell_type": "code",
   "execution_count": 15,
   "id": "4b10c0e8",
   "metadata": {},
   "outputs": [
    {
     "name": "stdout",
     "output_type": "stream",
     "text": [
      "0.4330742518059617\n"
     ]
    }
   ],
   "source": [
    "MC = medcouple(ingresos_anuales_mxn.to_numpy())\n",
    "print(MC)"
   ]
  },
  {
   "cell_type": "markdown",
   "id": "410a4838",
   "metadata": {},
   "source": [
    "Esto indica distribución con asimetria positiva. \n",
    "\n",
    "En un **boxplot tradicional**, los valores atípicos se detectan con:\n",
    "\n",
    "$$Q_1 - 1.5 \\times IQR, \\quad Q_3 + 1.5 \\times IQR$$\n",
    "\n",
    "En el **boxplot ajustado con medcouple**, se ajustan los coeficientes en función del **MC**:\n",
    "\n",
    "- Si **MC > 0** (asimetría positiva), el límite superior se **expande** y el inferior se **contrae**.\n",
    "\n",
    "$$L_{\\text{inf}} = Q_1 - 1.5 \\times e^{-3.5 \\times MC} \\times IQR$$\n",
    "\n",
    "$$L_{\\text{sup}} = Q_3 + 1.5 \\times e^{4 \\times MC} \\times IQR$$\n",
    "  \n",
    "- Si **MC < 0** (asimetría negativa), el límite inferior se **expande** y el superior se **contrae**.\n",
    "\n",
    "$$L_{\\text{inf}} = Q_1 - 1.5 \\times e^{-4 \\times MC} \\times IQR$$\n",
    "\n",
    "$$L_{\\text{sup}} = Q_3 + 1.5 \\times e^{3.5 \\times MC} \\times IQR$$\n",
    "\n",
    "El boxplot ajustado se utiliza cuando los datos son **altamente asimétricos**, ya que el boxplot tradicional puede generar demasiados valores atípicos en la cola larga. \n",
    "\n",
    "Ahora calculemos los límites superiores e inferiores y veamos los atípicos."
   ]
  },
  {
   "cell_type": "code",
   "execution_count": 16,
   "id": "c8312d46",
   "metadata": {},
   "outputs": [
    {
     "data": {
      "text/plain": [
       "89      48304421.84\n",
       "529     57563719.40\n",
       "685    289841674.60\n",
       "1004    83728750.37\n",
       "1270    76443062.03\n",
       "1335    54551427.82\n",
       "Name: ingresos_anuales_mxn, dtype: float64"
      ]
     },
     "execution_count": 16,
     "metadata": {},
     "output_type": "execute_result"
    }
   ],
   "source": [
    "lim_inf_MC = Q1 - 1.5 * np.exp(-3.5 * MC) * RI\n",
    "lim_sup_MC = Q3 + 1.5 * np.exp(4 * MC) * RI\n",
    "\n",
    "atipicos_mc = ingresos_anuales_mxn[(ingresos_anuales_mxn < lim_inf_MC) | (ingresos_anuales_mxn > lim_sup_MC)]\n",
    "ingresos_anuales_mxn[ingresos_anuales_mxn.isin(atipicos_mc)]"
   ]
  },
  {
   "cell_type": "code",
   "execution_count": 17,
   "id": "e9944e16",
   "metadata": {},
   "outputs": [
    {
     "data": {
      "application/vnd.plotly.v1+json": {
       "config": {
        "plotlyServerURL": "https://plot.ly"
       },
       "data": [
        {
         "hovertemplate": "Ingresos_anuales_mxn: %{x}<br>Cantidad: %{y}<extra></extra>",
         "marker": {
          "color": "rgba(100, 149, 237, 0.7)",
          "line": {
           "color": "rgba(0, 0, 0, 0.5)",
           "width": 1
          }
         },
         "name": "",
         "nbinsx": 22,
         "opacity": 0.9,
         "type": "histogram",
         "x": {
          "bdata": "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",
          "dtype": "f8"
         },
         "xaxis": "x",
         "yaxis": "y"
        },
        {
         "boxpoints": false,
         "fillcolor": "rgba(100, 149, 237, 0.3)",
         "hoverinfo": "y",
         "line": {
          "color": "black",
          "width": 1.5
         },
         "marker": {
          "color": "rgba(100, 149, 237, 0.6)",
          "line": {
           "color": "black",
           "width": 1
          },
          "opacity": 0.7,
          "size": 5
         },
         "name": "Ingresos_anuales_mxn",
         "type": "box",
         "whiskerwidth": 0.3,
         "xaxis": "x2",
         "y": {
          "bdata": "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",
          "dtype": "f8"
         },
         "yaxis": "y2"
        },
        {
         "marker": {
          "color": "red",
          "line": {
           "color": "red",
           "width": 1.5
          },
          "opacity": 0.8,
          "size": 8,
          "symbol": "circle-open"
         },
         "mode": "markers",
         "type": "scatter",
         "x": [
          "Ingresos_anuales_mxn",
          "Ingresos_anuales_mxn",
          "Ingresos_anuales_mxn",
          "Ingresos_anuales_mxn",
          "Ingresos_anuales_mxn",
          "Ingresos_anuales_mxn"
         ],
         "xaxis": "x2",
         "y": {
          "bdata": "7FG4LokIh0EzMzM70nKLQZqZmQqiRrFBSOF6uWX2k0FSuB7YtjmSQSlcjx4cA4pB",
          "dtype": "f8"
         },
         "yaxis": "y2"
        }
       ],
       "layout": {
        "annotations": [
         {
          "font": {
           "size": 16
          },
          "showarrow": false,
          "text": "Distribución de ingresos anuales mxn",
          "x": 0.2125,
          "xanchor": "center",
          "xref": "paper",
          "y": 1,
          "yanchor": "bottom",
          "yref": "paper"
         },
         {
          "font": {
           "size": 16
          },
          "showarrow": false,
          "text": "Diagrama de Caja",
          "x": 0.7875,
          "xanchor": "center",
          "xref": "paper",
          "y": 1,
          "yanchor": "bottom",
          "yref": "paper"
         }
        ],
        "height": 600,
        "showlegend": false,
        "template": {
         "data": {
          "bar": [
           {
            "error_x": {
             "color": "#2a3f5f"
            },
            "error_y": {
             "color": "#2a3f5f"
            },
            "marker": {
             "line": {
              "color": "#E5ECF6",
              "width": 0.5
             },
             "pattern": {
              "fillmode": "overlay",
              "size": 10,
              "solidity": 0.2
             }
            },
            "type": "bar"
           }
          ],
          "barpolar": [
           {
            "marker": {
             "line": {
              "color": "#E5ECF6",
              "width": 0.5
             },
             "pattern": {
              "fillmode": "overlay",
              "size": 10,
              "solidity": 0.2
             }
            },
            "type": "barpolar"
           }
          ],
          "carpet": [
           {
            "aaxis": {
             "endlinecolor": "#2a3f5f",
             "gridcolor": "white",
             "linecolor": "white",
             "minorgridcolor": "white",
             "startlinecolor": "#2a3f5f"
            },
            "baxis": {
             "endlinecolor": "#2a3f5f",
             "gridcolor": "white",
             "linecolor": "white",
             "minorgridcolor": "white",
             "startlinecolor": "#2a3f5f"
            },
            "type": "carpet"
           }
          ],
          "choropleth": [
           {
            "colorbar": {
             "outlinewidth": 0,
             "ticks": ""
            },
            "type": "choropleth"
           }
          ],
          "contour": [
           {
            "colorbar": {
             "outlinewidth": 0,
             "ticks": ""
            },
            "colorscale": [
             [
              0,
              "#0d0887"
             ],
             [
              0.1111111111111111,
              "#46039f"
             ],
             [
              0.2222222222222222,
              "#7201a8"
             ],
             [
              0.3333333333333333,
              "#9c179e"
             ],
             [
              0.4444444444444444,
              "#bd3786"
             ],
             [
              0.5555555555555556,
              "#d8576b"
             ],
             [
              0.6666666666666666,
              "#ed7953"
             ],
             [
              0.7777777777777778,
              "#fb9f3a"
             ],
             [
              0.8888888888888888,
              "#fdca26"
             ],
             [
              1,
              "#f0f921"
             ]
            ],
            "type": "contour"
           }
          ],
          "contourcarpet": [
           {
            "colorbar": {
             "outlinewidth": 0,
             "ticks": ""
            },
            "type": "contourcarpet"
           }
          ],
          "heatmap": [
           {
            "colorbar": {
             "outlinewidth": 0,
             "ticks": ""
            },
            "colorscale": [
             [
              0,
              "#0d0887"
             ],
             [
              0.1111111111111111,
              "#46039f"
             ],
             [
              0.2222222222222222,
              "#7201a8"
             ],
             [
              0.3333333333333333,
              "#9c179e"
             ],
             [
              0.4444444444444444,
              "#bd3786"
             ],
             [
              0.5555555555555556,
              "#d8576b"
             ],
             [
              0.6666666666666666,
              "#ed7953"
             ],
             [
              0.7777777777777778,
              "#fb9f3a"
             ],
             [
              0.8888888888888888,
              "#fdca26"
             ],
             [
              1,
              "#f0f921"
             ]
            ],
            "type": "heatmap"
           }
          ],
          "histogram": [
           {
            "marker": {
             "pattern": {
              "fillmode": "overlay",
              "size": 10,
              "solidity": 0.2
             }
            },
            "type": "histogram"
           }
          ],
          "histogram2d": [
           {
            "colorbar": {
             "outlinewidth": 0,
             "ticks": ""
            },
            "colorscale": [
             [
              0,
              "#0d0887"
             ],
             [
              0.1111111111111111,
              "#46039f"
             ],
             [
              0.2222222222222222,
              "#7201a8"
             ],
             [
              0.3333333333333333,
              "#9c179e"
             ],
             [
              0.4444444444444444,
              "#bd3786"
             ],
             [
              0.5555555555555556,
              "#d8576b"
             ],
             [
              0.6666666666666666,
              "#ed7953"
             ],
             [
              0.7777777777777778,
              "#fb9f3a"
             ],
             [
              0.8888888888888888,
              "#fdca26"
             ],
             [
              1,
              "#f0f921"
             ]
            ],
            "type": "histogram2d"
           }
          ],
          "histogram2dcontour": [
           {
            "colorbar": {
             "outlinewidth": 0,
             "ticks": ""
            },
            "colorscale": [
             [
              0,
              "#0d0887"
             ],
             [
              0.1111111111111111,
              "#46039f"
             ],
             [
              0.2222222222222222,
              "#7201a8"
             ],
             [
              0.3333333333333333,
              "#9c179e"
             ],
             [
              0.4444444444444444,
              "#bd3786"
             ],
             [
              0.5555555555555556,
              "#d8576b"
             ],
             [
              0.6666666666666666,
              "#ed7953"
             ],
             [
              0.7777777777777778,
              "#fb9f3a"
             ],
             [
              0.8888888888888888,
              "#fdca26"
             ],
             [
              1,
              "#f0f921"
             ]
            ],
            "type": "histogram2dcontour"
           }
          ],
          "mesh3d": [
           {
            "colorbar": {
             "outlinewidth": 0,
             "ticks": ""
            },
            "type": "mesh3d"
           }
          ],
          "parcoords": [
           {
            "line": {
             "colorbar": {
              "outlinewidth": 0,
              "ticks": ""
             }
            },
            "type": "parcoords"
           }
          ],
          "pie": [
           {
            "automargin": true,
            "type": "pie"
           }
          ],
          "scatter": [
           {
            "fillpattern": {
             "fillmode": "overlay",
             "size": 10,
             "solidity": 0.2
            },
            "type": "scatter"
           }
          ],
          "scatter3d": [
           {
            "line": {
             "colorbar": {
              "outlinewidth": 0,
              "ticks": ""
             }
            },
            "marker": {
             "colorbar": {
              "outlinewidth": 0,
              "ticks": ""
             }
            },
            "type": "scatter3d"
           }
          ],
          "scattercarpet": [
           {
            "marker": {
             "colorbar": {
              "outlinewidth": 0,
              "ticks": ""
             }
            },
            "type": "scattercarpet"
           }
          ],
          "scattergeo": [
           {
            "marker": {
             "colorbar": {
              "outlinewidth": 0,
              "ticks": ""
             }
            },
            "type": "scattergeo"
           }
          ],
          "scattergl": [
           {
            "marker": {
             "colorbar": {
              "outlinewidth": 0,
              "ticks": ""
             }
            },
            "type": "scattergl"
           }
          ],
          "scattermap": [
           {
            "marker": {
             "colorbar": {
              "outlinewidth": 0,
              "ticks": ""
             }
            },
            "type": "scattermap"
           }
          ],
          "scattermapbox": [
           {
            "marker": {
             "colorbar": {
              "outlinewidth": 0,
              "ticks": ""
             }
            },
            "type": "scattermapbox"
           }
          ],
          "scatterpolar": [
           {
            "marker": {
             "colorbar": {
              "outlinewidth": 0,
              "ticks": ""
             }
            },
            "type": "scatterpolar"
           }
          ],
          "scatterpolargl": [
           {
            "marker": {
             "colorbar": {
              "outlinewidth": 0,
              "ticks": ""
             }
            },
            "type": "scatterpolargl"
           }
          ],
          "scatterternary": [
           {
            "marker": {
             "colorbar": {
              "outlinewidth": 0,
              "ticks": ""
             }
            },
            "type": "scatterternary"
           }
          ],
          "surface": [
           {
            "colorbar": {
             "outlinewidth": 0,
             "ticks": ""
            },
            "colorscale": [
             [
              0,
              "#0d0887"
             ],
             [
              0.1111111111111111,
              "#46039f"
             ],
             [
              0.2222222222222222,
              "#7201a8"
             ],
             [
              0.3333333333333333,
              "#9c179e"
             ],
             [
              0.4444444444444444,
              "#bd3786"
             ],
             [
              0.5555555555555556,
              "#d8576b"
             ],
             [
              0.6666666666666666,
              "#ed7953"
             ],
             [
              0.7777777777777778,
              "#fb9f3a"
             ],
             [
              0.8888888888888888,
              "#fdca26"
             ],
             [
              1,
              "#f0f921"
             ]
            ],
            "type": "surface"
           }
          ],
          "table": [
           {
            "cells": {
             "fill": {
              "color": "#EBF0F8"
             },
             "line": {
              "color": "white"
             }
            },
            "header": {
             "fill": {
              "color": "#C8D4E3"
             },
             "line": {
              "color": "white"
             }
            },
            "type": "table"
           }
          ]
         },
         "layout": {
          "font": {
           "color": "#333",
           "family": "Arial",
           "size": 12
          },
          "hoverlabel": {
           "bgcolor": "white",
           "font": {
            "family": "Arial",
            "size": 12
           }
          },
          "margin": {
           "b": 40,
           "l": 40,
           "r": 40,
           "t": 60
          },
          "paper_bgcolor": "white",
          "plot_bgcolor": "white",
          "title": {
           "font": {
            "color": "#333",
            "size": 16
           },
           "x": 0.5,
           "xanchor": "center"
          }
         }
        },
        "title": {
         "text": "Análisis de Distribución de ingresos anuales mxn",
         "x": 0.5
        },
        "width": 600,
        "xaxis": {
         "anchor": "y",
         "domain": [
          0,
          0.425
         ],
         "gridcolor": "rgba(0, 0, 0, 0.05)",
         "linecolor": "black",
         "linewidth": 1,
         "showgrid": true,
         "title": {
          "text": "Ingresos_anuales_mxn"
         }
        },
        "xaxis2": {
         "anchor": "y2",
         "domain": [
          0.575,
          1
         ]
        },
        "yaxis": {
         "anchor": "x",
         "domain": [
          0,
          1
         ],
         "gridcolor": "rgba(0, 0, 0, 0.05)",
         "linecolor": "black",
         "linewidth": 1,
         "showgrid": true,
         "title": {
          "text": "Frecuencia"
         }
        },
        "yaxis2": {
         "anchor": "x2",
         "domain": [
          0,
          1
         ],
         "gridcolor": "rgba(0, 0, 0, 0.05)",
         "linecolor": "black",
         "linewidth": 1,
         "showgrid": true,
         "title": {
          "text": "Ingresos_anuales_mxn"
         }
        }
       }
      }
     },
     "metadata": {},
     "output_type": "display_data"
    }
   ],
   "source": [
    "views_filtradas = ingresos_anuales_mxn[(ingresos_anuales_mxn >= lim_inf_MC) & (ingresos_anuales_mxn <= lim_sup_MC)]\n",
    "# Crear figura con subplots\n",
    "fig = sp.make_subplots(\n",
    "    rows=1, \n",
    "    cols=2,\n",
    "    subplot_titles=(\"Distribución de ingresos anuales mxn\", \"Diagrama de Caja\"),\n",
    "    horizontal_spacing=0.15\n",
    ")\n",
    "\n",
    "# Histograma \n",
    "fig.add_trace(\n",
    "    go.Histogram(\n",
    "        x=ingresos_anuales_mxn,\n",
    "        nbinsx=numBins,\n",
    "        marker=dict(\n",
    "            color='rgba(100, 149, 237, 0.7)',\n",
    "            line=dict(color='rgba(0, 0, 0, 0.5)', width=1)\n",
    "        ),\n",
    "        opacity=0.9,\n",
    "        hovertemplate=\"Ingresos_anuales_mxn: %{x}<br>Cantidad: %{y}<extra></extra>\",\n",
    "        name=\"\"\n",
    "    ),\n",
    "    row=1, col=1\n",
    ")\n",
    "\n",
    "# Boxplot \n",
    "fig.add_trace(\n",
    "    go.Box(\n",
    "        y=views_filtradas,\n",
    "        boxpoints=False,\n",
    "        marker=dict(\n",
    "            color=\"rgba(100, 149, 237, 0.6)\",\n",
    "            size=5,\n",
    "            opacity=0.7,\n",
    "            line=dict(width=1, color='black')\n",
    "        ),\n",
    "        line=dict(color=\"black\", width=1.5),\n",
    "        whiskerwidth=0.3,\n",
    "        fillcolor='rgba(100, 149, 237, 0.3)',\n",
    "        hoverinfo='y',\n",
    "        name=\"Ingresos_anuales_mxn\"\n",
    "    ),\n",
    "    row=1, col=2\n",
    ")\n",
    "# Agregar valores atípicos manualmente\n",
    "fig.add_trace(\n",
    "    go.Scatter(\n",
    "        x=['Ingresos_anuales_mxn'] * len(atipicos_mc),\n",
    "        y=atipicos_mc,\n",
    "        mode='markers',\n",
    "        marker=dict(\n",
    "            color=\"red\",\n",
    "            size=8,\n",
    "            opacity=0.8,\n",
    "            symbol=\"circle-open\",\n",
    "            line=dict(width=1.5, color='red')\n",
    "        ),\n",
    "    ),\n",
    "    row=1, col=2\n",
    ")\n",
    "# Actualizar layout general\n",
    "fig.update_layout(\n",
    "    height=600,\n",
    "    width=600,\n",
    "    showlegend=False,\n",
    "    template=professional_template,\n",
    "    title_text='Análisis de Distribución de ingresos anuales mxn',\n",
    "    title_x=0.5\n",
    ")\n",
    "\n",
    "# Personalizar ejes y cuadrícula\n",
    "fig.update_xaxes(\n",
    "    title_text=\"Ingresos_anuales_mxn\",\n",
    "    row=1, col=1,\n",
    "    showgrid=True, gridcolor='rgba(0, 0, 0, 0.05)',\n",
    "    linecolor='black', linewidth=1\n",
    ")\n",
    "fig.update_yaxes(\n",
    "    title_text=\"Frecuencia\",\n",
    "    row=1, col=1,\n",
    "    showgrid=True, gridcolor='rgba(0, 0, 0, 0.05)',\n",
    "    linecolor='black', linewidth=1\n",
    ")\n",
    "fig.update_yaxes(\n",
    "    title_text=\"Ingresos_anuales_mxn\",\n",
    "    row=1, col=2,\n",
    "    showgrid=True, gridcolor='rgba(0, 0, 0, 0.05)',\n",
    "    linecolor='black', linewidth=1\n",
    ")\n",
    "fig.show()"
   ]
  },
  {
   "cell_type": "markdown",
   "id": "9380eef1",
   "metadata": {},
   "source": [
    "Podemos confirmar que los valores atípicos de la variable `ingresos_anuales_mxn` son efectivamente atípicos."
   ]
  },
  {
   "cell_type": "markdown",
   "id": "dc360fd9",
   "metadata": {},
   "source": [
    "## Matriz oro"
   ]
  },
  {
   "cell_type": "markdown",
   "id": "37eb819f",
   "metadata": {},
   "source": [
    "A partir de este hallazgo, se crearán dos dataframes: uno que incluya los valores atípicos y otro que los excluya (Matriz de oro)."
   ]
  },
  {
   "cell_type": "code",
   "execution_count": 18,
   "id": "923bff16",
   "metadata": {},
   "outputs": [],
   "source": [
    "def clean_outliers_whit_MC(df, col_interes='price'):\n",
    "    data = df.copy()\n",
    "    # calcular estadisticos de la columna de interes\n",
    "    resumen = data[col_interes].describe()\n",
    "    Q1 = resumen.iloc[4]\n",
    "    Q2 = resumen.iloc[5]\n",
    "    Q3 = resumen.iloc[6]\n",
    "    RI = Q3 - Q1\n",
    "    # Calculamos medcouple\n",
    "    MC = medcouple(data[col_interes].to_numpy())\n",
    "    # calcula límites inferiores y superiores en base al MC\n",
    "    if MC>0:\n",
    "        lim_inf_MC = Q1 - 1.5 * np.exp(-3.5 * MC) * RI\n",
    "        lim_sup_MC = Q3 + 1.5 * np.exp(4 * MC) * RI\n",
    "        clean_data= data[(data[col_interes] >= lim_inf_MC) & (data[col_interes] <= lim_sup_MC) | (data[col_interes].isna())]\n",
    "        \n",
    "    elif MC<0:\n",
    "        lim_inf_MC = Q1 - 1.5 * np.exp(-4 * MC) * RI\n",
    "        lim_sup_MC = Q3 + 1.5 * np.exp(3.5 * MC) * RI\n",
    "        clean_data= data[(data[col_interes] >= lim_inf_MC) & (data[col_interes] <= lim_sup_MC) | (data[col_interes].isna())] \n",
    "    else:\n",
    "        lim_inf_MC = Q1 - 1.5 * RI\n",
    "        lim_sup_MC = Q3 + 1.5 * RI\n",
    "        clean_data= data[(data[col_interes] >= lim_inf_MC) & (data[col_interes] <= lim_sup_MC) | (data[col_interes].isna())]\n",
    "    return clean_data"
   ]
  },
  {
   "cell_type": "code",
   "execution_count": 19,
   "id": "14f0786c",
   "metadata": {},
   "outputs": [
    {
     "name": "stdout",
     "output_type": "stream",
     "text": [
      "Tamaño del dataframe limpio: (1492, 9)\n",
      "Tamaño del dataframe oringinal: (1500, 9)\n"
     ]
    }
   ],
   "source": [
    "credit_data_gold = clean_outliers_whit_MC(credit_data, col_interes='ingresos_anuales_mxn') # Matriz de oro\n",
    "print(f'Tamaño del dataframe limpio: {credit_data_gold.shape}')\n",
    "print(f'Tamaño del dataframe oringinal: {credit_data.shape}')"
   ]
  },
  {
   "cell_type": "code",
   "execution_count": 20,
   "id": "1ed8373a",
   "metadata": {},
   "outputs": [
    {
     "data": {
      "application/vnd.plotly.v1+json": {
       "config": {
        "plotlyServerURL": "https://plot.ly"
       },
       "data": [
        {
         "hole": 0.3,
         "labels": [
          "Datos conservados",
          "Datos eliminados"
         ],
         "marker": {
          "colors": [
           "#191970",
           "#FF5733"
          ]
         },
         "pull": [
          0.05,
          0.05
         ],
         "textinfo": "percent+label",
         "type": "pie",
         "values": [
          99.46666666666667,
          0.5333333333333333
         ]
        }
       ],
       "layout": {
        "font": {
         "color": "black"
        },
        "height": 600,
        "paper_bgcolor": "white",
        "plot_bgcolor": "white",
        "template": {
         "data": {
          "bar": [
           {
            "error_x": {
             "color": "#2a3f5f"
            },
            "error_y": {
             "color": "#2a3f5f"
            },
            "marker": {
             "line": {
              "color": "#E5ECF6",
              "width": 0.5
             },
             "pattern": {
              "fillmode": "overlay",
              "size": 10,
              "solidity": 0.2
             }
            },
            "type": "bar"
           }
          ],
          "barpolar": [
           {
            "marker": {
             "line": {
              "color": "#E5ECF6",
              "width": 0.5
             },
             "pattern": {
              "fillmode": "overlay",
              "size": 10,
              "solidity": 0.2
             }
            },
            "type": "barpolar"
           }
          ],
          "carpet": [
           {
            "aaxis": {
             "endlinecolor": "#2a3f5f",
             "gridcolor": "white",
             "linecolor": "white",
             "minorgridcolor": "white",
             "startlinecolor": "#2a3f5f"
            },
            "baxis": {
             "endlinecolor": "#2a3f5f",
             "gridcolor": "white",
             "linecolor": "white",
             "minorgridcolor": "white",
             "startlinecolor": "#2a3f5f"
            },
            "type": "carpet"
           }
          ],
          "choropleth": [
           {
            "colorbar": {
             "outlinewidth": 0,
             "ticks": ""
            },
            "type": "choropleth"
           }
          ],
          "contour": [
           {
            "colorbar": {
             "outlinewidth": 0,
             "ticks": ""
            },
            "colorscale": [
             [
              0,
              "#0d0887"
             ],
             [
              0.1111111111111111,
              "#46039f"
             ],
             [
              0.2222222222222222,
              "#7201a8"
             ],
             [
              0.3333333333333333,
              "#9c179e"
             ],
             [
              0.4444444444444444,
              "#bd3786"
             ],
             [
              0.5555555555555556,
              "#d8576b"
             ],
             [
              0.6666666666666666,
              "#ed7953"
             ],
             [
              0.7777777777777778,
              "#fb9f3a"
             ],
             [
              0.8888888888888888,
              "#fdca26"
             ],
             [
              1,
              "#f0f921"
             ]
            ],
            "type": "contour"
           }
          ],
          "contourcarpet": [
           {
            "colorbar": {
             "outlinewidth": 0,
             "ticks": ""
            },
            "type": "contourcarpet"
           }
          ],
          "heatmap": [
           {
            "colorbar": {
             "outlinewidth": 0,
             "ticks": ""
            },
            "colorscale": [
             [
              0,
              "#0d0887"
             ],
             [
              0.1111111111111111,
              "#46039f"
             ],
             [
              0.2222222222222222,
              "#7201a8"
             ],
             [
              0.3333333333333333,
              "#9c179e"
             ],
             [
              0.4444444444444444,
              "#bd3786"
             ],
             [
              0.5555555555555556,
              "#d8576b"
             ],
             [
              0.6666666666666666,
              "#ed7953"
             ],
             [
              0.7777777777777778,
              "#fb9f3a"
             ],
             [
              0.8888888888888888,
              "#fdca26"
             ],
             [
              1,
              "#f0f921"
             ]
            ],
            "type": "heatmap"
           }
          ],
          "histogram": [
           {
            "marker": {
             "pattern": {
              "fillmode": "overlay",
              "size": 10,
              "solidity": 0.2
             }
            },
            "type": "histogram"
           }
          ],
          "histogram2d": [
           {
            "colorbar": {
             "outlinewidth": 0,
             "ticks": ""
            },
            "colorscale": [
             [
              0,
              "#0d0887"
             ],
             [
              0.1111111111111111,
              "#46039f"
             ],
             [
              0.2222222222222222,
              "#7201a8"
             ],
             [
              0.3333333333333333,
              "#9c179e"
             ],
             [
              0.4444444444444444,
              "#bd3786"
             ],
             [
              0.5555555555555556,
              "#d8576b"
             ],
             [
              0.6666666666666666,
              "#ed7953"
             ],
             [
              0.7777777777777778,
              "#fb9f3a"
             ],
             [
              0.8888888888888888,
              "#fdca26"
             ],
             [
              1,
              "#f0f921"
             ]
            ],
            "type": "histogram2d"
           }
          ],
          "histogram2dcontour": [
           {
            "colorbar": {
             "outlinewidth": 0,
             "ticks": ""
            },
            "colorscale": [
             [
              0,
              "#0d0887"
             ],
             [
              0.1111111111111111,
              "#46039f"
             ],
             [
              0.2222222222222222,
              "#7201a8"
             ],
             [
              0.3333333333333333,
              "#9c179e"
             ],
             [
              0.4444444444444444,
              "#bd3786"
             ],
             [
              0.5555555555555556,
              "#d8576b"
             ],
             [
              0.6666666666666666,
              "#ed7953"
             ],
             [
              0.7777777777777778,
              "#fb9f3a"
             ],
             [
              0.8888888888888888,
              "#fdca26"
             ],
             [
              1,
              "#f0f921"
             ]
            ],
            "type": "histogram2dcontour"
           }
          ],
          "mesh3d": [
           {
            "colorbar": {
             "outlinewidth": 0,
             "ticks": ""
            },
            "type": "mesh3d"
           }
          ],
          "parcoords": [
           {
            "line": {
             "colorbar": {
              "outlinewidth": 0,
              "ticks": ""
             }
            },
            "type": "parcoords"
           }
          ],
          "pie": [
           {
            "automargin": true,
            "type": "pie"
           }
          ],
          "scatter": [
           {
            "fillpattern": {
             "fillmode": "overlay",
             "size": 10,
             "solidity": 0.2
            },
            "type": "scatter"
           }
          ],
          "scatter3d": [
           {
            "line": {
             "colorbar": {
              "outlinewidth": 0,
              "ticks": ""
             }
            },
            "marker": {
             "colorbar": {
              "outlinewidth": 0,
              "ticks": ""
             }
            },
            "type": "scatter3d"
           }
          ],
          "scattercarpet": [
           {
            "marker": {
             "colorbar": {
              "outlinewidth": 0,
              "ticks": ""
             }
            },
            "type": "scattercarpet"
           }
          ],
          "scattergeo": [
           {
            "marker": {
             "colorbar": {
              "outlinewidth": 0,
              "ticks": ""
             }
            },
            "type": "scattergeo"
           }
          ],
          "scattergl": [
           {
            "marker": {
             "colorbar": {
              "outlinewidth": 0,
              "ticks": ""
             }
            },
            "type": "scattergl"
           }
          ],
          "scattermap": [
           {
            "marker": {
             "colorbar": {
              "outlinewidth": 0,
              "ticks": ""
             }
            },
            "type": "scattermap"
           }
          ],
          "scattermapbox": [
           {
            "marker": {
             "colorbar": {
              "outlinewidth": 0,
              "ticks": ""
             }
            },
            "type": "scattermapbox"
           }
          ],
          "scatterpolar": [
           {
            "marker": {
             "colorbar": {
              "outlinewidth": 0,
              "ticks": ""
             }
            },
            "type": "scatterpolar"
           }
          ],
          "scatterpolargl": [
           {
            "marker": {
             "colorbar": {
              "outlinewidth": 0,
              "ticks": ""
             }
            },
            "type": "scatterpolargl"
           }
          ],
          "scatterternary": [
           {
            "marker": {
             "colorbar": {
              "outlinewidth": 0,
              "ticks": ""
             }
            },
            "type": "scatterternary"
           }
          ],
          "surface": [
           {
            "colorbar": {
             "outlinewidth": 0,
             "ticks": ""
            },
            "colorscale": [
             [
              0,
              "#0d0887"
             ],
             [
              0.1111111111111111,
              "#46039f"
             ],
             [
              0.2222222222222222,
              "#7201a8"
             ],
             [
              0.3333333333333333,
              "#9c179e"
             ],
             [
              0.4444444444444444,
              "#bd3786"
             ],
             [
              0.5555555555555556,
              "#d8576b"
             ],
             [
              0.6666666666666666,
              "#ed7953"
             ],
             [
              0.7777777777777778,
              "#fb9f3a"
             ],
             [
              0.8888888888888888,
              "#fdca26"
             ],
             [
              1,
              "#f0f921"
             ]
            ],
            "type": "surface"
           }
          ],
          "table": [
           {
            "cells": {
             "fill": {
              "color": "#EBF0F8"
             },
             "line": {
              "color": "white"
             }
            },
            "header": {
             "fill": {
              "color": "#C8D4E3"
             },
             "line": {
              "color": "white"
             }
            },
            "type": "table"
           }
          ]
         },
         "layout": {
          "annotationdefaults": {
           "arrowcolor": "#2a3f5f",
           "arrowhead": 0,
           "arrowwidth": 1
          },
          "autotypenumbers": "strict",
          "coloraxis": {
           "colorbar": {
            "outlinewidth": 0,
            "ticks": ""
           }
          },
          "colorscale": {
           "diverging": [
            [
             0,
             "#8e0152"
            ],
            [
             0.1,
             "#c51b7d"
            ],
            [
             0.2,
             "#de77ae"
            ],
            [
             0.3,
             "#f1b6da"
            ],
            [
             0.4,
             "#fde0ef"
            ],
            [
             0.5,
             "#f7f7f7"
            ],
            [
             0.6,
             "#e6f5d0"
            ],
            [
             0.7,
             "#b8e186"
            ],
            [
             0.8,
             "#7fbc41"
            ],
            [
             0.9,
             "#4d9221"
            ],
            [
             1,
             "#276419"
            ]
           ],
           "sequential": [
            [
             0,
             "#0d0887"
            ],
            [
             0.1111111111111111,
             "#46039f"
            ],
            [
             0.2222222222222222,
             "#7201a8"
            ],
            [
             0.3333333333333333,
             "#9c179e"
            ],
            [
             0.4444444444444444,
             "#bd3786"
            ],
            [
             0.5555555555555556,
             "#d8576b"
            ],
            [
             0.6666666666666666,
             "#ed7953"
            ],
            [
             0.7777777777777778,
             "#fb9f3a"
            ],
            [
             0.8888888888888888,
             "#fdca26"
            ],
            [
             1,
             "#f0f921"
            ]
           ],
           "sequentialminus": [
            [
             0,
             "#0d0887"
            ],
            [
             0.1111111111111111,
             "#46039f"
            ],
            [
             0.2222222222222222,
             "#7201a8"
            ],
            [
             0.3333333333333333,
             "#9c179e"
            ],
            [
             0.4444444444444444,
             "#bd3786"
            ],
            [
             0.5555555555555556,
             "#d8576b"
            ],
            [
             0.6666666666666666,
             "#ed7953"
            ],
            [
             0.7777777777777778,
             "#fb9f3a"
            ],
            [
             0.8888888888888888,
             "#fdca26"
            ],
            [
             1,
             "#f0f921"
            ]
           ]
          },
          "colorway": [
           "#636efa",
           "#EF553B",
           "#00cc96",
           "#ab63fa",
           "#FFA15A",
           "#19d3f3",
           "#FF6692",
           "#B6E880",
           "#FF97FF",
           "#FECB52"
          ],
          "font": {
           "color": "#2a3f5f"
          },
          "geo": {
           "bgcolor": "white",
           "lakecolor": "white",
           "landcolor": "#E5ECF6",
           "showlakes": true,
           "showland": true,
           "subunitcolor": "white"
          },
          "hoverlabel": {
           "align": "left"
          },
          "hovermode": "closest",
          "mapbox": {
           "style": "light"
          },
          "paper_bgcolor": "white",
          "plot_bgcolor": "#E5ECF6",
          "polar": {
           "angularaxis": {
            "gridcolor": "white",
            "linecolor": "white",
            "ticks": ""
           },
           "bgcolor": "#E5ECF6",
           "radialaxis": {
            "gridcolor": "white",
            "linecolor": "white",
            "ticks": ""
           }
          },
          "scene": {
           "xaxis": {
            "backgroundcolor": "#E5ECF6",
            "gridcolor": "white",
            "gridwidth": 2,
            "linecolor": "white",
            "showbackground": true,
            "ticks": "",
            "zerolinecolor": "white"
           },
           "yaxis": {
            "backgroundcolor": "#E5ECF6",
            "gridcolor": "white",
            "gridwidth": 2,
            "linecolor": "white",
            "showbackground": true,
            "ticks": "",
            "zerolinecolor": "white"
           },
           "zaxis": {
            "backgroundcolor": "#E5ECF6",
            "gridcolor": "white",
            "gridwidth": 2,
            "linecolor": "white",
            "showbackground": true,
            "ticks": "",
            "zerolinecolor": "white"
           }
          },
          "shapedefaults": {
           "line": {
            "color": "#2a3f5f"
           }
          },
          "ternary": {
           "aaxis": {
            "gridcolor": "white",
            "linecolor": "white",
            "ticks": ""
           },
           "baxis": {
            "gridcolor": "white",
            "linecolor": "white",
            "ticks": ""
           },
           "bgcolor": "#E5ECF6",
           "caxis": {
            "gridcolor": "white",
            "linecolor": "white",
            "ticks": ""
           }
          },
          "title": {
           "x": 0.05
          },
          "xaxis": {
           "automargin": true,
           "gridcolor": "white",
           "linecolor": "white",
           "ticks": "",
           "title": {
            "standoff": 15
           },
           "zerolinecolor": "white",
           "zerolinewidth": 2
          },
          "yaxis": {
           "automargin": true,
           "gridcolor": "white",
           "linecolor": "white",
           "ticks": "",
           "title": {
            "standoff": 15
           },
           "zerolinecolor": "white",
           "zerolinewidth": 2
          }
         }
        },
        "title": {
         "font": {
          "size": 14,
          "weight": "bold"
         },
         "text": "Datos conservados y eliminados"
        },
        "width": 600
       }
      }
     },
     "metadata": {},
     "output_type": "display_data"
    }
   ],
   "source": [
    "# Datos\n",
    "filas_eliminadas = len(credit_data) - len(credit_data_gold)\n",
    "porcentaje_eliminado = (filas_eliminadas / len(credit_data)) * 100\n",
    "porcentaje_total = 100 - porcentaje_eliminado\n",
    "\n",
    "porcentajes = [porcentaje_total, porcentaje_eliminado]\n",
    "categorias = ['Datos conservados', 'Datos eliminados']\n",
    "colores = ['#191970', '#FF5733']\n",
    "\n",
    "# Crear el gráfico circular\n",
    "fig = go.Figure(data=[go.Pie(\n",
    "    labels=categorias,\n",
    "    values=porcentajes,\n",
    "    textinfo='percent+label',\n",
    "    marker=dict(colors=colores),\n",
    "    hole=0.3,  # Para un gráfico de dona, si se desea\n",
    "    pull=[0.05, 0.05]  # Para separar las secciones\n",
    ")])\n",
    "\n",
    "# Personalizar el diseño\n",
    "fig.update_layout(\n",
    "    title_text='Datos conservados y eliminados',\n",
    "    title_font_size=14,\n",
    "    title_font_weight='bold',\n",
    "    font=dict(color='black'),  # color del texto a negro\n",
    "    paper_bgcolor='white',  # Fondo del gráfico\n",
    "    plot_bgcolor='white',  # Fondo del área del gráfico\n",
    "    width=600,  # Ancho de la figura\n",
    "    height=600  # Alto de la figura\n",
    ")\n",
    "\n",
    "# Mostrar el gráfico\n",
    "fig.show()"
   ]
  },
  {
   "cell_type": "markdown",
   "id": "32711574",
   "metadata": {},
   "source": [
    "Excelente, ahora contamos con dos DataFrames:\n",
    "\n",
    "- Matriz de oro: DataFrame que ha sido depurado de valores atípicos.\n",
    "- Matriz de plata: DataFrame que incluye todos los valores."
   ]
  },
  {
   "cell_type": "markdown",
   "id": "7b2115da",
   "metadata": {},
   "source": [
    "## Matriz platino"
   ]
  },
  {
   "cell_type": "markdown",
   "id": "15d0f342",
   "metadata": {},
   "source": [
    "Con la matriz de oro preparada, podemos enfocarnos en la variable calificacion_buro. En esta etapa, abordaremos los valores faltantes de esta columna y realizaremos otros ajustes necesarios en los datos. A este nuevo DataFrame lo denominaremos \"matriz platino\", que estará lista para llevar a cabo análisis estadísticos y comenzar a responder las preguntas planteadas en el EDA."
   ]
  },
  {
   "cell_type": "code",
   "execution_count": 21,
   "id": "7188d109",
   "metadata": {},
   "outputs": [
    {
     "data": {
      "text/html": [
       "<div>\n",
       "<style scoped>\n",
       "    .dataframe tbody tr th:only-of-type {\n",
       "        vertical-align: middle;\n",
       "    }\n",
       "\n",
       "    .dataframe tbody tr th {\n",
       "        vertical-align: top;\n",
       "    }\n",
       "\n",
       "    .dataframe thead th {\n",
       "        text-align: right;\n",
       "    }\n",
       "</style>\n",
       "<table border=\"1\" class=\"dataframe\">\n",
       "  <thead>\n",
       "    <tr style=\"text-align: right;\">\n",
       "      <th></th>\n",
       "      <th>id_cliente</th>\n",
       "      <th>antiguedad_empresa_anos</th>\n",
       "      <th>sector_industrial</th>\n",
       "      <th>ingresos_anuales_mxn</th>\n",
       "      <th>deuda_total_mxn</th>\n",
       "      <th>historial_pagos_atrasados</th>\n",
       "      <th>calificacion_buro</th>\n",
       "      <th>default_12m</th>\n",
       "      <th>monto_solicitado_mxn</th>\n",
       "    </tr>\n",
       "  </thead>\n",
       "  <tbody>\n",
       "    <tr>\n",
       "      <th>0</th>\n",
       "      <td>COV-1000</td>\n",
       "      <td>9.50</td>\n",
       "      <td>Manufactura</td>\n",
       "      <td>5388966.19</td>\n",
       "      <td>4093290.34</td>\n",
       "      <td>1</td>\n",
       "      <td>D</td>\n",
       "      <td>0</td>\n",
       "      <td>1042088.49</td>\n",
       "    </tr>\n",
       "    <tr>\n",
       "      <th>1</th>\n",
       "      <td>COV-1001</td>\n",
       "      <td>6.90</td>\n",
       "      <td>Construcción</td>\n",
       "      <td>806689.27</td>\n",
       "      <td>184032.16</td>\n",
       "      <td>3</td>\n",
       "      <td>C</td>\n",
       "      <td>0</td>\n",
       "      <td>658716.30</td>\n",
       "    </tr>\n",
       "    <tr>\n",
       "      <th>2</th>\n",
       "      <td>COV-1002</td>\n",
       "      <td>10.20</td>\n",
       "      <td>Servicios Profesionales</td>\n",
       "      <td>4721557.55</td>\n",
       "      <td>2875892.65</td>\n",
       "      <td>1</td>\n",
       "      <td>B</td>\n",
       "      <td>0</td>\n",
       "      <td>656435.67</td>\n",
       "    </tr>\n",
       "    <tr>\n",
       "      <th>3</th>\n",
       "      <td>COV-1003</td>\n",
       "      <td>15.80</td>\n",
       "      <td>Retail</td>\n",
       "      <td>400301.58</td>\n",
       "      <td>284881.54</td>\n",
       "      <td>1</td>\n",
       "      <td>B</td>\n",
       "      <td>0</td>\n",
       "      <td>289018.04</td>\n",
       "    </tr>\n",
       "    <tr>\n",
       "      <th>4</th>\n",
       "      <td>COV-1004</td>\n",
       "      <td>6.60</td>\n",
       "      <td>Retail</td>\n",
       "      <td>6110431.90</td>\n",
       "      <td>5935242.68</td>\n",
       "      <td>2</td>\n",
       "      <td>NaN</td>\n",
       "      <td>0</td>\n",
       "      <td>694186.35</td>\n",
       "    </tr>\n",
       "  </tbody>\n",
       "</table>\n",
       "</div>"
      ],
      "text/plain": [
       "  id_cliente  antiguedad_empresa_anos        sector_industrial  \\\n",
       "0   COV-1000                     9.50              Manufactura   \n",
       "1   COV-1001                     6.90             Construcción   \n",
       "2   COV-1002                    10.20  Servicios Profesionales   \n",
       "3   COV-1003                    15.80                   Retail   \n",
       "4   COV-1004                     6.60                   Retail   \n",
       "\n",
       "   ingresos_anuales_mxn  deuda_total_mxn  historial_pagos_atrasados  \\\n",
       "0            5388966.19       4093290.34                          1   \n",
       "1             806689.27        184032.16                          3   \n",
       "2            4721557.55       2875892.65                          1   \n",
       "3             400301.58        284881.54                          1   \n",
       "4            6110431.90       5935242.68                          2   \n",
       "\n",
       "  calificacion_buro  default_12m  monto_solicitado_mxn  \n",
       "0                 D            0            1042088.49  \n",
       "1                 C            0             658716.30  \n",
       "2                 B            0             656435.67  \n",
       "3                 B            0             289018.04  \n",
       "4               NaN            0             694186.35  "
      ]
     },
     "execution_count": 21,
     "metadata": {},
     "output_type": "execute_result"
    }
   ],
   "source": [
    "credit_data_gold.head()"
   ]
  },
  {
   "cell_type": "markdown",
   "id": "8c234b42",
   "metadata": {},
   "source": [
    "Veamos las variables únicas que hay en la característica calficacion_buro"
   ]
  },
  {
   "cell_type": "code",
   "execution_count": 22,
   "id": "9e61de9b",
   "metadata": {},
   "outputs": [
    {
     "data": {
      "text/plain": [
       "calificacion_buro\n",
       "B    510\n",
       "A    444\n",
       "C    276\n",
       "D    143\n",
       "Name: count, dtype: int64"
      ]
     },
     "execution_count": 22,
     "metadata": {},
     "output_type": "execute_result"
    }
   ],
   "source": [
    "credit_data_gold['calificacion_buro'].value_counts()"
   ]
  },
  {
   "cell_type": "markdown",
   "id": "9b135a64",
   "metadata": {},
   "source": [
    "Entiendo que la calificación buró en el sector bancario de México se refiere a un sistema de puntuación que evalúa el comportamiento crediticio de las personas. Esta calificación es crucial para que las instituciones financieras determinen la probabilidad de que un solicitante pague un préstamo o cumpla con sus obligaciones crediticias. En nuestro caso, esto indica que la variable es de tipo ordinal, lo que implica un orden en las calificaciones. Dado que existen datos faltantes, los reemplazaremos con la frase \"sin calificación\", tal como se mencionó al inicio de esta etapa."
   ]
  },
  {
   "cell_type": "code",
   "execution_count": 23,
   "id": "6644b523",
   "metadata": {},
   "outputs": [
    {
     "data": {
      "text/plain": [
       "id_cliente                    0\n",
       "antiguedad_empresa_anos      75\n",
       "sector_industrial             0\n",
       "ingresos_anuales_mxn         45\n",
       "deuda_total_mxn               0\n",
       "historial_pagos_atrasados     0\n",
       "calificacion_buro             0\n",
       "default_12m                   0\n",
       "monto_solicitado_mxn          0\n",
       "dtype: int64"
      ]
     },
     "execution_count": 23,
     "metadata": {},
     "output_type": "execute_result"
    }
   ],
   "source": [
    "credit_data_platinum = credit_data_gold.copy()\n",
    "credit_data_platinum['calificacion_buro'] = credit_data_platinum['calificacion_buro'].fillna('sin_calificacion')\n",
    "credit_data_platinum.isnull().sum()"
   ]
  },
  {
   "cell_type": "markdown",
   "id": "dc860acd",
   "metadata": {},
   "source": [
    "Perfecto, ya no tenemos datos faltantes en calificacion_buro, ahora veamos los sectores industriales."
   ]
  },
  {
   "cell_type": "code",
   "execution_count": 24,
   "id": "30340947",
   "metadata": {},
   "outputs": [
    {
     "data": {
      "text/plain": [
       "sector_industrial\n",
       "Retail                     290\n",
       "Construcción               288\n",
       "Manufactura                234\n",
       "Tecnología                 157\n",
       "Servicios Profesionales    146\n",
       "Servicios                  143\n",
       "Tech                        81\n",
       "T.I.                        80\n",
       "retail                      73\n",
       "Name: count, dtype: int64"
      ]
     },
     "execution_count": 24,
     "metadata": {},
     "output_type": "execute_result"
    }
   ],
   "source": [
    "credit_data_platinum['sector_industrial'].value_counts()"
   ]
  },
  {
   "cell_type": "markdown",
   "id": "5baa53f8",
   "metadata": {},
   "source": [
    "Podemos observar que 'Retail' y 'retail' se refieren al mismo sector; la única diferencia radica en su forma de escritura. En cuanto a Tecnología, T.I. y Tec pertenecen al sector tecnológico, pero las mantendremos como categorías independientes."
   ]
  },
  {
   "cell_type": "code",
   "execution_count": 25,
   "id": "9b81d992",
   "metadata": {},
   "outputs": [
    {
     "data": {
      "text/plain": [
       "sector_industrial\n",
       "Retail                     363\n",
       "Construcción               288\n",
       "Manufactura                234\n",
       "Tecnología                 157\n",
       "Servicios Profesionales    146\n",
       "Servicios                  143\n",
       "Tech                        81\n",
       "T.I.                        80\n",
       "Name: count, dtype: int64"
      ]
     },
     "execution_count": 25,
     "metadata": {},
     "output_type": "execute_result"
    }
   ],
   "source": [
    "credit_data_platinum['sector_industrial'] = credit_data_platinum['sector_industrial'].replace('retail', 'Retail')\n",
    "credit_data_platinum['sector_industrial'].value_counts()"
   ]
  },
  {
   "cell_type": "markdown",
   "id": "f8a84666",
   "metadata": {},
   "source": [
    "Perfecto, ahora examinemos los valores NaN que tenemos en la variable 'ingresos_anuales_mxn' y determinemos si pertenecen a la clase 1 (incumplimiento)."
   ]
  },
  {
   "cell_type": "code",
   "execution_count": 26,
   "id": "813fd9ca",
   "metadata": {},
   "outputs": [
    {
     "data": {
      "text/html": [
       "<div>\n",
       "<style scoped>\n",
       "    .dataframe tbody tr th:only-of-type {\n",
       "        vertical-align: middle;\n",
       "    }\n",
       "\n",
       "    .dataframe tbody tr th {\n",
       "        vertical-align: top;\n",
       "    }\n",
       "\n",
       "    .dataframe thead th {\n",
       "        text-align: right;\n",
       "    }\n",
       "</style>\n",
       "<table border=\"1\" class=\"dataframe\">\n",
       "  <thead>\n",
       "    <tr style=\"text-align: right;\">\n",
       "      <th></th>\n",
       "      <th>default_12m</th>\n",
       "      <th>sum_nan_antiguedad_anios</th>\n",
       "      <th>sum_nan_ingresos_anuales</th>\n",
       "    </tr>\n",
       "  </thead>\n",
       "  <tbody>\n",
       "    <tr>\n",
       "      <th>0</th>\n",
       "      <td>0</td>\n",
       "      <td>66</td>\n",
       "      <td>41</td>\n",
       "    </tr>\n",
       "    <tr>\n",
       "      <th>1</th>\n",
       "      <td>1</td>\n",
       "      <td>9</td>\n",
       "      <td>4</td>\n",
       "    </tr>\n",
       "  </tbody>\n",
       "</table>\n",
       "</div>"
      ],
      "text/plain": [
       "   default_12m  sum_nan_antiguedad_anios  sum_nan_ingresos_anuales\n",
       "0            0                        66                        41\n",
       "1            1                         9                         4"
      ]
     },
     "execution_count": 26,
     "metadata": {},
     "output_type": "execute_result"
    }
   ],
   "source": [
    "data_nan = credit_data_platinum[credit_data_platinum.isna().any(axis=1)]\n",
    "clases_nan = data_nan.groupby(by=['default_12m']).agg(\n",
    "    sum_nan_antiguedad_anios=('antiguedad_empresa_anos', lambda x: x.isna().sum()),\n",
    "    sum_nan_ingresos_anuales=('ingresos_anuales_mxn', lambda x: x.isna().sum())\n",
    ").reset_index()\n",
    "\n",
    "clases_nan.head()"
   ]
  },
  {
   "cell_type": "markdown",
   "id": "249d2f3c",
   "metadata": {},
   "source": [
    "ok. Hay más datos falantes para la clase 0 (clientes cumplidos). Veamos cuantos datos hay en la clase 1."
   ]
  },
  {
   "cell_type": "code",
   "execution_count": 27,
   "id": "617b732d",
   "metadata": {},
   "outputs": [
    {
     "data": {
      "text/plain": [
       "176"
      ]
     },
     "execution_count": 27,
     "metadata": {},
     "output_type": "execute_result"
    }
   ],
   "source": [
    "credit_data_platinum[credit_data_platinum['default_12m']==1].shape[0]"
   ]
  },
  {
   "cell_type": "markdown",
   "id": "23917099",
   "metadata": {},
   "source": [
    "Esto indica que hay un 7.38% de datos faltantes para la clase 1, que cuenta con un total de 176 registros. Esto sugiere que no podemos eliminar estos datos faltantes. A continuación, abordaremos algunas preguntas que nos planteamos para el análisis exploratorio."
   ]
  },
  {
   "cell_type": "markdown",
   "id": "91476d5e",
   "metadata": {},
   "source": [
    "# Respuestasa preguntas EDA"
   ]
  },
  {
   "cell_type": "markdown",
   "id": "49e0ad78",
   "metadata": {},
   "source": [
    "Ahora que hemos comprendido la estructura y características de los datos, es momento de abordar las preguntas de investigación planteadas para este análisis exploratorio.\n",
    "\n",
    "1. Cuáles son los sectores industriales en donde los clientes presentan mayores ingresos anuales?\n",
    "2. Cuáles son los sectores industrial en donde los clientes tienen más deuda?\n",
    "3. Cuáles son las calificaciones buro con más historial de pagos atrazados.?\n",
    "4. ¿Cuál es la calificación de buró que presenta el mayor número de incumplimientos y el historial más extenso de pagos atrasados?\n",
    "5. ¿Cuáles son los principales impulsores del incumplimiento crediticio entre nuestros clientes PYME?\n",
    "6. ¿Cómo podemos cuantificar el riesgo asociado con cada nueva solicitud de préstamo?\n",
    "7. ¿Cómo deberíamos equilibrar los objetivos de crecimiento del negocio (aprobar más préstamos) con la mitigación de riesgos (minimizar los incumplimientos)?\n",
    "\n",
    "Bueno, antes de dar respuesta a esta pregunta, definamos la función que gráficará los resultados que vamos a obtener.\n"
   ]
  },
  {
   "cell_type": "code",
   "execution_count": 28,
   "id": "00586455",
   "metadata": {},
   "outputs": [],
   "source": [
    "def crear_barplot_personalizado(df, x, y, color,decimales ,titulo=''):\n",
    "    \"\"\"\n",
    "    Crea un gráfico de barras personalizado usando Plotly.\n",
    "\n",
    "    Parámetros:\n",
    "    - df: DataFrame de entrada\n",
    "    - x: columna para el eje X\n",
    "    - y: columna para el eje Y\n",
    "    - color: columna para agrupar por color\n",
    "    - titulo: título opcional del gráfico\n",
    "    \"\"\"\n",
    "    bar_fig = px.bar(\n",
    "        df,\n",
    "        x=x,\n",
    "        y=y,\n",
    "        color=color,\n",
    "        barmode='group',\n",
    "        text=y,\n",
    "        labels={x: ' ', y: 'Cantidad'},\n",
    "    )\n",
    "\n",
    "    # Personalización del gráfico\n",
    "    bar_fig.update_traces(textposition='outside',texttemplate=decimales,\n",
    "                          textfont=dict(family='Arial', size=12, color='black', weight='bold'))\n",
    "    bar_fig.update_layout(\n",
    "        plot_bgcolor='white',\n",
    "        paper_bgcolor='white',\n",
    "        title=titulo,\n",
    "        title_x=0.5,\n",
    "        title_font=dict(size=18, family='Arial', color='black'),\n",
    "\n",
    "        xaxis=dict(\n",
    "            title_font=dict(size=12, family='Arial', color='black'),\n",
    "            tickfont=dict(size=7, family='Arial', color='black', weight='bold'),\n",
    "            showgrid=True,\n",
    "            gridcolor='lightgrey',\n",
    "            zerolinecolor='lightgrey',\n",
    "        ),\n",
    "        yaxis=dict(\n",
    "            title='',\n",
    "            tickfont=dict(size=12, family='Arial', color='black', weight='bold'),\n",
    "            autorange=True,\n",
    "            ticklen=10,\n",
    "            showline=True,\n",
    "            linecolor='black',\n",
    "            automargin=True,\n",
    "            ticksuffix='   ',\n",
    "        ),\n",
    "        hoverlabel=dict(\n",
    "            bgcolor='white',\n",
    "            font_size=12,\n",
    "            font_family='Arial'\n",
    "        ),\n",
    "        showlegend=True,\n",
    "        legend=dict(\n",
    "            orientation='h',\n",
    "            yanchor='bottom',\n",
    "            y=1.05,\n",
    "            xanchor='center',\n",
    "            x=0.5,\n",
    "            font=dict(size=10)\n",
    "        ),\n",
    "        bargap=0.2,\n",
    "    )\n",
    "\n",
    "    return bar_fig"
   ]
  },
  {
   "cell_type": "code",
   "execution_count": 29,
   "id": "3dd7ca76",
   "metadata": {},
   "outputs": [
    {
     "data": {
      "application/vnd.plotly.v1+json": {
       "config": {
        "plotlyServerURL": "https://plot.ly"
       },
       "data": [
        {
         "alignmentgroup": "True",
         "hovertemplate": " =%{x}<br>Cantidad=%{text}<br>total_ingresos_anuales=%{marker.color}<extra></extra>",
         "legendgroup": "",
         "marker": {
          "color": {
           "bdata": "PQq3N5FW2UEfhUuPmPTVQVyPQsFgsNBBzczsIKevxkEpXI82RY3FQQAA4Ausl8RBCtdjMJ6XukFxPYrr6mKwQQ==",
           "dtype": "f8"
          },
          "coloraxis": "coloraxis",
          "pattern": {
           "shape": ""
          }
         },
         "name": "",
         "offsetgroup": "",
         "orientation": "v",
         "showlegend": false,
         "text": {
          "bdata": "jgOCtyamN0B8TMyO6H00QChpNlwiJy9A7heE2X4sJUD3ap+LeB0kQAQqOrY+OCNAMIIcs8zRGEAfIwSJipYOQA==",
          "dtype": "f8"
         },
         "textfont": {
          "color": "black",
          "family": "Arial",
          "size": 12,
          "weight": "bold"
         },
         "textposition": "outside",
         "texttemplate": "%{y:.1f}%",
         "type": "bar",
         "x": [
          "Retail",
          "Construcción",
          "Manufactura",
          "Tecnología",
          "Servicios Profesionales",
          "Servicios",
          "Tech",
          "T.I."
         ],
         "xaxis": "x",
         "y": {
          "bdata": "jgOCtyamN0B8TMyO6H00QChpNlwiJy9A7heE2X4sJUD3ap+LeB0kQAQqOrY+OCNAMIIcs8zRGEAfIwSJipYOQA==",
          "dtype": "f8"
         },
         "yaxis": "y"
        }
       ],
       "layout": {
        "bargap": 0.2,
        "barmode": "group",
        "coloraxis": {
         "colorbar": {
          "title": {
           "text": "total_ingresos_anuales"
          }
         },
         "colorscale": [
          [
           0,
           "#0d0887"
          ],
          [
           0.1111111111111111,
           "#46039f"
          ],
          [
           0.2222222222222222,
           "#7201a8"
          ],
          [
           0.3333333333333333,
           "#9c179e"
          ],
          [
           0.4444444444444444,
           "#bd3786"
          ],
          [
           0.5555555555555556,
           "#d8576b"
          ],
          [
           0.6666666666666666,
           "#ed7953"
          ],
          [
           0.7777777777777778,
           "#fb9f3a"
          ],
          [
           0.8888888888888888,
           "#fdca26"
          ],
          [
           1,
           "#f0f921"
          ]
         ]
        },
        "hoverlabel": {
         "bgcolor": "white",
         "font": {
          "family": "Arial",
          "size": 12
         }
        },
        "legend": {
         "font": {
          "size": 10
         },
         "orientation": "h",
         "tracegroupgap": 0,
         "x": 0.5,
         "xanchor": "center",
         "y": 1.05,
         "yanchor": "bottom"
        },
        "margin": {
         "t": 60
        },
        "paper_bgcolor": "white",
        "plot_bgcolor": "white",
        "showlegend": true,
        "template": {
         "data": {
          "bar": [
           {
            "error_x": {
             "color": "#2a3f5f"
            },
            "error_y": {
             "color": "#2a3f5f"
            },
            "marker": {
             "line": {
              "color": "#E5ECF6",
              "width": 0.5
             },
             "pattern": {
              "fillmode": "overlay",
              "size": 10,
              "solidity": 0.2
             }
            },
            "type": "bar"
           }
          ],
          "barpolar": [
           {
            "marker": {
             "line": {
              "color": "#E5ECF6",
              "width": 0.5
             },
             "pattern": {
              "fillmode": "overlay",
              "size": 10,
              "solidity": 0.2
             }
            },
            "type": "barpolar"
           }
          ],
          "carpet": [
           {
            "aaxis": {
             "endlinecolor": "#2a3f5f",
             "gridcolor": "white",
             "linecolor": "white",
             "minorgridcolor": "white",
             "startlinecolor": "#2a3f5f"
            },
            "baxis": {
             "endlinecolor": "#2a3f5f",
             "gridcolor": "white",
             "linecolor": "white",
             "minorgridcolor": "white",
             "startlinecolor": "#2a3f5f"
            },
            "type": "carpet"
           }
          ],
          "choropleth": [
           {
            "colorbar": {
             "outlinewidth": 0,
             "ticks": ""
            },
            "type": "choropleth"
           }
          ],
          "contour": [
           {
            "colorbar": {
             "outlinewidth": 0,
             "ticks": ""
            },
            "colorscale": [
             [
              0,
              "#0d0887"
             ],
             [
              0.1111111111111111,
              "#46039f"
             ],
             [
              0.2222222222222222,
              "#7201a8"
             ],
             [
              0.3333333333333333,
              "#9c179e"
             ],
             [
              0.4444444444444444,
              "#bd3786"
             ],
             [
              0.5555555555555556,
              "#d8576b"
             ],
             [
              0.6666666666666666,
              "#ed7953"
             ],
             [
              0.7777777777777778,
              "#fb9f3a"
             ],
             [
              0.8888888888888888,
              "#fdca26"
             ],
             [
              1,
              "#f0f921"
             ]
            ],
            "type": "contour"
           }
          ],
          "contourcarpet": [
           {
            "colorbar": {
             "outlinewidth": 0,
             "ticks": ""
            },
            "type": "contourcarpet"
           }
          ],
          "heatmap": [
           {
            "colorbar": {
             "outlinewidth": 0,
             "ticks": ""
            },
            "colorscale": [
             [
              0,
              "#0d0887"
             ],
             [
              0.1111111111111111,
              "#46039f"
             ],
             [
              0.2222222222222222,
              "#7201a8"
             ],
             [
              0.3333333333333333,
              "#9c179e"
             ],
             [
              0.4444444444444444,
              "#bd3786"
             ],
             [
              0.5555555555555556,
              "#d8576b"
             ],
             [
              0.6666666666666666,
              "#ed7953"
             ],
             [
              0.7777777777777778,
              "#fb9f3a"
             ],
             [
              0.8888888888888888,
              "#fdca26"
             ],
             [
              1,
              "#f0f921"
             ]
            ],
            "type": "heatmap"
           }
          ],
          "histogram": [
           {
            "marker": {
             "pattern": {
              "fillmode": "overlay",
              "size": 10,
              "solidity": 0.2
             }
            },
            "type": "histogram"
           }
          ],
          "histogram2d": [
           {
            "colorbar": {
             "outlinewidth": 0,
             "ticks": ""
            },
            "colorscale": [
             [
              0,
              "#0d0887"
             ],
             [
              0.1111111111111111,
              "#46039f"
             ],
             [
              0.2222222222222222,
              "#7201a8"
             ],
             [
              0.3333333333333333,
              "#9c179e"
             ],
             [
              0.4444444444444444,
              "#bd3786"
             ],
             [
              0.5555555555555556,
              "#d8576b"
             ],
             [
              0.6666666666666666,
              "#ed7953"
             ],
             [
              0.7777777777777778,
              "#fb9f3a"
             ],
             [
              0.8888888888888888,
              "#fdca26"
             ],
             [
              1,
              "#f0f921"
             ]
            ],
            "type": "histogram2d"
           }
          ],
          "histogram2dcontour": [
           {
            "colorbar": {
             "outlinewidth": 0,
             "ticks": ""
            },
            "colorscale": [
             [
              0,
              "#0d0887"
             ],
             [
              0.1111111111111111,
              "#46039f"
             ],
             [
              0.2222222222222222,
              "#7201a8"
             ],
             [
              0.3333333333333333,
              "#9c179e"
             ],
             [
              0.4444444444444444,
              "#bd3786"
             ],
             [
              0.5555555555555556,
              "#d8576b"
             ],
             [
              0.6666666666666666,
              "#ed7953"
             ],
             [
              0.7777777777777778,
              "#fb9f3a"
             ],
             [
              0.8888888888888888,
              "#fdca26"
             ],
             [
              1,
              "#f0f921"
             ]
            ],
            "type": "histogram2dcontour"
           }
          ],
          "mesh3d": [
           {
            "colorbar": {
             "outlinewidth": 0,
             "ticks": ""
            },
            "type": "mesh3d"
           }
          ],
          "parcoords": [
           {
            "line": {
             "colorbar": {
              "outlinewidth": 0,
              "ticks": ""
             }
            },
            "type": "parcoords"
           }
          ],
          "pie": [
           {
            "automargin": true,
            "type": "pie"
           }
          ],
          "scatter": [
           {
            "fillpattern": {
             "fillmode": "overlay",
             "size": 10,
             "solidity": 0.2
            },
            "type": "scatter"
           }
          ],
          "scatter3d": [
           {
            "line": {
             "colorbar": {
              "outlinewidth": 0,
              "ticks": ""
             }
            },
            "marker": {
             "colorbar": {
              "outlinewidth": 0,
              "ticks": ""
             }
            },
            "type": "scatter3d"
           }
          ],
          "scattercarpet": [
           {
            "marker": {
             "colorbar": {
              "outlinewidth": 0,
              "ticks": ""
             }
            },
            "type": "scattercarpet"
           }
          ],
          "scattergeo": [
           {
            "marker": {
             "colorbar": {
              "outlinewidth": 0,
              "ticks": ""
             }
            },
            "type": "scattergeo"
           }
          ],
          "scattergl": [
           {
            "marker": {
             "colorbar": {
              "outlinewidth": 0,
              "ticks": ""
             }
            },
            "type": "scattergl"
           }
          ],
          "scattermap": [
           {
            "marker": {
             "colorbar": {
              "outlinewidth": 0,
              "ticks": ""
             }
            },
            "type": "scattermap"
           }
          ],
          "scattermapbox": [
           {
            "marker": {
             "colorbar": {
              "outlinewidth": 0,
              "ticks": ""
             }
            },
            "type": "scattermapbox"
           }
          ],
          "scatterpolar": [
           {
            "marker": {
             "colorbar": {
              "outlinewidth": 0,
              "ticks": ""
             }
            },
            "type": "scatterpolar"
           }
          ],
          "scatterpolargl": [
           {
            "marker": {
             "colorbar": {
              "outlinewidth": 0,
              "ticks": ""
             }
            },
            "type": "scatterpolargl"
           }
          ],
          "scatterternary": [
           {
            "marker": {
             "colorbar": {
              "outlinewidth": 0,
              "ticks": ""
             }
            },
            "type": "scatterternary"
           }
          ],
          "surface": [
           {
            "colorbar": {
             "outlinewidth": 0,
             "ticks": ""
            },
            "colorscale": [
             [
              0,
              "#0d0887"
             ],
             [
              0.1111111111111111,
              "#46039f"
             ],
             [
              0.2222222222222222,
              "#7201a8"
             ],
             [
              0.3333333333333333,
              "#9c179e"
             ],
             [
              0.4444444444444444,
              "#bd3786"
             ],
             [
              0.5555555555555556,
              "#d8576b"
             ],
             [
              0.6666666666666666,
              "#ed7953"
             ],
             [
              0.7777777777777778,
              "#fb9f3a"
             ],
             [
              0.8888888888888888,
              "#fdca26"
             ],
             [
              1,
              "#f0f921"
             ]
            ],
            "type": "surface"
           }
          ],
          "table": [
           {
            "cells": {
             "fill": {
              "color": "#EBF0F8"
             },
             "line": {
              "color": "white"
             }
            },
            "header": {
             "fill": {
              "color": "#C8D4E3"
             },
             "line": {
              "color": "white"
             }
            },
            "type": "table"
           }
          ]
         },
         "layout": {
          "annotationdefaults": {
           "arrowcolor": "#2a3f5f",
           "arrowhead": 0,
           "arrowwidth": 1
          },
          "autotypenumbers": "strict",
          "coloraxis": {
           "colorbar": {
            "outlinewidth": 0,
            "ticks": ""
           }
          },
          "colorscale": {
           "diverging": [
            [
             0,
             "#8e0152"
            ],
            [
             0.1,
             "#c51b7d"
            ],
            [
             0.2,
             "#de77ae"
            ],
            [
             0.3,
             "#f1b6da"
            ],
            [
             0.4,
             "#fde0ef"
            ],
            [
             0.5,
             "#f7f7f7"
            ],
            [
             0.6,
             "#e6f5d0"
            ],
            [
             0.7,
             "#b8e186"
            ],
            [
             0.8,
             "#7fbc41"
            ],
            [
             0.9,
             "#4d9221"
            ],
            [
             1,
             "#276419"
            ]
           ],
           "sequential": [
            [
             0,
             "#0d0887"
            ],
            [
             0.1111111111111111,
             "#46039f"
            ],
            [
             0.2222222222222222,
             "#7201a8"
            ],
            [
             0.3333333333333333,
             "#9c179e"
            ],
            [
             0.4444444444444444,
             "#bd3786"
            ],
            [
             0.5555555555555556,
             "#d8576b"
            ],
            [
             0.6666666666666666,
             "#ed7953"
            ],
            [
             0.7777777777777778,
             "#fb9f3a"
            ],
            [
             0.8888888888888888,
             "#fdca26"
            ],
            [
             1,
             "#f0f921"
            ]
           ],
           "sequentialminus": [
            [
             0,
             "#0d0887"
            ],
            [
             0.1111111111111111,
             "#46039f"
            ],
            [
             0.2222222222222222,
             "#7201a8"
            ],
            [
             0.3333333333333333,
             "#9c179e"
            ],
            [
             0.4444444444444444,
             "#bd3786"
            ],
            [
             0.5555555555555556,
             "#d8576b"
            ],
            [
             0.6666666666666666,
             "#ed7953"
            ],
            [
             0.7777777777777778,
             "#fb9f3a"
            ],
            [
             0.8888888888888888,
             "#fdca26"
            ],
            [
             1,
             "#f0f921"
            ]
           ]
          },
          "colorway": [
           "#636efa",
           "#EF553B",
           "#00cc96",
           "#ab63fa",
           "#FFA15A",
           "#19d3f3",
           "#FF6692",
           "#B6E880",
           "#FF97FF",
           "#FECB52"
          ],
          "font": {
           "color": "#2a3f5f"
          },
          "geo": {
           "bgcolor": "white",
           "lakecolor": "white",
           "landcolor": "#E5ECF6",
           "showlakes": true,
           "showland": true,
           "subunitcolor": "white"
          },
          "hoverlabel": {
           "align": "left"
          },
          "hovermode": "closest",
          "mapbox": {
           "style": "light"
          },
          "paper_bgcolor": "white",
          "plot_bgcolor": "#E5ECF6",
          "polar": {
           "angularaxis": {
            "gridcolor": "white",
            "linecolor": "white",
            "ticks": ""
           },
           "bgcolor": "#E5ECF6",
           "radialaxis": {
            "gridcolor": "white",
            "linecolor": "white",
            "ticks": ""
           }
          },
          "scene": {
           "xaxis": {
            "backgroundcolor": "#E5ECF6",
            "gridcolor": "white",
            "gridwidth": 2,
            "linecolor": "white",
            "showbackground": true,
            "ticks": "",
            "zerolinecolor": "white"
           },
           "yaxis": {
            "backgroundcolor": "#E5ECF6",
            "gridcolor": "white",
            "gridwidth": 2,
            "linecolor": "white",
            "showbackground": true,
            "ticks": "",
            "zerolinecolor": "white"
           },
           "zaxis": {
            "backgroundcolor": "#E5ECF6",
            "gridcolor": "white",
            "gridwidth": 2,
            "linecolor": "white",
            "showbackground": true,
            "ticks": "",
            "zerolinecolor": "white"
           }
          },
          "shapedefaults": {
           "line": {
            "color": "#2a3f5f"
           }
          },
          "ternary": {
           "aaxis": {
            "gridcolor": "white",
            "linecolor": "white",
            "ticks": ""
           },
           "baxis": {
            "gridcolor": "white",
            "linecolor": "white",
            "ticks": ""
           },
           "bgcolor": "#E5ECF6",
           "caxis": {
            "gridcolor": "white",
            "linecolor": "white",
            "ticks": ""
           }
          },
          "title": {
           "x": 0.05
          },
          "xaxis": {
           "automargin": true,
           "gridcolor": "white",
           "linecolor": "white",
           "ticks": "",
           "title": {
            "standoff": 15
           },
           "zerolinecolor": "white",
           "zerolinewidth": 2
          },
          "yaxis": {
           "automargin": true,
           "gridcolor": "white",
           "linecolor": "white",
           "ticks": "",
           "title": {
            "standoff": 15
           },
           "zerolinecolor": "white",
           "zerolinewidth": 2
          }
         }
        },
        "title": {
         "font": {
          "color": "black",
          "family": "Arial",
          "size": 18
         },
         "text": "Porcentaje de ingresos anuales por sector industrial",
         "x": 0.5
        },
        "xaxis": {
         "anchor": "y",
         "domain": [
          0,
          1
         ],
         "gridcolor": "lightgrey",
         "showgrid": true,
         "tickfont": {
          "color": "black",
          "family": "Arial",
          "size": 7,
          "weight": "bold"
         },
         "title": {
          "font": {
           "color": "black",
           "family": "Arial",
           "size": 12
          },
          "text": " "
         },
         "zerolinecolor": "lightgrey"
        },
        "yaxis": {
         "anchor": "x",
         "automargin": true,
         "autorange": true,
         "domain": [
          0,
          1
         ],
         "linecolor": "black",
         "showline": true,
         "tickfont": {
          "color": "black",
          "family": "Arial",
          "size": 12,
          "weight": "bold"
         },
         "ticklen": 10,
         "ticksuffix": "   ",
         "title": {
          "text": ""
         }
        }
       }
      }
     },
     "metadata": {},
     "output_type": "display_data"
    }
   ],
   "source": [
    "sector_mas_ingresos = credit_data_platinum.groupby(by=['sector_industrial']).agg(\n",
    "    total_ingresos_anuales = ('ingresos_anuales_mxn','sum')\n",
    ").reset_index()\n",
    "sector_mas_ingresos['Porcentaje'] = (sector_mas_ingresos['total_ingresos_anuales']/sector_mas_ingresos['total_ingresos_anuales'].sum())*100\n",
    "sector_mas_ingresos = sector_mas_ingresos.sort_values(\n",
    "    by='Porcentaje',  # Columna por la que ordenar\n",
    "    ascending=False   # Orden descendente (de mayor a menor)\n",
    ").reset_index(drop=True) \n",
    "fig = crear_barplot_personalizado(sector_mas_ingresos, \n",
    "                                  x='sector_industrial', \n",
    "                                  y='Porcentaje', \n",
    "                                  color='total_ingresos_anuales',\n",
    "                                  decimales ='%{y:.1f}%',\n",
    "                                  titulo='Porcentaje de ingresos anuales por sector industrial')\n",
    "fig.show()"
   ]
  },
  {
   "cell_type": "markdown",
   "id": "bd98db58",
   "metadata": {},
   "source": [
    "Podemos observar que los sectores industriales en donde los clientes tiene más ingresos son:\n",
    "\n",
    "- Retail\n",
    "- Construcción\n",
    "- Manufactura\n",
    "\n",
    "Veamos ahora, cuáles son los sectores industriales en donde los clientes tienen mayores deudas?"
   ]
  },
  {
   "cell_type": "code",
   "execution_count": 30,
   "id": "7821169f",
   "metadata": {},
   "outputs": [
    {
     "data": {
      "application/vnd.plotly.v1+json": {
       "config": {
        "plotlyServerURL": "https://plot.ly"
       },
       "data": [
        {
         "alignmentgroup": "True",
         "hovertemplate": " =%{x}<br>Cantidad=%{text}<br>total_deudas=%{marker.color}<extra></extra>",
         "legendgroup": "",
         "marker": {
          "color": {
           "bdata": "AADATMTCzUHhetTlUvfMQUjh+ppV1cRBXI/CzdZrvUHhelTFmaa6QT0KlxWvRblB4XoUh3lmr0HC9Sg58vOkQQ==",
           "dtype": "f8"
          },
          "coloraxis": "coloraxis",
          "pattern": {
           "shape": ""
          }
         },
         "name": "",
         "offsetgroup": "",
         "orientation": "v",
         "showlegend": false,
         "text": {
          "bdata": "KGnoJJ5SNkDTBBNiBbo1QBCk/+bCQC9ABBrmb2oRJkC+LvO6b/0jQCBRx0e59CJASyzLt22NF0C2Pw3yrm4PQA==",
          "dtype": "f8"
         },
         "textfont": {
          "color": "black",
          "family": "Arial",
          "size": 12,
          "weight": "bold"
         },
         "textposition": "outside",
         "texttemplate": "%{y:.1f}%",
         "type": "bar",
         "x": [
          "Retail",
          "Construcción",
          "Manufactura",
          "Tecnología",
          "Servicios",
          "Servicios Profesionales",
          "Tech",
          "T.I."
         ],
         "xaxis": "x",
         "y": {
          "bdata": "KGnoJJ5SNkDTBBNiBbo1QBCk/+bCQC9ABBrmb2oRJkC+LvO6b/0jQCBRx0e59CJASyzLt22NF0C2Pw3yrm4PQA==",
          "dtype": "f8"
         },
         "yaxis": "y"
        }
       ],
       "layout": {
        "bargap": 0.2,
        "barmode": "group",
        "coloraxis": {
         "colorbar": {
          "title": {
           "text": "total_deudas"
          }
         },
         "colorscale": [
          [
           0,
           "#0d0887"
          ],
          [
           0.1111111111111111,
           "#46039f"
          ],
          [
           0.2222222222222222,
           "#7201a8"
          ],
          [
           0.3333333333333333,
           "#9c179e"
          ],
          [
           0.4444444444444444,
           "#bd3786"
          ],
          [
           0.5555555555555556,
           "#d8576b"
          ],
          [
           0.6666666666666666,
           "#ed7953"
          ],
          [
           0.7777777777777778,
           "#fb9f3a"
          ],
          [
           0.8888888888888888,
           "#fdca26"
          ],
          [
           1,
           "#f0f921"
          ]
         ]
        },
        "hoverlabel": {
         "bgcolor": "white",
         "font": {
          "family": "Arial",
          "size": 12
         }
        },
        "legend": {
         "font": {
          "size": 10
         },
         "orientation": "h",
         "tracegroupgap": 0,
         "x": 0.5,
         "xanchor": "center",
         "y": 1.05,
         "yanchor": "bottom"
        },
        "margin": {
         "t": 60
        },
        "paper_bgcolor": "white",
        "plot_bgcolor": "white",
        "showlegend": true,
        "template": {
         "data": {
          "bar": [
           {
            "error_x": {
             "color": "#2a3f5f"
            },
            "error_y": {
             "color": "#2a3f5f"
            },
            "marker": {
             "line": {
              "color": "#E5ECF6",
              "width": 0.5
             },
             "pattern": {
              "fillmode": "overlay",
              "size": 10,
              "solidity": 0.2
             }
            },
            "type": "bar"
           }
          ],
          "barpolar": [
           {
            "marker": {
             "line": {
              "color": "#E5ECF6",
              "width": 0.5
             },
             "pattern": {
              "fillmode": "overlay",
              "size": 10,
              "solidity": 0.2
             }
            },
            "type": "barpolar"
           }
          ],
          "carpet": [
           {
            "aaxis": {
             "endlinecolor": "#2a3f5f",
             "gridcolor": "white",
             "linecolor": "white",
             "minorgridcolor": "white",
             "startlinecolor": "#2a3f5f"
            },
            "baxis": {
             "endlinecolor": "#2a3f5f",
             "gridcolor": "white",
             "linecolor": "white",
             "minorgridcolor": "white",
             "startlinecolor": "#2a3f5f"
            },
            "type": "carpet"
           }
          ],
          "choropleth": [
           {
            "colorbar": {
             "outlinewidth": 0,
             "ticks": ""
            },
            "type": "choropleth"
           }
          ],
          "contour": [
           {
            "colorbar": {
             "outlinewidth": 0,
             "ticks": ""
            },
            "colorscale": [
             [
              0,
              "#0d0887"
             ],
             [
              0.1111111111111111,
              "#46039f"
             ],
             [
              0.2222222222222222,
              "#7201a8"
             ],
             [
              0.3333333333333333,
              "#9c179e"
             ],
             [
              0.4444444444444444,
              "#bd3786"
             ],
             [
              0.5555555555555556,
              "#d8576b"
             ],
             [
              0.6666666666666666,
              "#ed7953"
             ],
             [
              0.7777777777777778,
              "#fb9f3a"
             ],
             [
              0.8888888888888888,
              "#fdca26"
             ],
             [
              1,
              "#f0f921"
             ]
            ],
            "type": "contour"
           }
          ],
          "contourcarpet": [
           {
            "colorbar": {
             "outlinewidth": 0,
             "ticks": ""
            },
            "type": "contourcarpet"
           }
          ],
          "heatmap": [
           {
            "colorbar": {
             "outlinewidth": 0,
             "ticks": ""
            },
            "colorscale": [
             [
              0,
              "#0d0887"
             ],
             [
              0.1111111111111111,
              "#46039f"
             ],
             [
              0.2222222222222222,
              "#7201a8"
             ],
             [
              0.3333333333333333,
              "#9c179e"
             ],
             [
              0.4444444444444444,
              "#bd3786"
             ],
             [
              0.5555555555555556,
              "#d8576b"
             ],
             [
              0.6666666666666666,
              "#ed7953"
             ],
             [
              0.7777777777777778,
              "#fb9f3a"
             ],
             [
              0.8888888888888888,
              "#fdca26"
             ],
             [
              1,
              "#f0f921"
             ]
            ],
            "type": "heatmap"
           }
          ],
          "histogram": [
           {
            "marker": {
             "pattern": {
              "fillmode": "overlay",
              "size": 10,
              "solidity": 0.2
             }
            },
            "type": "histogram"
           }
          ],
          "histogram2d": [
           {
            "colorbar": {
             "outlinewidth": 0,
             "ticks": ""
            },
            "colorscale": [
             [
              0,
              "#0d0887"
             ],
             [
              0.1111111111111111,
              "#46039f"
             ],
             [
              0.2222222222222222,
              "#7201a8"
             ],
             [
              0.3333333333333333,
              "#9c179e"
             ],
             [
              0.4444444444444444,
              "#bd3786"
             ],
             [
              0.5555555555555556,
              "#d8576b"
             ],
             [
              0.6666666666666666,
              "#ed7953"
             ],
             [
              0.7777777777777778,
              "#fb9f3a"
             ],
             [
              0.8888888888888888,
              "#fdca26"
             ],
             [
              1,
              "#f0f921"
             ]
            ],
            "type": "histogram2d"
           }
          ],
          "histogram2dcontour": [
           {
            "colorbar": {
             "outlinewidth": 0,
             "ticks": ""
            },
            "colorscale": [
             [
              0,
              "#0d0887"
             ],
             [
              0.1111111111111111,
              "#46039f"
             ],
             [
              0.2222222222222222,
              "#7201a8"
             ],
             [
              0.3333333333333333,
              "#9c179e"
             ],
             [
              0.4444444444444444,
              "#bd3786"
             ],
             [
              0.5555555555555556,
              "#d8576b"
             ],
             [
              0.6666666666666666,
              "#ed7953"
             ],
             [
              0.7777777777777778,
              "#fb9f3a"
             ],
             [
              0.8888888888888888,
              "#fdca26"
             ],
             [
              1,
              "#f0f921"
             ]
            ],
            "type": "histogram2dcontour"
           }
          ],
          "mesh3d": [
           {
            "colorbar": {
             "outlinewidth": 0,
             "ticks": ""
            },
            "type": "mesh3d"
           }
          ],
          "parcoords": [
           {
            "line": {
             "colorbar": {
              "outlinewidth": 0,
              "ticks": ""
             }
            },
            "type": "parcoords"
           }
          ],
          "pie": [
           {
            "automargin": true,
            "type": "pie"
           }
          ],
          "scatter": [
           {
            "fillpattern": {
             "fillmode": "overlay",
             "size": 10,
             "solidity": 0.2
            },
            "type": "scatter"
           }
          ],
          "scatter3d": [
           {
            "line": {
             "colorbar": {
              "outlinewidth": 0,
              "ticks": ""
             }
            },
            "marker": {
             "colorbar": {
              "outlinewidth": 0,
              "ticks": ""
             }
            },
            "type": "scatter3d"
           }
          ],
          "scattercarpet": [
           {
            "marker": {
             "colorbar": {
              "outlinewidth": 0,
              "ticks": ""
             }
            },
            "type": "scattercarpet"
           }
          ],
          "scattergeo": [
           {
            "marker": {
             "colorbar": {
              "outlinewidth": 0,
              "ticks": ""
             }
            },
            "type": "scattergeo"
           }
          ],
          "scattergl": [
           {
            "marker": {
             "colorbar": {
              "outlinewidth": 0,
              "ticks": ""
             }
            },
            "type": "scattergl"
           }
          ],
          "scattermap": [
           {
            "marker": {
             "colorbar": {
              "outlinewidth": 0,
              "ticks": ""
             }
            },
            "type": "scattermap"
           }
          ],
          "scattermapbox": [
           {
            "marker": {
             "colorbar": {
              "outlinewidth": 0,
              "ticks": ""
             }
            },
            "type": "scattermapbox"
           }
          ],
          "scatterpolar": [
           {
            "marker": {
             "colorbar": {
              "outlinewidth": 0,
              "ticks": ""
             }
            },
            "type": "scatterpolar"
           }
          ],
          "scatterpolargl": [
           {
            "marker": {
             "colorbar": {
              "outlinewidth": 0,
              "ticks": ""
             }
            },
            "type": "scatterpolargl"
           }
          ],
          "scatterternary": [
           {
            "marker": {
             "colorbar": {
              "outlinewidth": 0,
              "ticks": ""
             }
            },
            "type": "scatterternary"
           }
          ],
          "surface": [
           {
            "colorbar": {
             "outlinewidth": 0,
             "ticks": ""
            },
            "colorscale": [
             [
              0,
              "#0d0887"
             ],
             [
              0.1111111111111111,
              "#46039f"
             ],
             [
              0.2222222222222222,
              "#7201a8"
             ],
             [
              0.3333333333333333,
              "#9c179e"
             ],
             [
              0.4444444444444444,
              "#bd3786"
             ],
             [
              0.5555555555555556,
              "#d8576b"
             ],
             [
              0.6666666666666666,
              "#ed7953"
             ],
             [
              0.7777777777777778,
              "#fb9f3a"
             ],
             [
              0.8888888888888888,
              "#fdca26"
             ],
             [
              1,
              "#f0f921"
             ]
            ],
            "type": "surface"
           }
          ],
          "table": [
           {
            "cells": {
             "fill": {
              "color": "#EBF0F8"
             },
             "line": {
              "color": "white"
             }
            },
            "header": {
             "fill": {
              "color": "#C8D4E3"
             },
             "line": {
              "color": "white"
             }
            },
            "type": "table"
           }
          ]
         },
         "layout": {
          "annotationdefaults": {
           "arrowcolor": "#2a3f5f",
           "arrowhead": 0,
           "arrowwidth": 1
          },
          "autotypenumbers": "strict",
          "coloraxis": {
           "colorbar": {
            "outlinewidth": 0,
            "ticks": ""
           }
          },
          "colorscale": {
           "diverging": [
            [
             0,
             "#8e0152"
            ],
            [
             0.1,
             "#c51b7d"
            ],
            [
             0.2,
             "#de77ae"
            ],
            [
             0.3,
             "#f1b6da"
            ],
            [
             0.4,
             "#fde0ef"
            ],
            [
             0.5,
             "#f7f7f7"
            ],
            [
             0.6,
             "#e6f5d0"
            ],
            [
             0.7,
             "#b8e186"
            ],
            [
             0.8,
             "#7fbc41"
            ],
            [
             0.9,
             "#4d9221"
            ],
            [
             1,
             "#276419"
            ]
           ],
           "sequential": [
            [
             0,
             "#0d0887"
            ],
            [
             0.1111111111111111,
             "#46039f"
            ],
            [
             0.2222222222222222,
             "#7201a8"
            ],
            [
             0.3333333333333333,
             "#9c179e"
            ],
            [
             0.4444444444444444,
             "#bd3786"
            ],
            [
             0.5555555555555556,
             "#d8576b"
            ],
            [
             0.6666666666666666,
             "#ed7953"
            ],
            [
             0.7777777777777778,
             "#fb9f3a"
            ],
            [
             0.8888888888888888,
             "#fdca26"
            ],
            [
             1,
             "#f0f921"
            ]
           ],
           "sequentialminus": [
            [
             0,
             "#0d0887"
            ],
            [
             0.1111111111111111,
             "#46039f"
            ],
            [
             0.2222222222222222,
             "#7201a8"
            ],
            [
             0.3333333333333333,
             "#9c179e"
            ],
            [
             0.4444444444444444,
             "#bd3786"
            ],
            [
             0.5555555555555556,
             "#d8576b"
            ],
            [
             0.6666666666666666,
             "#ed7953"
            ],
            [
             0.7777777777777778,
             "#fb9f3a"
            ],
            [
             0.8888888888888888,
             "#fdca26"
            ],
            [
             1,
             "#f0f921"
            ]
           ]
          },
          "colorway": [
           "#636efa",
           "#EF553B",
           "#00cc96",
           "#ab63fa",
           "#FFA15A",
           "#19d3f3",
           "#FF6692",
           "#B6E880",
           "#FF97FF",
           "#FECB52"
          ],
          "font": {
           "color": "#2a3f5f"
          },
          "geo": {
           "bgcolor": "white",
           "lakecolor": "white",
           "landcolor": "#E5ECF6",
           "showlakes": true,
           "showland": true,
           "subunitcolor": "white"
          },
          "hoverlabel": {
           "align": "left"
          },
          "hovermode": "closest",
          "mapbox": {
           "style": "light"
          },
          "paper_bgcolor": "white",
          "plot_bgcolor": "#E5ECF6",
          "polar": {
           "angularaxis": {
            "gridcolor": "white",
            "linecolor": "white",
            "ticks": ""
           },
           "bgcolor": "#E5ECF6",
           "radialaxis": {
            "gridcolor": "white",
            "linecolor": "white",
            "ticks": ""
           }
          },
          "scene": {
           "xaxis": {
            "backgroundcolor": "#E5ECF6",
            "gridcolor": "white",
            "gridwidth": 2,
            "linecolor": "white",
            "showbackground": true,
            "ticks": "",
            "zerolinecolor": "white"
           },
           "yaxis": {
            "backgroundcolor": "#E5ECF6",
            "gridcolor": "white",
            "gridwidth": 2,
            "linecolor": "white",
            "showbackground": true,
            "ticks": "",
            "zerolinecolor": "white"
           },
           "zaxis": {
            "backgroundcolor": "#E5ECF6",
            "gridcolor": "white",
            "gridwidth": 2,
            "linecolor": "white",
            "showbackground": true,
            "ticks": "",
            "zerolinecolor": "white"
           }
          },
          "shapedefaults": {
           "line": {
            "color": "#2a3f5f"
           }
          },
          "ternary": {
           "aaxis": {
            "gridcolor": "white",
            "linecolor": "white",
            "ticks": ""
           },
           "baxis": {
            "gridcolor": "white",
            "linecolor": "white",
            "ticks": ""
           },
           "bgcolor": "#E5ECF6",
           "caxis": {
            "gridcolor": "white",
            "linecolor": "white",
            "ticks": ""
           }
          },
          "title": {
           "x": 0.05
          },
          "xaxis": {
           "automargin": true,
           "gridcolor": "white",
           "linecolor": "white",
           "ticks": "",
           "title": {
            "standoff": 15
           },
           "zerolinecolor": "white",
           "zerolinewidth": 2
          },
          "yaxis": {
           "automargin": true,
           "gridcolor": "white",
           "linecolor": "white",
           "ticks": "",
           "title": {
            "standoff": 15
           },
           "zerolinecolor": "white",
           "zerolinewidth": 2
          }
         }
        },
        "title": {
         "font": {
          "color": "black",
          "family": "Arial",
          "size": 18
         },
         "text": "Porcentaje de deudas totales por sector industrial",
         "x": 0.5
        },
        "xaxis": {
         "anchor": "y",
         "domain": [
          0,
          1
         ],
         "gridcolor": "lightgrey",
         "showgrid": true,
         "tickfont": {
          "color": "black",
          "family": "Arial",
          "size": 7,
          "weight": "bold"
         },
         "title": {
          "font": {
           "color": "black",
           "family": "Arial",
           "size": 12
          },
          "text": " "
         },
         "zerolinecolor": "lightgrey"
        },
        "yaxis": {
         "anchor": "x",
         "automargin": true,
         "autorange": true,
         "domain": [
          0,
          1
         ],
         "linecolor": "black",
         "showline": true,
         "tickfont": {
          "color": "black",
          "family": "Arial",
          "size": 12,
          "weight": "bold"
         },
         "ticklen": 10,
         "ticksuffix": "   ",
         "title": {
          "text": ""
         }
        }
       }
      }
     },
     "metadata": {},
     "output_type": "display_data"
    }
   ],
   "source": [
    "sector_mas_deudas = credit_data_platinum.groupby(by=['sector_industrial']).agg(\n",
    "    total_deudas = ('deuda_total_mxn','sum')\n",
    ").reset_index()\n",
    "sector_mas_deudas['Porcentaje'] = (sector_mas_deudas['total_deudas']/sector_mas_deudas['total_deudas'].sum())*100\n",
    "sector_mas_deudas = sector_mas_deudas.sort_values(\n",
    "    by='Porcentaje',  # Columna por la que ordenar\n",
    "    ascending=False   # Orden descendente (de mayor a menor)\n",
    ").reset_index(drop=True) \n",
    "fig = crear_barplot_personalizado(sector_mas_deudas, \n",
    "                                  x='sector_industrial', \n",
    "                                  y='Porcentaje', \n",
    "                                  color='total_deudas',\n",
    "                                  decimales ='%{y:.1f}%',\n",
    "                                  titulo='Porcentaje de deudas totales por sector industrial')\n",
    "fig.show()"
   ]
  },
  {
   "cell_type": "markdown",
   "id": "a500fe57",
   "metadata": {},
   "source": [
    "Podemos observar que los sectores industriales en donde los clientes presentan más deuda son:\n",
    "\n",
    "- Retail\n",
    "- Contruccción\n",
    "- Manufactura\n",
    "\n",
    "Así mismo, el sector T.I es donde las personas tienen menos deudas.\n",
    "\n",
    "Ahora veamos cuáles son las categorías de buró con mayor historial de pagos atrasados y a qué sector industrial pertenecen."
   ]
  },
  {
   "cell_type": "code",
   "execution_count": 31,
   "id": "72717c17",
   "metadata": {},
   "outputs": [
    {
     "data": {
      "application/vnd.plotly.v1+json": {
       "config": {
        "plotlyServerURL": "https://plot.ly"
       },
       "data": [
        {
         "alignmentgroup": "True",
         "hovertemplate": "sector_industrial=Construcción<br> =%{x}<br>Cantidad=%{text}<extra></extra>",
         "legendgroup": "Construcción",
         "marker": {
          "color": "#636efa",
          "pattern": {
           "shape": ""
          }
         },
         "name": "Construcción",
         "offsetgroup": "Construcción",
         "orientation": "v",
         "showlegend": true,
         "text": {
          "bdata": "AAAAAACAXkAAAAAAAEBeQAAAAAAAwFtAAAAAAAAASkAAAAAAAABAQA==",
          "dtype": "f8"
         },
         "textfont": {
          "color": "black",
          "family": "Arial",
          "size": 12,
          "weight": "bold"
         },
         "textposition": "outside",
         "texttemplate": "%{y:.0f}",
         "type": "bar",
         "x": [
          "A",
          "B",
          "C",
          "D",
          "sin_calificacion"
         ],
         "xaxis": "x",
         "y": {
          "bdata": "enlvNCA=",
          "dtype": "i1"
         },
         "yaxis": "y"
        },
        {
         "alignmentgroup": "True",
         "hovertemplate": "sector_industrial=Manufactura<br> =%{x}<br>Cantidad=%{text}<extra></extra>",
         "legendgroup": "Manufactura",
         "marker": {
          "color": "#EF553B",
          "pattern": {
           "shape": ""
          }
         },
         "name": "Manufactura",
         "offsetgroup": "Manufactura",
         "orientation": "v",
         "showlegend": true,
         "text": {
          "bdata": "AAAAAAAAXEAAAAAAAMBfQAAAAAAAAFRAAAAAAACAQkAAAAAAAAA+QA==",
          "dtype": "f8"
         },
         "textfont": {
          "color": "black",
          "family": "Arial",
          "size": 12,
          "weight": "bold"
         },
         "textposition": "outside",
         "texttemplate": "%{y:.0f}",
         "type": "bar",
         "x": [
          "A",
          "B",
          "C",
          "D",
          "sin_calificacion"
         ],
         "xaxis": "x",
         "y": {
          "bdata": "cH9QJR4=",
          "dtype": "i1"
         },
         "yaxis": "y"
        },
        {
         "alignmentgroup": "True",
         "hovertemplate": "sector_industrial=Retail<br> =%{x}<br>Cantidad=%{text}<extra></extra>",
         "legendgroup": "Retail",
         "marker": {
          "color": "#00cc96",
          "pattern": {
           "shape": ""
          }
         },
         "name": "Retail",
         "offsetgroup": "Retail",
         "orientation": "v",
         "showlegend": true,
         "text": {
          "bdata": "AAAAAAAgZUAAAAAAAABoQAAAAAAAAFVAAAAAAAAAR0AAAAAAAAA8QA==",
          "dtype": "f8"
         },
         "textfont": {
          "color": "black",
          "family": "Arial",
          "size": 12,
          "weight": "bold"
         },
         "textposition": "outside",
         "texttemplate": "%{y:.0f}",
         "type": "bar",
         "x": [
          "A",
          "B",
          "C",
          "D",
          "sin_calificacion"
         ],
         "xaxis": "x",
         "y": {
          "bdata": "qQDAAFQALgAcAA==",
          "dtype": "i2"
         },
         "yaxis": "y"
        },
        {
         "alignmentgroup": "True",
         "hovertemplate": "sector_industrial=Servicios<br> =%{x}<br>Cantidad=%{text}<extra></extra>",
         "legendgroup": "Servicios",
         "marker": {
          "color": "#ab63fa",
          "pattern": {
           "shape": ""
          }
         },
         "name": "Servicios",
         "offsetgroup": "Servicios",
         "orientation": "v",
         "showlegend": true,
         "text": {
          "bdata": "AAAAAACAS0AAAAAAAEBXQAAAAAAAAD9AAAAAAAAANUAAAAAAAAA6QA==",
          "dtype": "f8"
         },
         "textfont": {
          "color": "black",
          "family": "Arial",
          "size": 12,
          "weight": "bold"
         },
         "textposition": "outside",
         "texttemplate": "%{y:.0f}",
         "type": "bar",
         "x": [
          "A",
          "B",
          "C",
          "D",
          "sin_calificacion"
         ],
         "xaxis": "x",
         "y": {
          "bdata": "N10fFRo=",
          "dtype": "i1"
         },
         "yaxis": "y"
        },
        {
         "alignmentgroup": "True",
         "hovertemplate": "sector_industrial=Servicios Profesionales<br> =%{x}<br>Cantidad=%{text}<extra></extra>",
         "legendgroup": "Servicios Profesionales",
         "marker": {
          "color": "#FFA15A",
          "pattern": {
           "shape": ""
          }
         },
         "name": "Servicios Profesionales",
         "offsetgroup": "Servicios Profesionales",
         "orientation": "v",
         "showlegend": true,
         "text": {
          "bdata": "AAAAAADAU0AAAAAAAMBSQAAAAAAAAEZAAAAAAAAAIEAAAAAAAAAsQA==",
          "dtype": "f8"
         },
         "textfont": {
          "color": "black",
          "family": "Arial",
          "size": 12,
          "weight": "bold"
         },
         "textposition": "outside",
         "texttemplate": "%{y:.0f}",
         "type": "bar",
         "x": [
          "A",
          "B",
          "C",
          "D",
          "sin_calificacion"
         ],
         "xaxis": "x",
         "y": {
          "bdata": "T0ssCA4=",
          "dtype": "i1"
         },
         "yaxis": "y"
        },
        {
         "alignmentgroup": "True",
         "hovertemplate": "sector_industrial=T.I.<br> =%{x}<br>Cantidad=%{text}<extra></extra>",
         "legendgroup": "T.I.",
         "marker": {
          "color": "#19d3f3",
          "pattern": {
           "shape": ""
          }
         },
         "name": "T.I.",
         "offsetgroup": "T.I.",
         "orientation": "v",
         "showlegend": true,
         "text": {
          "bdata": "AAAAAAAAQUAAAAAAAIBAQAAAAAAAACxAAAAAAAAAMEAAAAAAAAA0QA==",
          "dtype": "f8"
         },
         "textfont": {
          "color": "black",
          "family": "Arial",
          "size": 12,
          "weight": "bold"
         },
         "textposition": "outside",
         "texttemplate": "%{y:.0f}",
         "type": "bar",
         "x": [
          "A",
          "B",
          "C",
          "D",
          "sin_calificacion"
         ],
         "xaxis": "x",
         "y": {
          "bdata": "IiEOEBQ=",
          "dtype": "i1"
         },
         "yaxis": "y"
        },
        {
         "alignmentgroup": "True",
         "hovertemplate": "sector_industrial=Tech<br> =%{x}<br>Cantidad=%{text}<extra></extra>",
         "legendgroup": "Tech",
         "marker": {
          "color": "#FF6692",
          "pattern": {
           "shape": ""
          }
         },
         "name": "Tech",
         "offsetgroup": "Tech",
         "orientation": "v",
         "showlegend": true,
         "text": {
          "bdata": "AAAAAAAAPUAAAAAAAABEQAAAAAAAAD9AAAAAAAAAJkAAAAAAAAAYQA==",
          "dtype": "f8"
         },
         "textfont": {
          "color": "black",
          "family": "Arial",
          "size": 12,
          "weight": "bold"
         },
         "textposition": "outside",
         "texttemplate": "%{y:.0f}",
         "type": "bar",
         "x": [
          "A",
          "B",
          "C",
          "D",
          "sin_calificacion"
         ],
         "xaxis": "x",
         "y": {
          "bdata": "HSgfCwY=",
          "dtype": "i1"
         },
         "yaxis": "y"
        },
        {
         "alignmentgroup": "True",
         "hovertemplate": "sector_industrial=Tecnología<br> =%{x}<br>Cantidad=%{text}<extra></extra>",
         "legendgroup": "Tecnología",
         "marker": {
          "color": "#B6E880",
          "pattern": {
           "shape": ""
          }
         },
         "name": "Tecnología",
         "offsetgroup": "Tecnología",
         "orientation": "v",
         "showlegend": true,
         "text": {
          "bdata": "AAAAAAAAUkAAAAAAAABRQAAAAAAAAEJAAAAAAAAANkAAAAAAAAAuQA==",
          "dtype": "f8"
         },
         "textfont": {
          "color": "black",
          "family": "Arial",
          "size": 12,
          "weight": "bold"
         },
         "textposition": "outside",
         "texttemplate": "%{y:.0f}",
         "type": "bar",
         "x": [
          "A",
          "B",
          "C",
          "D",
          "sin_calificacion"
         ],
         "xaxis": "x",
         "y": {
          "bdata": "SEQkFg8=",
          "dtype": "i1"
         },
         "yaxis": "y"
        }
       ],
       "layout": {
        "bargap": 0.2,
        "barmode": "group",
        "hoverlabel": {
         "bgcolor": "white",
         "font": {
          "family": "Arial",
          "size": 12
         }
        },
        "legend": {
         "font": {
          "size": 10
         },
         "orientation": "h",
         "title": {
          "text": "sector_industrial"
         },
         "tracegroupgap": 0,
         "x": 0.5,
         "xanchor": "center",
         "y": 1.05,
         "yanchor": "bottom"
        },
        "margin": {
         "t": 60
        },
        "paper_bgcolor": "white",
        "plot_bgcolor": "white",
        "showlegend": true,
        "template": {
         "data": {
          "bar": [
           {
            "error_x": {
             "color": "#2a3f5f"
            },
            "error_y": {
             "color": "#2a3f5f"
            },
            "marker": {
             "line": {
              "color": "#E5ECF6",
              "width": 0.5
             },
             "pattern": {
              "fillmode": "overlay",
              "size": 10,
              "solidity": 0.2
             }
            },
            "type": "bar"
           }
          ],
          "barpolar": [
           {
            "marker": {
             "line": {
              "color": "#E5ECF6",
              "width": 0.5
             },
             "pattern": {
              "fillmode": "overlay",
              "size": 10,
              "solidity": 0.2
             }
            },
            "type": "barpolar"
           }
          ],
          "carpet": [
           {
            "aaxis": {
             "endlinecolor": "#2a3f5f",
             "gridcolor": "white",
             "linecolor": "white",
             "minorgridcolor": "white",
             "startlinecolor": "#2a3f5f"
            },
            "baxis": {
             "endlinecolor": "#2a3f5f",
             "gridcolor": "white",
             "linecolor": "white",
             "minorgridcolor": "white",
             "startlinecolor": "#2a3f5f"
            },
            "type": "carpet"
           }
          ],
          "choropleth": [
           {
            "colorbar": {
             "outlinewidth": 0,
             "ticks": ""
            },
            "type": "choropleth"
           }
          ],
          "contour": [
           {
            "colorbar": {
             "outlinewidth": 0,
             "ticks": ""
            },
            "colorscale": [
             [
              0,
              "#0d0887"
             ],
             [
              0.1111111111111111,
              "#46039f"
             ],
             [
              0.2222222222222222,
              "#7201a8"
             ],
             [
              0.3333333333333333,
              "#9c179e"
             ],
             [
              0.4444444444444444,
              "#bd3786"
             ],
             [
              0.5555555555555556,
              "#d8576b"
             ],
             [
              0.6666666666666666,
              "#ed7953"
             ],
             [
              0.7777777777777778,
              "#fb9f3a"
             ],
             [
              0.8888888888888888,
              "#fdca26"
             ],
             [
              1,
              "#f0f921"
             ]
            ],
            "type": "contour"
           }
          ],
          "contourcarpet": [
           {
            "colorbar": {
             "outlinewidth": 0,
             "ticks": ""
            },
            "type": "contourcarpet"
           }
          ],
          "heatmap": [
           {
            "colorbar": {
             "outlinewidth": 0,
             "ticks": ""
            },
            "colorscale": [
             [
              0,
              "#0d0887"
             ],
             [
              0.1111111111111111,
              "#46039f"
             ],
             [
              0.2222222222222222,
              "#7201a8"
             ],
             [
              0.3333333333333333,
              "#9c179e"
             ],
             [
              0.4444444444444444,
              "#bd3786"
             ],
             [
              0.5555555555555556,
              "#d8576b"
             ],
             [
              0.6666666666666666,
              "#ed7953"
             ],
             [
              0.7777777777777778,
              "#fb9f3a"
             ],
             [
              0.8888888888888888,
              "#fdca26"
             ],
             [
              1,
              "#f0f921"
             ]
            ],
            "type": "heatmap"
           }
          ],
          "histogram": [
           {
            "marker": {
             "pattern": {
              "fillmode": "overlay",
              "size": 10,
              "solidity": 0.2
             }
            },
            "type": "histogram"
           }
          ],
          "histogram2d": [
           {
            "colorbar": {
             "outlinewidth": 0,
             "ticks": ""
            },
            "colorscale": [
             [
              0,
              "#0d0887"
             ],
             [
              0.1111111111111111,
              "#46039f"
             ],
             [
              0.2222222222222222,
              "#7201a8"
             ],
             [
              0.3333333333333333,
              "#9c179e"
             ],
             [
              0.4444444444444444,
              "#bd3786"
             ],
             [
              0.5555555555555556,
              "#d8576b"
             ],
             [
              0.6666666666666666,
              "#ed7953"
             ],
             [
              0.7777777777777778,
              "#fb9f3a"
             ],
             [
              0.8888888888888888,
              "#fdca26"
             ],
             [
              1,
              "#f0f921"
             ]
            ],
            "type": "histogram2d"
           }
          ],
          "histogram2dcontour": [
           {
            "colorbar": {
             "outlinewidth": 0,
             "ticks": ""
            },
            "colorscale": [
             [
              0,
              "#0d0887"
             ],
             [
              0.1111111111111111,
              "#46039f"
             ],
             [
              0.2222222222222222,
              "#7201a8"
             ],
             [
              0.3333333333333333,
              "#9c179e"
             ],
             [
              0.4444444444444444,
              "#bd3786"
             ],
             [
              0.5555555555555556,
              "#d8576b"
             ],
             [
              0.6666666666666666,
              "#ed7953"
             ],
             [
              0.7777777777777778,
              "#fb9f3a"
             ],
             [
              0.8888888888888888,
              "#fdca26"
             ],
             [
              1,
              "#f0f921"
             ]
            ],
            "type": "histogram2dcontour"
           }
          ],
          "mesh3d": [
           {
            "colorbar": {
             "outlinewidth": 0,
             "ticks": ""
            },
            "type": "mesh3d"
           }
          ],
          "parcoords": [
           {
            "line": {
             "colorbar": {
              "outlinewidth": 0,
              "ticks": ""
             }
            },
            "type": "parcoords"
           }
          ],
          "pie": [
           {
            "automargin": true,
            "type": "pie"
           }
          ],
          "scatter": [
           {
            "fillpattern": {
             "fillmode": "overlay",
             "size": 10,
             "solidity": 0.2
            },
            "type": "scatter"
           }
          ],
          "scatter3d": [
           {
            "line": {
             "colorbar": {
              "outlinewidth": 0,
              "ticks": ""
             }
            },
            "marker": {
             "colorbar": {
              "outlinewidth": 0,
              "ticks": ""
             }
            },
            "type": "scatter3d"
           }
          ],
          "scattercarpet": [
           {
            "marker": {
             "colorbar": {
              "outlinewidth": 0,
              "ticks": ""
             }
            },
            "type": "scattercarpet"
           }
          ],
          "scattergeo": [
           {
            "marker": {
             "colorbar": {
              "outlinewidth": 0,
              "ticks": ""
             }
            },
            "type": "scattergeo"
           }
          ],
          "scattergl": [
           {
            "marker": {
             "colorbar": {
              "outlinewidth": 0,
              "ticks": ""
             }
            },
            "type": "scattergl"
           }
          ],
          "scattermap": [
           {
            "marker": {
             "colorbar": {
              "outlinewidth": 0,
              "ticks": ""
             }
            },
            "type": "scattermap"
           }
          ],
          "scattermapbox": [
           {
            "marker": {
             "colorbar": {
              "outlinewidth": 0,
              "ticks": ""
             }
            },
            "type": "scattermapbox"
           }
          ],
          "scatterpolar": [
           {
            "marker": {
             "colorbar": {
              "outlinewidth": 0,
              "ticks": ""
             }
            },
            "type": "scatterpolar"
           }
          ],
          "scatterpolargl": [
           {
            "marker": {
             "colorbar": {
              "outlinewidth": 0,
              "ticks": ""
             }
            },
            "type": "scatterpolargl"
           }
          ],
          "scatterternary": [
           {
            "marker": {
             "colorbar": {
              "outlinewidth": 0,
              "ticks": ""
             }
            },
            "type": "scatterternary"
           }
          ],
          "surface": [
           {
            "colorbar": {
             "outlinewidth": 0,
             "ticks": ""
            },
            "colorscale": [
             [
              0,
              "#0d0887"
             ],
             [
              0.1111111111111111,
              "#46039f"
             ],
             [
              0.2222222222222222,
              "#7201a8"
             ],
             [
              0.3333333333333333,
              "#9c179e"
             ],
             [
              0.4444444444444444,
              "#bd3786"
             ],
             [
              0.5555555555555556,
              "#d8576b"
             ],
             [
              0.6666666666666666,
              "#ed7953"
             ],
             [
              0.7777777777777778,
              "#fb9f3a"
             ],
             [
              0.8888888888888888,
              "#fdca26"
             ],
             [
              1,
              "#f0f921"
             ]
            ],
            "type": "surface"
           }
          ],
          "table": [
           {
            "cells": {
             "fill": {
              "color": "#EBF0F8"
             },
             "line": {
              "color": "white"
             }
            },
            "header": {
             "fill": {
              "color": "#C8D4E3"
             },
             "line": {
              "color": "white"
             }
            },
            "type": "table"
           }
          ]
         },
         "layout": {
          "annotationdefaults": {
           "arrowcolor": "#2a3f5f",
           "arrowhead": 0,
           "arrowwidth": 1
          },
          "autotypenumbers": "strict",
          "coloraxis": {
           "colorbar": {
            "outlinewidth": 0,
            "ticks": ""
           }
          },
          "colorscale": {
           "diverging": [
            [
             0,
             "#8e0152"
            ],
            [
             0.1,
             "#c51b7d"
            ],
            [
             0.2,
             "#de77ae"
            ],
            [
             0.3,
             "#f1b6da"
            ],
            [
             0.4,
             "#fde0ef"
            ],
            [
             0.5,
             "#f7f7f7"
            ],
            [
             0.6,
             "#e6f5d0"
            ],
            [
             0.7,
             "#b8e186"
            ],
            [
             0.8,
             "#7fbc41"
            ],
            [
             0.9,
             "#4d9221"
            ],
            [
             1,
             "#276419"
            ]
           ],
           "sequential": [
            [
             0,
             "#0d0887"
            ],
            [
             0.1111111111111111,
             "#46039f"
            ],
            [
             0.2222222222222222,
             "#7201a8"
            ],
            [
             0.3333333333333333,
             "#9c179e"
            ],
            [
             0.4444444444444444,
             "#bd3786"
            ],
            [
             0.5555555555555556,
             "#d8576b"
            ],
            [
             0.6666666666666666,
             "#ed7953"
            ],
            [
             0.7777777777777778,
             "#fb9f3a"
            ],
            [
             0.8888888888888888,
             "#fdca26"
            ],
            [
             1,
             "#f0f921"
            ]
           ],
           "sequentialminus": [
            [
             0,
             "#0d0887"
            ],
            [
             0.1111111111111111,
             "#46039f"
            ],
            [
             0.2222222222222222,
             "#7201a8"
            ],
            [
             0.3333333333333333,
             "#9c179e"
            ],
            [
             0.4444444444444444,
             "#bd3786"
            ],
            [
             0.5555555555555556,
             "#d8576b"
            ],
            [
             0.6666666666666666,
             "#ed7953"
            ],
            [
             0.7777777777777778,
             "#fb9f3a"
            ],
            [
             0.8888888888888888,
             "#fdca26"
            ],
            [
             1,
             "#f0f921"
            ]
           ]
          },
          "colorway": [
           "#636efa",
           "#EF553B",
           "#00cc96",
           "#ab63fa",
           "#FFA15A",
           "#19d3f3",
           "#FF6692",
           "#B6E880",
           "#FF97FF",
           "#FECB52"
          ],
          "font": {
           "color": "#2a3f5f"
          },
          "geo": {
           "bgcolor": "white",
           "lakecolor": "white",
           "landcolor": "#E5ECF6",
           "showlakes": true,
           "showland": true,
           "subunitcolor": "white"
          },
          "hoverlabel": {
           "align": "left"
          },
          "hovermode": "closest",
          "mapbox": {
           "style": "light"
          },
          "paper_bgcolor": "white",
          "plot_bgcolor": "#E5ECF6",
          "polar": {
           "angularaxis": {
            "gridcolor": "white",
            "linecolor": "white",
            "ticks": ""
           },
           "bgcolor": "#E5ECF6",
           "radialaxis": {
            "gridcolor": "white",
            "linecolor": "white",
            "ticks": ""
           }
          },
          "scene": {
           "xaxis": {
            "backgroundcolor": "#E5ECF6",
            "gridcolor": "white",
            "gridwidth": 2,
            "linecolor": "white",
            "showbackground": true,
            "ticks": "",
            "zerolinecolor": "white"
           },
           "yaxis": {
            "backgroundcolor": "#E5ECF6",
            "gridcolor": "white",
            "gridwidth": 2,
            "linecolor": "white",
            "showbackground": true,
            "ticks": "",
            "zerolinecolor": "white"
           },
           "zaxis": {
            "backgroundcolor": "#E5ECF6",
            "gridcolor": "white",
            "gridwidth": 2,
            "linecolor": "white",
            "showbackground": true,
            "ticks": "",
            "zerolinecolor": "white"
           }
          },
          "shapedefaults": {
           "line": {
            "color": "#2a3f5f"
           }
          },
          "ternary": {
           "aaxis": {
            "gridcolor": "white",
            "linecolor": "white",
            "ticks": ""
           },
           "baxis": {
            "gridcolor": "white",
            "linecolor": "white",
            "ticks": ""
           },
           "bgcolor": "#E5ECF6",
           "caxis": {
            "gridcolor": "white",
            "linecolor": "white",
            "ticks": ""
           }
          },
          "title": {
           "x": 0.05
          },
          "xaxis": {
           "automargin": true,
           "gridcolor": "white",
           "linecolor": "white",
           "ticks": "",
           "title": {
            "standoff": 15
           },
           "zerolinecolor": "white",
           "zerolinewidth": 2
          },
          "yaxis": {
           "automargin": true,
           "gridcolor": "white",
           "linecolor": "white",
           "ticks": "",
           "title": {
            "standoff": 15
           },
           "zerolinecolor": "white",
           "zerolinewidth": 2
          }
         }
        },
        "title": {
         "font": {
          "color": "black",
          "family": "Arial",
          "size": 18
         },
         "text": " ",
         "x": 0.5
        },
        "xaxis": {
         "anchor": "y",
         "domain": [
          0,
          1
         ],
         "gridcolor": "lightgrey",
         "showgrid": true,
         "tickfont": {
          "color": "black",
          "family": "Arial",
          "size": 7,
          "weight": "bold"
         },
         "title": {
          "font": {
           "color": "black",
           "family": "Arial",
           "size": 12
          },
          "text": " "
         },
         "zerolinecolor": "lightgrey"
        },
        "yaxis": {
         "anchor": "x",
         "automargin": true,
         "autorange": true,
         "domain": [
          0,
          1
         ],
         "linecolor": "black",
         "showline": true,
         "tickfont": {
          "color": "black",
          "family": "Arial",
          "size": 12,
          "weight": "bold"
         },
         "ticklen": 10,
         "ticksuffix": "   ",
         "title": {
          "text": ""
         }
        }
       }
      }
     },
     "metadata": {},
     "output_type": "display_data"
    }
   ],
   "source": [
    "categorias_buro_atrasos = credit_data_platinum.groupby(by=['calificacion_buro','sector_industrial']).agg(\n",
    "    total_atrasos = ('historial_pagos_atrasados','sum')\n",
    ").reset_index()\n",
    "fig = crear_barplot_personalizado(categorias_buro_atrasos, \n",
    "                                  x='calificacion_buro', \n",
    "                                  y='total_atrasos', \n",
    "                                  color='sector_industrial',\n",
    "                                  decimales ='%{y:.0f}',\n",
    "                                  titulo=' ')\n",
    "fig.show()"
   ]
  },
  {
   "cell_type": "markdown",
   "id": "23d0708a",
   "metadata": {},
   "source": [
    "Podemos observar lo siguiente:\n",
    "\n",
    "- La calificación \"sin calificación\" es la que presenta el menor historial de pagos atrasados.\n",
    "- Las calificaciones A, B y C son las que muestran un mayor historial de pagos retrasados.\n",
    "- Los sectores industriales a los que pertenecen los clientes con más historial de pagos atrasados son Retail, Construcción y Manufactura.\n",
    "\n",
    "Veamos ahora ¿Cuál es la calificación de buró que presenta el mayor número de incumplimientos y el historial más extenso de pagos atrasados?\n",
    "\n"
   ]
  },
  {
   "cell_type": "code",
   "execution_count": 32,
   "id": "62ec15af",
   "metadata": {},
   "outputs": [],
   "source": [
    "calificaciones_incumplimientos = credit_data_platinum.groupby(by=['calificacion_buro','default_12m']).agg(\n",
    "    cantidad_default_12m= ('default_12m','count'),\n",
    "    total_historial_pagos_atrasados = ('historial_pagos_atrasados','sum')\n",
    ").reset_index()"
   ]
  },
  {
   "cell_type": "code",
   "execution_count": 33,
   "id": "415c80a1",
   "metadata": {},
   "outputs": [],
   "source": [
    "def crear_barplot_agrupado(df, x, y, color, decimales, modo='group', titulo=''):\n",
    "    \"\"\"\n",
    "    Gráfico de barras agrupadas con Plotly (asegura discrete color + agrupación).\n",
    "    - df: DataFrame original (puede estar desagregado)\n",
    "    - x: categoría en eje X (ej. 'calificacion_buro')\n",
    "    - y: valor numérico a sumar/mostrar (ej. 'cantidad_incumplimientos')\n",
    "    - color: variable para colorear (ej. 'default_12m', se convertirá a string)\n",
    "    - decimales: formato de texto sobre barras, p.ej. '.0f'\n",
    "    - modo: 'group' o 'stack'\n",
    "    - titulo: título del gráfico\n",
    "    \"\"\"\n",
    "    df_plot = df.copy()\n",
    "    df_plot = df_plot.groupby([x, color], as_index=False)[y].sum()\n",
    "\n",
    "    df_plot[color] = df_plot[color].astype(str)\n",
    "    unique_vals = sorted(df_plot[color].unique())\n",
    "    color_map = None\n",
    "    if set(unique_vals).issubset({'0', '1'}):\n",
    "        color_map = {'0': '#1f77b4', '1': '#ff7f0e'}  \n",
    "\n",
    "    # 4) Crear el barplot\n",
    "    fig = px.bar(\n",
    "        df_plot,\n",
    "        x=x,\n",
    "        y=y,\n",
    "        color=color,\n",
    "        text=y,\n",
    "        labels={x: '', y: y},\n",
    "        color_discrete_map=color_map  \n",
    "    )\n",
    "\n",
    "    # Personalizaciones\n",
    "    fig.update_traces(\n",
    "        textposition='outside',\n",
    "        texttemplate=decimales,\n",
    "        textfont=dict(family='Arial', size=12, color='black')\n",
    "    )\n",
    "\n",
    "    fig.update_layout(\n",
    "        barmode=modo,               \n",
    "        bargap=0.15,\n",
    "        bargroupgap=0.08,\n",
    "        plot_bgcolor='white',\n",
    "        paper_bgcolor='white',\n",
    "        title=titulo,\n",
    "        title_x=0.5,\n",
    "        title_font=dict(size=16, family='Arial'),\n",
    "        xaxis=dict(\n",
    "            tickfont=dict(size=10, family='Arial'),\n",
    "            showgrid=False\n",
    "        ),\n",
    "        yaxis=dict(\n",
    "            tickfont=dict(size=12, family='Arial'),\n",
    "            showline=True,\n",
    "            linecolor='black',\n",
    "        ),\n",
    "        legend=dict(\n",
    "            orientation='v',   \n",
    "            x=1.02,\n",
    "            y=1,\n",
    "            bordercolor='rgba(0,0,0,0)'\n",
    "        ),\n",
    "        margin=dict(l=60, r=140, t=80, b=60)\n",
    "    )\n",
    "\n",
    "    return fig\n",
    "\n"
   ]
  },
  {
   "cell_type": "code",
   "execution_count": 34,
   "id": "9303d188",
   "metadata": {},
   "outputs": [
    {
     "data": {
      "application/vnd.plotly.v1+json": {
       "config": {
        "plotlyServerURL": "https://plot.ly"
       },
       "data": [
        {
         "hovertemplate": "default_12m=0<br>=%{x}<br>cantidad_default_12m=%{text}<extra></extra>",
         "legendgroup": "0",
         "marker": {
          "color": "#1f77b4",
          "pattern": {
           "shape": ""
          }
         },
         "name": "0",
         "orientation": "v",
         "showlegend": true,
         "text": {
          "bdata": "AAAAAABAe0AAAAAAAOB+QAAAAAAAIGlAAAAAAACAVEAAAAAAAMBZQA==",
          "dtype": "f8"
         },
         "textfont": {
          "color": "black",
          "family": "Arial",
          "size": 12
         },
         "textposition": "outside",
         "texttemplate": "%{y:.0f}",
         "type": "bar",
         "x": [
          "A",
          "B",
          "C",
          "D",
          "sin_calificacion"
         ],
         "xaxis": "x",
         "y": {
          "bdata": "tAHuAckAUgBnAA==",
          "dtype": "i2"
         },
         "yaxis": "y"
        },
        {
         "hovertemplate": "default_12m=1<br>=%{x}<br>cantidad_default_12m=%{text}<extra></extra>",
         "legendgroup": "1",
         "marker": {
          "color": "#ff7f0e",
          "pattern": {
           "shape": ""
          }
         },
         "name": "1",
         "orientation": "v",
         "showlegend": true,
         "text": {
          "bdata": "AAAAAAAAIEAAAAAAAAAwQAAAAAAAwFJAAAAAAACATkAAAAAAAAAwQA==",
          "dtype": "f8"
         },
         "textfont": {
          "color": "black",
          "family": "Arial",
          "size": 12
         },
         "textposition": "outside",
         "texttemplate": "%{y:.0f}",
         "type": "bar",
         "x": [
          "A",
          "B",
          "C",
          "D",
          "sin_calificacion"
         ],
         "xaxis": "x",
         "y": {
          "bdata": "CBBLPRA=",
          "dtype": "i1"
         },
         "yaxis": "y"
        }
       ],
       "layout": {
        "bargap": 0.15,
        "bargroupgap": 0.08,
        "barmode": "group",
        "legend": {
         "bordercolor": "rgba(0,0,0,0)",
         "orientation": "v",
         "title": {
          "text": "default_12m"
         },
         "tracegroupgap": 0,
         "x": 1.02,
         "y": 1
        },
        "margin": {
         "b": 60,
         "l": 60,
         "r": 140,
         "t": 80
        },
        "paper_bgcolor": "white",
        "plot_bgcolor": "white",
        "template": {
         "data": {
          "bar": [
           {
            "error_x": {
             "color": "#2a3f5f"
            },
            "error_y": {
             "color": "#2a3f5f"
            },
            "marker": {
             "line": {
              "color": "#E5ECF6",
              "width": 0.5
             },
             "pattern": {
              "fillmode": "overlay",
              "size": 10,
              "solidity": 0.2
             }
            },
            "type": "bar"
           }
          ],
          "barpolar": [
           {
            "marker": {
             "line": {
              "color": "#E5ECF6",
              "width": 0.5
             },
             "pattern": {
              "fillmode": "overlay",
              "size": 10,
              "solidity": 0.2
             }
            },
            "type": "barpolar"
           }
          ],
          "carpet": [
           {
            "aaxis": {
             "endlinecolor": "#2a3f5f",
             "gridcolor": "white",
             "linecolor": "white",
             "minorgridcolor": "white",
             "startlinecolor": "#2a3f5f"
            },
            "baxis": {
             "endlinecolor": "#2a3f5f",
             "gridcolor": "white",
             "linecolor": "white",
             "minorgridcolor": "white",
             "startlinecolor": "#2a3f5f"
            },
            "type": "carpet"
           }
          ],
          "choropleth": [
           {
            "colorbar": {
             "outlinewidth": 0,
             "ticks": ""
            },
            "type": "choropleth"
           }
          ],
          "contour": [
           {
            "colorbar": {
             "outlinewidth": 0,
             "ticks": ""
            },
            "colorscale": [
             [
              0,
              "#0d0887"
             ],
             [
              0.1111111111111111,
              "#46039f"
             ],
             [
              0.2222222222222222,
              "#7201a8"
             ],
             [
              0.3333333333333333,
              "#9c179e"
             ],
             [
              0.4444444444444444,
              "#bd3786"
             ],
             [
              0.5555555555555556,
              "#d8576b"
             ],
             [
              0.6666666666666666,
              "#ed7953"
             ],
             [
              0.7777777777777778,
              "#fb9f3a"
             ],
             [
              0.8888888888888888,
              "#fdca26"
             ],
             [
              1,
              "#f0f921"
             ]
            ],
            "type": "contour"
           }
          ],
          "contourcarpet": [
           {
            "colorbar": {
             "outlinewidth": 0,
             "ticks": ""
            },
            "type": "contourcarpet"
           }
          ],
          "heatmap": [
           {
            "colorbar": {
             "outlinewidth": 0,
             "ticks": ""
            },
            "colorscale": [
             [
              0,
              "#0d0887"
             ],
             [
              0.1111111111111111,
              "#46039f"
             ],
             [
              0.2222222222222222,
              "#7201a8"
             ],
             [
              0.3333333333333333,
              "#9c179e"
             ],
             [
              0.4444444444444444,
              "#bd3786"
             ],
             [
              0.5555555555555556,
              "#d8576b"
             ],
             [
              0.6666666666666666,
              "#ed7953"
             ],
             [
              0.7777777777777778,
              "#fb9f3a"
             ],
             [
              0.8888888888888888,
              "#fdca26"
             ],
             [
              1,
              "#f0f921"
             ]
            ],
            "type": "heatmap"
           }
          ],
          "histogram": [
           {
            "marker": {
             "pattern": {
              "fillmode": "overlay",
              "size": 10,
              "solidity": 0.2
             }
            },
            "type": "histogram"
           }
          ],
          "histogram2d": [
           {
            "colorbar": {
             "outlinewidth": 0,
             "ticks": ""
            },
            "colorscale": [
             [
              0,
              "#0d0887"
             ],
             [
              0.1111111111111111,
              "#46039f"
             ],
             [
              0.2222222222222222,
              "#7201a8"
             ],
             [
              0.3333333333333333,
              "#9c179e"
             ],
             [
              0.4444444444444444,
              "#bd3786"
             ],
             [
              0.5555555555555556,
              "#d8576b"
             ],
             [
              0.6666666666666666,
              "#ed7953"
             ],
             [
              0.7777777777777778,
              "#fb9f3a"
             ],
             [
              0.8888888888888888,
              "#fdca26"
             ],
             [
              1,
              "#f0f921"
             ]
            ],
            "type": "histogram2d"
           }
          ],
          "histogram2dcontour": [
           {
            "colorbar": {
             "outlinewidth": 0,
             "ticks": ""
            },
            "colorscale": [
             [
              0,
              "#0d0887"
             ],
             [
              0.1111111111111111,
              "#46039f"
             ],
             [
              0.2222222222222222,
              "#7201a8"
             ],
             [
              0.3333333333333333,
              "#9c179e"
             ],
             [
              0.4444444444444444,
              "#bd3786"
             ],
             [
              0.5555555555555556,
              "#d8576b"
             ],
             [
              0.6666666666666666,
              "#ed7953"
             ],
             [
              0.7777777777777778,
              "#fb9f3a"
             ],
             [
              0.8888888888888888,
              "#fdca26"
             ],
             [
              1,
              "#f0f921"
             ]
            ],
            "type": "histogram2dcontour"
           }
          ],
          "mesh3d": [
           {
            "colorbar": {
             "outlinewidth": 0,
             "ticks": ""
            },
            "type": "mesh3d"
           }
          ],
          "parcoords": [
           {
            "line": {
             "colorbar": {
              "outlinewidth": 0,
              "ticks": ""
             }
            },
            "type": "parcoords"
           }
          ],
          "pie": [
           {
            "automargin": true,
            "type": "pie"
           }
          ],
          "scatter": [
           {
            "fillpattern": {
             "fillmode": "overlay",
             "size": 10,
             "solidity": 0.2
            },
            "type": "scatter"
           }
          ],
          "scatter3d": [
           {
            "line": {
             "colorbar": {
              "outlinewidth": 0,
              "ticks": ""
             }
            },
            "marker": {
             "colorbar": {
              "outlinewidth": 0,
              "ticks": ""
             }
            },
            "type": "scatter3d"
           }
          ],
          "scattercarpet": [
           {
            "marker": {
             "colorbar": {
              "outlinewidth": 0,
              "ticks": ""
             }
            },
            "type": "scattercarpet"
           }
          ],
          "scattergeo": [
           {
            "marker": {
             "colorbar": {
              "outlinewidth": 0,
              "ticks": ""
             }
            },
            "type": "scattergeo"
           }
          ],
          "scattergl": [
           {
            "marker": {
             "colorbar": {
              "outlinewidth": 0,
              "ticks": ""
             }
            },
            "type": "scattergl"
           }
          ],
          "scattermap": [
           {
            "marker": {
             "colorbar": {
              "outlinewidth": 0,
              "ticks": ""
             }
            },
            "type": "scattermap"
           }
          ],
          "scattermapbox": [
           {
            "marker": {
             "colorbar": {
              "outlinewidth": 0,
              "ticks": ""
             }
            },
            "type": "scattermapbox"
           }
          ],
          "scatterpolar": [
           {
            "marker": {
             "colorbar": {
              "outlinewidth": 0,
              "ticks": ""
             }
            },
            "type": "scatterpolar"
           }
          ],
          "scatterpolargl": [
           {
            "marker": {
             "colorbar": {
              "outlinewidth": 0,
              "ticks": ""
             }
            },
            "type": "scatterpolargl"
           }
          ],
          "scatterternary": [
           {
            "marker": {
             "colorbar": {
              "outlinewidth": 0,
              "ticks": ""
             }
            },
            "type": "scatterternary"
           }
          ],
          "surface": [
           {
            "colorbar": {
             "outlinewidth": 0,
             "ticks": ""
            },
            "colorscale": [
             [
              0,
              "#0d0887"
             ],
             [
              0.1111111111111111,
              "#46039f"
             ],
             [
              0.2222222222222222,
              "#7201a8"
             ],
             [
              0.3333333333333333,
              "#9c179e"
             ],
             [
              0.4444444444444444,
              "#bd3786"
             ],
             [
              0.5555555555555556,
              "#d8576b"
             ],
             [
              0.6666666666666666,
              "#ed7953"
             ],
             [
              0.7777777777777778,
              "#fb9f3a"
             ],
             [
              0.8888888888888888,
              "#fdca26"
             ],
             [
              1,
              "#f0f921"
             ]
            ],
            "type": "surface"
           }
          ],
          "table": [
           {
            "cells": {
             "fill": {
              "color": "#EBF0F8"
             },
             "line": {
              "color": "white"
             }
            },
            "header": {
             "fill": {
              "color": "#C8D4E3"
             },
             "line": {
              "color": "white"
             }
            },
            "type": "table"
           }
          ]
         },
         "layout": {
          "annotationdefaults": {
           "arrowcolor": "#2a3f5f",
           "arrowhead": 0,
           "arrowwidth": 1
          },
          "autotypenumbers": "strict",
          "coloraxis": {
           "colorbar": {
            "outlinewidth": 0,
            "ticks": ""
           }
          },
          "colorscale": {
           "diverging": [
            [
             0,
             "#8e0152"
            ],
            [
             0.1,
             "#c51b7d"
            ],
            [
             0.2,
             "#de77ae"
            ],
            [
             0.3,
             "#f1b6da"
            ],
            [
             0.4,
             "#fde0ef"
            ],
            [
             0.5,
             "#f7f7f7"
            ],
            [
             0.6,
             "#e6f5d0"
            ],
            [
             0.7,
             "#b8e186"
            ],
            [
             0.8,
             "#7fbc41"
            ],
            [
             0.9,
             "#4d9221"
            ],
            [
             1,
             "#276419"
            ]
           ],
           "sequential": [
            [
             0,
             "#0d0887"
            ],
            [
             0.1111111111111111,
             "#46039f"
            ],
            [
             0.2222222222222222,
             "#7201a8"
            ],
            [
             0.3333333333333333,
             "#9c179e"
            ],
            [
             0.4444444444444444,
             "#bd3786"
            ],
            [
             0.5555555555555556,
             "#d8576b"
            ],
            [
             0.6666666666666666,
             "#ed7953"
            ],
            [
             0.7777777777777778,
             "#fb9f3a"
            ],
            [
             0.8888888888888888,
             "#fdca26"
            ],
            [
             1,
             "#f0f921"
            ]
           ],
           "sequentialminus": [
            [
             0,
             "#0d0887"
            ],
            [
             0.1111111111111111,
             "#46039f"
            ],
            [
             0.2222222222222222,
             "#7201a8"
            ],
            [
             0.3333333333333333,
             "#9c179e"
            ],
            [
             0.4444444444444444,
             "#bd3786"
            ],
            [
             0.5555555555555556,
             "#d8576b"
            ],
            [
             0.6666666666666666,
             "#ed7953"
            ],
            [
             0.7777777777777778,
             "#fb9f3a"
            ],
            [
             0.8888888888888888,
             "#fdca26"
            ],
            [
             1,
             "#f0f921"
            ]
           ]
          },
          "colorway": [
           "#636efa",
           "#EF553B",
           "#00cc96",
           "#ab63fa",
           "#FFA15A",
           "#19d3f3",
           "#FF6692",
           "#B6E880",
           "#FF97FF",
           "#FECB52"
          ],
          "font": {
           "color": "#2a3f5f"
          },
          "geo": {
           "bgcolor": "white",
           "lakecolor": "white",
           "landcolor": "#E5ECF6",
           "showlakes": true,
           "showland": true,
           "subunitcolor": "white"
          },
          "hoverlabel": {
           "align": "left"
          },
          "hovermode": "closest",
          "mapbox": {
           "style": "light"
          },
          "paper_bgcolor": "white",
          "plot_bgcolor": "#E5ECF6",
          "polar": {
           "angularaxis": {
            "gridcolor": "white",
            "linecolor": "white",
            "ticks": ""
           },
           "bgcolor": "#E5ECF6",
           "radialaxis": {
            "gridcolor": "white",
            "linecolor": "white",
            "ticks": ""
           }
          },
          "scene": {
           "xaxis": {
            "backgroundcolor": "#E5ECF6",
            "gridcolor": "white",
            "gridwidth": 2,
            "linecolor": "white",
            "showbackground": true,
            "ticks": "",
            "zerolinecolor": "white"
           },
           "yaxis": {
            "backgroundcolor": "#E5ECF6",
            "gridcolor": "white",
            "gridwidth": 2,
            "linecolor": "white",
            "showbackground": true,
            "ticks": "",
            "zerolinecolor": "white"
           },
           "zaxis": {
            "backgroundcolor": "#E5ECF6",
            "gridcolor": "white",
            "gridwidth": 2,
            "linecolor": "white",
            "showbackground": true,
            "ticks": "",
            "zerolinecolor": "white"
           }
          },
          "shapedefaults": {
           "line": {
            "color": "#2a3f5f"
           }
          },
          "ternary": {
           "aaxis": {
            "gridcolor": "white",
            "linecolor": "white",
            "ticks": ""
           },
           "baxis": {
            "gridcolor": "white",
            "linecolor": "white",
            "ticks": ""
           },
           "bgcolor": "#E5ECF6",
           "caxis": {
            "gridcolor": "white",
            "linecolor": "white",
            "ticks": ""
           }
          },
          "title": {
           "x": 0.05
          },
          "xaxis": {
           "automargin": true,
           "gridcolor": "white",
           "linecolor": "white",
           "ticks": "",
           "title": {
            "standoff": 15
           },
           "zerolinecolor": "white",
           "zerolinewidth": 2
          },
          "yaxis": {
           "automargin": true,
           "gridcolor": "white",
           "linecolor": "white",
           "ticks": "",
           "title": {
            "standoff": 15
           },
           "zerolinecolor": "white",
           "zerolinewidth": 2
          }
         }
        },
        "title": {
         "font": {
          "family": "Arial",
          "size": 16
         },
         "text": "Cantidad de cumplimientos e Incumplimientos por Calificación de Buro",
         "x": 0.5
        },
        "xaxis": {
         "anchor": "y",
         "domain": [
          0,
          1
         ],
         "showgrid": false,
         "tickfont": {
          "family": "Arial",
          "size": 10
         },
         "title": {
          "text": ""
         }
        },
        "yaxis": {
         "anchor": "x",
         "domain": [
          0,
          1
         ],
         "linecolor": "black",
         "showline": true,
         "tickfont": {
          "family": "Arial",
          "size": 12
         },
         "title": {
          "text": "cantidad_default_12m"
         }
        }
       }
      }
     },
     "metadata": {},
     "output_type": "display_data"
    }
   ],
   "source": [
    "fig = crear_barplot_agrupado(\n",
    "    df=calificaciones_incumplimientos,\n",
    "    x=\"calificacion_buro\",\n",
    "    y=\"cantidad_default_12m\",\n",
    "    color=\"default_12m\",\n",
    "    decimales='%{y:.0f}',\n",
    "    titulo=\"Cantidad de cumplimientos e Incumplimientos por Calificación de Buro\"\n",
    ")\n",
    "\n",
    "fig.show()\n"
   ]
  },
  {
   "cell_type": "markdown",
   "id": "300ef250",
   "metadata": {},
   "source": [
    "Podemos observar que:\n",
    "\n",
    "- La calificación A es donde hay menos imcumplimientos y un buen número de cumplimientos.\n",
    "- La calificación B es la segunda con más cumplimientos y menos incumplimientos."
   ]
  },
  {
   "cell_type": "markdown",
   "id": "32f802bb",
   "metadata": {},
   "source": [
    "# Feature engineering"
   ]
  },
  {
   "cell_type": "markdown",
   "id": "e9ad77f3",
   "metadata": {},
   "source": [
    "Dado que ya hemos abordado algunas de las preguntas planteadas en el análisis exploratorio, es momento de codificar las variables categóricas, teniendo en cuenta su naturaleza.\n",
    "\n",
    "- `Variables Ordinales`: Estas son las variables categóricas que poseen un orden intrínseco o jerárquico. Su codificación se realiza manualmente, asignando valores que reflejan este orden.\n",
    "\n",
    "- `Variables Nominales`: Estas variables categóricas no tienen un orden o jerarquía implícita, lo que significa que no se pueden codificar manualmente. Para ello, utilizaremos la codificación one-hot encoder, que convierte las categorías en variables dummy. La ventaja de este método es que garantiza que cada vector de características sea ortogonal a los demás, lo que implica que el producto punto entre dos vectores de características es cero. Además, esta codificación asegura que la norma de estos vectores de características sea igual a 1. Estas dos propiedades de la codificación garantizan que no se creen relaciones internas entre las características.\n"
   ]
  },
  {
   "cell_type": "code",
   "execution_count": 35,
   "id": "eca8d3b3",
   "metadata": {},
   "outputs": [],
   "source": [
    "dicc_map_calificacion_buro={\n",
    "    'sin_calificacion':0,\n",
    "    'A':1,\n",
    "    'B':2,\n",
    "    'C':3,\n",
    "    'D':4\n",
    "}\n",
    "credit_data_platinum['calificacion_buro'] = credit_data_platinum['calificacion_buro'].map(dicc_map_calificacion_buro)"
   ]
  },
  {
   "cell_type": "markdown",
   "id": "bd80d06b",
   "metadata": {},
   "source": [
    "Ahora, codifiquemos los sectores industriales."
   ]
  },
  {
   "cell_type": "code",
   "execution_count": 36,
   "id": "8f07ad1d",
   "metadata": {},
   "outputs": [
    {
     "data": {
      "text/html": [
       "<div>\n",
       "<style scoped>\n",
       "    .dataframe tbody tr th:only-of-type {\n",
       "        vertical-align: middle;\n",
       "    }\n",
       "\n",
       "    .dataframe tbody tr th {\n",
       "        vertical-align: top;\n",
       "    }\n",
       "\n",
       "    .dataframe thead th {\n",
       "        text-align: right;\n",
       "    }\n",
       "</style>\n",
       "<table border=\"1\" class=\"dataframe\">\n",
       "  <thead>\n",
       "    <tr style=\"text-align: right;\">\n",
       "      <th></th>\n",
       "      <th>id_cliente</th>\n",
       "      <th>antiguedad_empresa_anos</th>\n",
       "      <th>ingresos_anuales_mxn</th>\n",
       "      <th>deuda_total_mxn</th>\n",
       "      <th>historial_pagos_atrasados</th>\n",
       "      <th>calificacion_buro</th>\n",
       "      <th>default_12m</th>\n",
       "      <th>monto_solicitado_mxn</th>\n",
       "      <th>Construcción</th>\n",
       "      <th>Manufactura</th>\n",
       "      <th>Retail</th>\n",
       "      <th>Servicios</th>\n",
       "      <th>Servicios Profesionales</th>\n",
       "      <th>T.I.</th>\n",
       "      <th>Tech</th>\n",
       "      <th>Tecnología</th>\n",
       "    </tr>\n",
       "  </thead>\n",
       "  <tbody>\n",
       "    <tr>\n",
       "      <th>0</th>\n",
       "      <td>COV-1000</td>\n",
       "      <td>9.50</td>\n",
       "      <td>5388966.19</td>\n",
       "      <td>4093290.34</td>\n",
       "      <td>1</td>\n",
       "      <td>4</td>\n",
       "      <td>0</td>\n",
       "      <td>1042088.49</td>\n",
       "      <td>0</td>\n",
       "      <td>1</td>\n",
       "      <td>0</td>\n",
       "      <td>0</td>\n",
       "      <td>0</td>\n",
       "      <td>0</td>\n",
       "      <td>0</td>\n",
       "      <td>0</td>\n",
       "    </tr>\n",
       "    <tr>\n",
       "      <th>1</th>\n",
       "      <td>COV-1001</td>\n",
       "      <td>6.90</td>\n",
       "      <td>806689.27</td>\n",
       "      <td>184032.16</td>\n",
       "      <td>3</td>\n",
       "      <td>3</td>\n",
       "      <td>0</td>\n",
       "      <td>658716.30</td>\n",
       "      <td>1</td>\n",
       "      <td>0</td>\n",
       "      <td>0</td>\n",
       "      <td>0</td>\n",
       "      <td>0</td>\n",
       "      <td>0</td>\n",
       "      <td>0</td>\n",
       "      <td>0</td>\n",
       "    </tr>\n",
       "    <tr>\n",
       "      <th>2</th>\n",
       "      <td>COV-1002</td>\n",
       "      <td>10.20</td>\n",
       "      <td>4721557.55</td>\n",
       "      <td>2875892.65</td>\n",
       "      <td>1</td>\n",
       "      <td>2</td>\n",
       "      <td>0</td>\n",
       "      <td>656435.67</td>\n",
       "      <td>0</td>\n",
       "      <td>0</td>\n",
       "      <td>0</td>\n",
       "      <td>0</td>\n",
       "      <td>1</td>\n",
       "      <td>0</td>\n",
       "      <td>0</td>\n",
       "      <td>0</td>\n",
       "    </tr>\n",
       "    <tr>\n",
       "      <th>3</th>\n",
       "      <td>COV-1003</td>\n",
       "      <td>15.80</td>\n",
       "      <td>400301.58</td>\n",
       "      <td>284881.54</td>\n",
       "      <td>1</td>\n",
       "      <td>2</td>\n",
       "      <td>0</td>\n",
       "      <td>289018.04</td>\n",
       "      <td>0</td>\n",
       "      <td>0</td>\n",
       "      <td>1</td>\n",
       "      <td>0</td>\n",
       "      <td>0</td>\n",
       "      <td>0</td>\n",
       "      <td>0</td>\n",
       "      <td>0</td>\n",
       "    </tr>\n",
       "    <tr>\n",
       "      <th>4</th>\n",
       "      <td>COV-1004</td>\n",
       "      <td>6.60</td>\n",
       "      <td>6110431.90</td>\n",
       "      <td>5935242.68</td>\n",
       "      <td>2</td>\n",
       "      <td>0</td>\n",
       "      <td>0</td>\n",
       "      <td>694186.35</td>\n",
       "      <td>0</td>\n",
       "      <td>0</td>\n",
       "      <td>1</td>\n",
       "      <td>0</td>\n",
       "      <td>0</td>\n",
       "      <td>0</td>\n",
       "      <td>0</td>\n",
       "      <td>0</td>\n",
       "    </tr>\n",
       "  </tbody>\n",
       "</table>\n",
       "</div>"
      ],
      "text/plain": [
       "  id_cliente  antiguedad_empresa_anos  ingresos_anuales_mxn  deuda_total_mxn  \\\n",
       "0   COV-1000                     9.50            5388966.19       4093290.34   \n",
       "1   COV-1001                     6.90             806689.27        184032.16   \n",
       "2   COV-1002                    10.20            4721557.55       2875892.65   \n",
       "3   COV-1003                    15.80             400301.58        284881.54   \n",
       "4   COV-1004                     6.60            6110431.90       5935242.68   \n",
       "\n",
       "   historial_pagos_atrasados  calificacion_buro  default_12m  \\\n",
       "0                          1                  4            0   \n",
       "1                          3                  3            0   \n",
       "2                          1                  2            0   \n",
       "3                          1                  2            0   \n",
       "4                          2                  0            0   \n",
       "\n",
       "   monto_solicitado_mxn  Construcción  Manufactura  Retail  Servicios  \\\n",
       "0            1042088.49             0            1       0          0   \n",
       "1             658716.30             1            0       0          0   \n",
       "2             656435.67             0            0       0          0   \n",
       "3             289018.04             0            0       1          0   \n",
       "4             694186.35             0            0       1          0   \n",
       "\n",
       "   Servicios Profesionales  T.I.  Tech  Tecnología  \n",
       "0                        0     0     0           0  \n",
       "1                        0     0     0           0  \n",
       "2                        1     0     0           0  \n",
       "3                        0     0     0           0  \n",
       "4                        0     0     0           0  "
      ]
     },
     "execution_count": 36,
     "metadata": {},
     "output_type": "execute_result"
    }
   ],
   "source": [
    "dummies = pd.get_dummies(credit_data_platinum['sector_industrial'], dtype='int8')\n",
    "credit_data_platinum = pd.concat([credit_data_platinum,dummies ],axis=1)\n",
    "credit_data_platinum = credit_data_platinum.drop(columns=['sector_industrial'],axis=1)\n",
    "credit_data_platinum.head()"
   ]
  },
  {
   "cell_type": "markdown",
   "id": "76503174",
   "metadata": {},
   "source": [
    "Perfecto, veamos ahora el mapa de calor"
   ]
  },
  {
   "cell_type": "code",
   "execution_count": 37,
   "id": "61a901b8",
   "metadata": {},
   "outputs": [
    {
     "data": {
      "image/png": "[encoded data removed]",
      "text/plain": [
       "<Figure size 800x600 with 2 Axes>"
      ]
     },
     "metadata": {},
     "output_type": "display_data"
    }
   ],
   "source": [
    "import matplotlib.pyplot as plt\n",
    "import seaborn as sns\n",
    "plt.figure(figsize=(8, 6))  \n",
    "sns.heatmap(\n",
    "    credit_data_platinum.select_dtypes(include=['number']).corr(),\n",
    "    annot=True,\n",
    "    fmt=\".1f\",         # Un decimal en las anotaciones\n",
    "    cmap='RdYlGn',\n",
    "    cbar=True \n",
    ")\n",
    "plt.show()"
   ]
  },
  {
   "cell_type": "markdown",
   "id": "a1bc4907",
   "metadata": {},
   "source": [
    "ok. Hay alguna variables muy correlacionadas entre sí. hasta el momento no hay una correción fuerte con nuestra variable objetivo `dfaul_12m`. Agreguemos algunas otra variables."
   ]
  },
  {
   "cell_type": "code",
   "execution_count": 38,
   "id": "53482909",
   "metadata": {},
   "outputs": [
    {
     "data": {
      "text/html": [
       "<div>\n",
       "<style scoped>\n",
       "    .dataframe tbody tr th:only-of-type {\n",
       "        vertical-align: middle;\n",
       "    }\n",
       "\n",
       "    .dataframe tbody tr th {\n",
       "        vertical-align: top;\n",
       "    }\n",
       "\n",
       "    .dataframe thead th {\n",
       "        text-align: right;\n",
       "    }\n",
       "</style>\n",
       "<table border=\"1\" class=\"dataframe\">\n",
       "  <thead>\n",
       "    <tr style=\"text-align: right;\">\n",
       "      <th></th>\n",
       "      <th>id_cliente</th>\n",
       "      <th>antiguedad_empresa_anos</th>\n",
       "      <th>ingresos_anuales_mxn</th>\n",
       "      <th>deuda_total_mxn</th>\n",
       "      <th>historial_pagos_atrasados</th>\n",
       "      <th>calificacion_buro</th>\n",
       "      <th>default_12m</th>\n",
       "      <th>monto_solicitado_mxn</th>\n",
       "      <th>Construcción</th>\n",
       "      <th>Manufactura</th>\n",
       "      <th>...</th>\n",
       "      <th>Servicios</th>\n",
       "      <th>Servicios Profesionales</th>\n",
       "      <th>T.I.</th>\n",
       "      <th>Tech</th>\n",
       "      <th>Tecnología</th>\n",
       "      <th>ratio_solicitud_ingresos</th>\n",
       "      <th>ratio_deuda_ingresos</th>\n",
       "      <th>carga_total_ingresos</th>\n",
       "      <th>flag_ingresos_disponibles</th>\n",
       "      <th>flag_antiguedad</th>\n",
       "    </tr>\n",
       "  </thead>\n",
       "  <tbody>\n",
       "    <tr>\n",
       "      <th>0</th>\n",
       "      <td>COV-1000</td>\n",
       "      <td>9.50</td>\n",
       "      <td>5388966.19</td>\n",
       "      <td>4093290.34</td>\n",
       "      <td>1</td>\n",
       "      <td>4</td>\n",
       "      <td>0</td>\n",
       "      <td>1042088.49</td>\n",
       "      <td>0</td>\n",
       "      <td>1</td>\n",
       "      <td>...</td>\n",
       "      <td>0</td>\n",
       "      <td>0</td>\n",
       "      <td>0</td>\n",
       "      <td>0</td>\n",
       "      <td>0</td>\n",
       "      <td>0.19</td>\n",
       "      <td>0.76</td>\n",
       "      <td>0.95</td>\n",
       "      <td>1</td>\n",
       "      <td>1</td>\n",
       "    </tr>\n",
       "    <tr>\n",
       "      <th>1</th>\n",
       "      <td>COV-1001</td>\n",
       "      <td>6.90</td>\n",
       "      <td>806689.27</td>\n",
       "      <td>184032.16</td>\n",
       "      <td>3</td>\n",
       "      <td>3</td>\n",
       "      <td>0</td>\n",
       "      <td>658716.30</td>\n",
       "      <td>1</td>\n",
       "      <td>0</td>\n",
       "      <td>...</td>\n",
       "      <td>0</td>\n",
       "      <td>0</td>\n",
       "      <td>0</td>\n",
       "      <td>0</td>\n",
       "      <td>0</td>\n",
       "      <td>0.82</td>\n",
       "      <td>0.23</td>\n",
       "      <td>1.04</td>\n",
       "      <td>1</td>\n",
       "      <td>1</td>\n",
       "    </tr>\n",
       "    <tr>\n",
       "      <th>2</th>\n",
       "      <td>COV-1002</td>\n",
       "      <td>10.20</td>\n",
       "      <td>4721557.55</td>\n",
       "      <td>2875892.65</td>\n",
       "      <td>1</td>\n",
       "      <td>2</td>\n",
       "      <td>0</td>\n",
       "      <td>656435.67</td>\n",
       "      <td>0</td>\n",
       "      <td>0</td>\n",
       "      <td>...</td>\n",
       "      <td>0</td>\n",
       "      <td>1</td>\n",
       "      <td>0</td>\n",
       "      <td>0</td>\n",
       "      <td>0</td>\n",
       "      <td>0.14</td>\n",
       "      <td>0.61</td>\n",
       "      <td>0.75</td>\n",
       "      <td>1</td>\n",
       "      <td>1</td>\n",
       "    </tr>\n",
       "    <tr>\n",
       "      <th>3</th>\n",
       "      <td>COV-1003</td>\n",
       "      <td>15.80</td>\n",
       "      <td>400301.58</td>\n",
       "      <td>284881.54</td>\n",
       "      <td>1</td>\n",
       "      <td>2</td>\n",
       "      <td>0</td>\n",
       "      <td>289018.04</td>\n",
       "      <td>0</td>\n",
       "      <td>0</td>\n",
       "      <td>...</td>\n",
       "      <td>0</td>\n",
       "      <td>0</td>\n",
       "      <td>0</td>\n",
       "      <td>0</td>\n",
       "      <td>0</td>\n",
       "      <td>0.72</td>\n",
       "      <td>0.71</td>\n",
       "      <td>1.43</td>\n",
       "      <td>1</td>\n",
       "      <td>1</td>\n",
       "    </tr>\n",
       "    <tr>\n",
       "      <th>4</th>\n",
       "      <td>COV-1004</td>\n",
       "      <td>6.60</td>\n",
       "      <td>6110431.90</td>\n",
       "      <td>5935242.68</td>\n",
       "      <td>2</td>\n",
       "      <td>0</td>\n",
       "      <td>0</td>\n",
       "      <td>694186.35</td>\n",
       "      <td>0</td>\n",
       "      <td>0</td>\n",
       "      <td>...</td>\n",
       "      <td>0</td>\n",
       "      <td>0</td>\n",
       "      <td>0</td>\n",
       "      <td>0</td>\n",
       "      <td>0</td>\n",
       "      <td>0.11</td>\n",
       "      <td>0.97</td>\n",
       "      <td>1.08</td>\n",
       "      <td>1</td>\n",
       "      <td>1</td>\n",
       "    </tr>\n",
       "  </tbody>\n",
       "</table>\n",
       "<p>5 rows × 21 columns</p>\n",
       "</div>"
      ],
      "text/plain": [
       "  id_cliente  antiguedad_empresa_anos  ingresos_anuales_mxn  deuda_total_mxn  \\\n",
       "0   COV-1000                     9.50            5388966.19       4093290.34   \n",
       "1   COV-1001                     6.90             806689.27        184032.16   \n",
       "2   COV-1002                    10.20            4721557.55       2875892.65   \n",
       "3   COV-1003                    15.80             400301.58        284881.54   \n",
       "4   COV-1004                     6.60            6110431.90       5935242.68   \n",
       "\n",
       "   historial_pagos_atrasados  calificacion_buro  default_12m  \\\n",
       "0                          1                  4            0   \n",
       "1                          3                  3            0   \n",
       "2                          1                  2            0   \n",
       "3                          1                  2            0   \n",
       "4                          2                  0            0   \n",
       "\n",
       "   monto_solicitado_mxn  Construcción  Manufactura  ...  Servicios  \\\n",
       "0            1042088.49             0            1  ...          0   \n",
       "1             658716.30             1            0  ...          0   \n",
       "2             656435.67             0            0  ...          0   \n",
       "3             289018.04             0            0  ...          0   \n",
       "4             694186.35             0            0  ...          0   \n",
       "\n",
       "   Servicios Profesionales  T.I.  Tech  Tecnología  ratio_solicitud_ingresos  \\\n",
       "0                        0     0     0           0                      0.19   \n",
       "1                        0     0     0           0                      0.82   \n",
       "2                        1     0     0           0                      0.14   \n",
       "3                        0     0     0           0                      0.72   \n",
       "4                        0     0     0           0                      0.11   \n",
       "\n",
       "   ratio_deuda_ingresos  carga_total_ingresos  flag_ingresos_disponibles  \\\n",
       "0                  0.76                  0.95                          1   \n",
       "1                  0.23                  1.04                          1   \n",
       "2                  0.61                  0.75                          1   \n",
       "3                  0.71                  1.43                          1   \n",
       "4                  0.97                  1.08                          1   \n",
       "\n",
       "   flag_antiguedad  \n",
       "0                1  \n",
       "1                1  \n",
       "2                1  \n",
       "3                1  \n",
       "4                1  \n",
       "\n",
       "[5 rows x 21 columns]"
      ]
     },
     "execution_count": 38,
     "metadata": {},
     "output_type": "execute_result"
    }
   ],
   "source": [
    "credit_data_platinum[\"ratio_solicitud_ingresos\"] = credit_data_platinum[\"monto_solicitado_mxn\"] / credit_data_platinum[\"ingresos_anuales_mxn\"]\n",
    "credit_data_platinum[\"ratio_deuda_ingresos\"] = credit_data_platinum[\"deuda_total_mxn\"] / credit_data_platinum[\"ingresos_anuales_mxn\"]\n",
    "credit_data_platinum[\"carga_total_ingresos\"] = (credit_data_platinum[\"deuda_total_mxn\"] + credit_data_platinum[\"monto_solicitado_mxn\"]) / credit_data_platinum[\"ingresos_anuales_mxn\"]\n",
    "credit_data_platinum[\"flag_ingresos_disponibles\"] = credit_data_platinum[\"ingresos_anuales_mxn\"].notna().astype(int)\n",
    "credit_data_platinum[\"flag_antiguedad\"] = credit_data_platinum[\"antiguedad_empresa_anos\"].notna().astype(int)\n",
    "\n",
    "credit_data_platinum.head()"
   ]
  },
  {
   "cell_type": "code",
   "execution_count": 39,
   "id": "2879c90c",
   "metadata": {},
   "outputs": [
    {
     "data": {
      "image/png": "[encoded data removed]",
      "text/plain": [
       "<Figure size 800x600 with 2 Axes>"
      ]
     },
     "metadata": {},
     "output_type": "display_data"
    }
   ],
   "source": [
    "plt.figure(figsize=(8, 6))  \n",
    "sns.heatmap(\n",
    "    credit_data_platinum.select_dtypes(include=['number']).corr(),\n",
    "    annot=True,\n",
    "    fmt=\".1f\",         # Un decimal en las anotaciones\n",
    "    cmap='RdYlGn',\n",
    "    cbar=True \n",
    ")\n",
    "plt.show()"
   ]
  },
  {
   "cell_type": "markdown",
   "id": "d47c015a",
   "metadata": {},
   "source": [
    "# Escalado de datos"
   ]
  },
  {
   "cell_type": "markdown",
   "id": "58c224f1",
   "metadata": {},
   "source": [
    "En el análisis exploratorio se identifico que las variables tienen escalas muy diferentes, así mismo, aun que se eliminaron los valores atípicos, las distribuciones de los datos estan sesgadas positivamente, es decir tiene una cola a la derecha de la distribución. Dado esto, se decidió escalar los datos utilizando RobustScaler.\n",
    "\n",
    "El escalado de datos consiste en transformar las variables a una escala más reducida y manejable para los modelos de machine learning. RobustScaler es especialmente adecuado en presencia de valores atípicos o distribuciones con colas alargadas, ya que realiza la transformación utilizando la mediana y el rango intercuartílico (IQR). Matemáticamente, se define como:\n",
    "\n",
    "$RobustScaler = \\frac{X_i - \\text{mediana}}{\\text{IQR}}$\n",
    "\n",
    "Dicho esto, crearemos la función `escalar_datos` la cual resive un dataframe y lo escala utilizando RobustScaler()."
   ]
  },
  {
   "cell_type": "code",
   "execution_count": 49,
   "id": "b97dfe05",
   "metadata": {},
   "outputs": [],
   "source": [
    "from sklearn import preprocessing\n",
    "from sklearn.model_selection import train_test_split\n",
    "def escalar_datos(no_escalar,df):\n",
    "    X = df.drop(columns=no_escalar,axis=1)\n",
    "    y = df[no_escalar]\n",
    "    escalador = preprocessing.RobustScaler()\n",
    "    X_nor = pd.DataFrame(escalador.fit_transform(X),\n",
    "                         columns = X.columns,\n",
    "                         index=X.index)\n",
    "    dfnor = pd.concat([y,X_nor],axis=1)\n",
    "    return dfnor,escalador"
   ]
  },
  {
   "cell_type": "markdown",
   "id": "7c61e352",
   "metadata": {},
   "source": [
    "Dato que no todas las variables necesitan ser escaladas, seleccionemos aquellas características en la que sus datos están en el rango de 0 a 1."
   ]
  },
  {
   "cell_type": "code",
   "execution_count": 50,
   "id": "9c113cbb",
   "metadata": {},
   "outputs": [
    {
     "name": "stdout",
     "output_type": "stream",
     "text": [
      "['default_12m', 'Construcción', 'Manufactura', 'Retail', 'Servicios', 'Servicios Profesionales', 'T.I.', 'Tech', 'Tecnología', 'flag_ingresos_disponibles', 'flag_antiguedad']\n"
     ]
    }
   ],
   "source": [
    "# definimos las columnas que no se van a escalar\n",
    "no_escalar = [col for col in credit_data_platinum.columns if credit_data_platinum[col].max()==1 and credit_data_platinum[col].min()==0]\n",
    "print(no_escalar)"
   ]
  },
  {
   "cell_type": "markdown",
   "id": "4b767a36",
   "metadata": {},
   "source": [
    "Ahora si, escalemos los datos."
   ]
  },
  {
   "cell_type": "code",
   "execution_count": 52,
   "id": "f112e95c",
   "metadata": {},
   "outputs": [
    {
     "data": {
      "text/html": [
       "<div>\n",
       "<style scoped>\n",
       "    .dataframe tbody tr th:only-of-type {\n",
       "        vertical-align: middle;\n",
       "    }\n",
       "\n",
       "    .dataframe tbody tr th {\n",
       "        vertical-align: top;\n",
       "    }\n",
       "\n",
       "    .dataframe thead th {\n",
       "        text-align: right;\n",
       "    }\n",
       "</style>\n",
       "<table border=\"1\" class=\"dataframe\">\n",
       "  <thead>\n",
       "    <tr style=\"text-align: right;\">\n",
       "      <th></th>\n",
       "      <th>default_12m</th>\n",
       "      <th>Construcción</th>\n",
       "      <th>Manufactura</th>\n",
       "      <th>Retail</th>\n",
       "      <th>Servicios</th>\n",
       "      <th>Servicios Profesionales</th>\n",
       "      <th>T.I.</th>\n",
       "      <th>Tech</th>\n",
       "      <th>Tecnología</th>\n",
       "      <th>flag_ingresos_disponibles</th>\n",
       "      <th>flag_antiguedad</th>\n",
       "      <th>antiguedad_empresa_anos</th>\n",
       "      <th>ingresos_anuales_mxn</th>\n",
       "      <th>deuda_total_mxn</th>\n",
       "      <th>historial_pagos_atrasados</th>\n",
       "      <th>calificacion_buro</th>\n",
       "      <th>monto_solicitado_mxn</th>\n",
       "      <th>ratio_solicitud_ingresos</th>\n",
       "      <th>ratio_deuda_ingresos</th>\n",
       "      <th>carga_total_ingresos</th>\n",
       "    </tr>\n",
       "  </thead>\n",
       "  <tbody>\n",
       "    <tr>\n",
       "      <th>0</th>\n",
       "      <td>0</td>\n",
       "      <td>0</td>\n",
       "      <td>1</td>\n",
       "      <td>0</td>\n",
       "      <td>0</td>\n",
       "      <td>0</td>\n",
       "      <td>0</td>\n",
       "      <td>0</td>\n",
       "      <td>0</td>\n",
       "      <td>1</td>\n",
       "      <td>1</td>\n",
       "      <td>0.38</td>\n",
       "      <td>0.54</td>\n",
       "      <td>0.87</td>\n",
       "      <td>0.00</td>\n",
       "      <td>1.00</td>\n",
       "      <td>0.92</td>\n",
       "      <td>0.20</td>\n",
       "      <td>0.61</td>\n",
       "      <td>0.39</td>\n",
       "    </tr>\n",
       "    <tr>\n",
       "      <th>1</th>\n",
       "      <td>0</td>\n",
       "      <td>1</td>\n",
       "      <td>0</td>\n",
       "      <td>0</td>\n",
       "      <td>0</td>\n",
       "      <td>0</td>\n",
       "      <td>0</td>\n",
       "      <td>0</td>\n",
       "      <td>0</td>\n",
       "      <td>1</td>\n",
       "      <td>1</td>\n",
       "      <td>-0.14</td>\n",
       "      <td>-0.53</td>\n",
       "      <td>-0.57</td>\n",
       "      <td>2.00</td>\n",
       "      <td>0.50</td>\n",
       "      <td>0.35</td>\n",
       "      <td>2.24</td>\n",
       "      <td>-1.37</td>\n",
       "      <td>0.60</td>\n",
       "    </tr>\n",
       "    <tr>\n",
       "      <th>2</th>\n",
       "      <td>0</td>\n",
       "      <td>0</td>\n",
       "      <td>0</td>\n",
       "      <td>0</td>\n",
       "      <td>0</td>\n",
       "      <td>1</td>\n",
       "      <td>0</td>\n",
       "      <td>0</td>\n",
       "      <td>0</td>\n",
       "      <td>1</td>\n",
       "      <td>1</td>\n",
       "      <td>0.52</td>\n",
       "      <td>0.38</td>\n",
       "      <td>0.42</td>\n",
       "      <td>0.00</td>\n",
       "      <td>0.00</td>\n",
       "      <td>0.35</td>\n",
       "      <td>0.02</td>\n",
       "      <td>0.05</td>\n",
       "      <td>-0.08</td>\n",
       "    </tr>\n",
       "    <tr>\n",
       "      <th>3</th>\n",
       "      <td>0</td>\n",
       "      <td>0</td>\n",
       "      <td>0</td>\n",
       "      <td>1</td>\n",
       "      <td>0</td>\n",
       "      <td>0</td>\n",
       "      <td>0</td>\n",
       "      <td>0</td>\n",
       "      <td>0</td>\n",
       "      <td>1</td>\n",
       "      <td>1</td>\n",
       "      <td>1.64</td>\n",
       "      <td>-0.62</td>\n",
       "      <td>-0.53</td>\n",
       "      <td>0.00</td>\n",
       "      <td>0.00</td>\n",
       "      <td>-0.20</td>\n",
       "      <td>1.93</td>\n",
       "      <td>0.43</td>\n",
       "      <td>1.49</td>\n",
       "    </tr>\n",
       "    <tr>\n",
       "      <th>4</th>\n",
       "      <td>0</td>\n",
       "      <td>0</td>\n",
       "      <td>0</td>\n",
       "      <td>1</td>\n",
       "      <td>0</td>\n",
       "      <td>0</td>\n",
       "      <td>0</td>\n",
       "      <td>0</td>\n",
       "      <td>0</td>\n",
       "      <td>1</td>\n",
       "      <td>1</td>\n",
       "      <td>-0.20</td>\n",
       "      <td>0.70</td>\n",
       "      <td>1.54</td>\n",
       "      <td>1.00</td>\n",
       "      <td>-1.00</td>\n",
       "      <td>0.40</td>\n",
       "      <td>-0.07</td>\n",
       "      <td>1.40</td>\n",
       "      <td>0.69</td>\n",
       "    </tr>\n",
       "  </tbody>\n",
       "</table>\n",
       "</div>"
      ],
      "text/plain": [
       "   default_12m  Construcción  Manufactura  Retail  Servicios  \\\n",
       "0            0             0            1       0          0   \n",
       "1            0             1            0       0          0   \n",
       "2            0             0            0       0          0   \n",
       "3            0             0            0       1          0   \n",
       "4            0             0            0       1          0   \n",
       "\n",
       "   Servicios Profesionales  T.I.  Tech  Tecnología  flag_ingresos_disponibles  \\\n",
       "0                        0     0     0           0                          1   \n",
       "1                        0     0     0           0                          1   \n",
       "2                        1     0     0           0                          1   \n",
       "3                        0     0     0           0                          1   \n",
       "4                        0     0     0           0                          1   \n",
       "\n",
       "   flag_antiguedad  antiguedad_empresa_anos  ingresos_anuales_mxn  \\\n",
       "0                1                     0.38                  0.54   \n",
       "1                1                    -0.14                 -0.53   \n",
       "2                1                     0.52                  0.38   \n",
       "3                1                     1.64                 -0.62   \n",
       "4                1                    -0.20                  0.70   \n",
       "\n",
       "   deuda_total_mxn  historial_pagos_atrasados  calificacion_buro  \\\n",
       "0             0.87                       0.00               1.00   \n",
       "1            -0.57                       2.00               0.50   \n",
       "2             0.42                       0.00               0.00   \n",
       "3            -0.53                       0.00               0.00   \n",
       "4             1.54                       1.00              -1.00   \n",
       "\n",
       "   monto_solicitado_mxn  ratio_solicitud_ingresos  ratio_deuda_ingresos  \\\n",
       "0                  0.92                      0.20                  0.61   \n",
       "1                  0.35                      2.24                 -1.37   \n",
       "2                  0.35                      0.02                  0.05   \n",
       "3                 -0.20                      1.93                  0.43   \n",
       "4                  0.40                     -0.07                  1.40   \n",
       "\n",
       "   carga_total_ingresos  \n",
       "0                  0.39  \n",
       "1                  0.60  \n",
       "2                 -0.08  \n",
       "3                  1.49  \n",
       "4                  0.69  "
      ]
     },
     "execution_count": 52,
     "metadata": {},
     "output_type": "execute_result"
    }
   ],
   "source": [
    "df = credit_data_platinum.select_dtypes(include=['number'])\n",
    "df_esc,esc_df = escalar_datos(no_escalar,\n",
    "                          df = df)\n",
    "df_esc.head()\n"
   ]
  },
  {
   "cell_type": "markdown",
   "id": "e55ce2b1",
   "metadata": {},
   "source": [
    "Con estos datos escalados, veamos como se comportan los modelos en su estado por defecto. "
   ]
  },
  {
   "cell_type": "code",
   "execution_count": 59,
   "id": "480ec3ca",
   "metadata": {},
   "outputs": [
    {
     "name": "stdout",
     "output_type": "stream",
     "text": [
      "                            Model  Accuracy  Precision  Recall  F1-Score\n",
      "0  HistGradientBoostingClassifier      0.91       0.90    0.91      0.90\n",
      "2          RandomForestClassifier      0.91       0.87    0.91      0.88\n",
      "3                   XGBClassifier      0.90       0.90    0.90      0.90\n",
      "1          DecisionTreeClassifier      0.84       0.89    0.84      0.86\n"
     ]
    }
   ],
   "source": [
    "from sklearn.ensemble import RandomForestClassifier, HistGradientBoostingClassifier\n",
    "from sklearn.tree import DecisionTreeClassifier\n",
    "from xgboost import XGBClassifier\n",
    "from sklearn.model_selection import train_test_split\n",
    "from sklearn.metrics import accuracy_score, precision_score, recall_score, f1_score\n",
    "\n",
    "# Variables dependientes e independientes\n",
    "independientes = df_esc.drop(columns=['default_12m'], axis=1) \n",
    "objetivo = df_esc['default_12m']  \n",
    "X_train, X_test, Y_train, Y_test = train_test_split(\n",
    "    independientes,\n",
    "    objetivo,\n",
    "    test_size=0.2,\n",
    "    random_state=42,\n",
    "    shuffle=True\n",
    ")\n",
    "\n",
    "def model(Y_test, Y_train, X_test, X_train, model):\n",
    "    model_instance = model()\n",
    "    model_instance.fit(X_train, Y_train)\n",
    "    y_pred = model_instance.predict(X_test)\n",
    "\n",
    "    # Métricas\n",
    "    acc = accuracy_score(Y_test, y_pred)\n",
    "    prec = precision_score(Y_test, y_pred, average='weighted', zero_division=0)\n",
    "    rec = recall_score(Y_test, y_pred, average='weighted')\n",
    "    f1 = f1_score(Y_test, y_pred, average='weighted')\n",
    "    results = {\n",
    "        'Model': model.__name__,\n",
    "        'Accuracy': round(acc, 4),\n",
    "        'Precision': round(prec, 4),\n",
    "        'Recall': round(rec, 4),\n",
    "        'F1-Score': round(f1, 4)\n",
    "    }\n",
    "    \n",
    "    return model_instance, results\n",
    "\n",
    "# Modelos que soportan NaNs nativamente\n",
    "models = [\n",
    "    HistGradientBoostingClassifier,\n",
    "    DecisionTreeClassifier,\n",
    "    RandomForestClassifier,\n",
    "    XGBClassifier,\n",
    "]\n",
    "\n",
    "trained_models = []\n",
    "results_list = []\n",
    "\n",
    "for model_class in models:\n",
    "    model_instance, results = model(Y_test, Y_train, X_test, X_train, model_class)\n",
    "    trained_models.append(model_instance)\n",
    "    results_list.append(results)\n",
    "\n",
    "# DataFrame de resultados\n",
    "results_df = pd.DataFrame(results_list)\n",
    "\n",
    "# Ordenar por Accuracy\n",
    "results_df = results_df.sort_values('Accuracy', ascending=False)\n",
    "print(results_df)\n",
    "\n"
   ]
  },
  {
   "cell_type": "markdown",
   "id": "2dea846f",
   "metadata": {},
   "source": [
    "Podemos observar que los modelos muestran un buen ajuste a los datos; sin embargo, existe un problema importante: **las clases están fuertemente desbalanceadas**. Esto provoca que los modelos tiendan a sesgarse hacia la clase mayoritaria, que en este caso corresponde a la clase 0 (clientes que no han incumplido).\n",
    "\n",
    "Si recordamos, el objetivo es “desarrollar un modelo predictivo que estime la probabilidad de que un nuevo solicitante de crédito PYME incurra en incumplimiento dentro de los siguientes 12 meses”. Bajo este escenario, los modelos entrenados hasta ahora son efectivos para identificar a quienes no incumplen, pero presentan pueden presentar dificultades al predecir a los clientes que sí lo hacen.\n",
    "\n",
    "Por lo tanto, es necesario abordar este inconveniente. Una de las estrategias más adecuadas en este punto es aplicar técnicas de balanceo de clases para mejorar la capacidad predictiva del modelo frente a la clase minoritaria."
   ]
  },
  {
   "cell_type": "markdown",
   "id": "fe5dfddc",
   "metadata": {},
   "source": [
    "# Balanceo de clases"
   ]
  }
 ],
 "metadata": {
  "kernelspec": {
   "display_name": "ML",
   "language": "python",
   "name": "python3"
  },
  "language_info": {
   "codemirror_mode": {
    "name": "ipython",
    "version": 3
   },
   "file_extension": ".py",
   "mimetype": "text/x-python",
   "name": "python",
   "nbconvert_exporter": "python",
   "pygments_lexer": "ipython3",
   "version": "3.12.11"
  }
 },
 "nbformat": 4,
 "nbformat_minor": 5
}
